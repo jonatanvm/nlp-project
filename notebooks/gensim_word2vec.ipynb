{
 "cells": [
  {
   "cell_type": "markdown",
   "metadata": {
    "_uuid": "84163f3ca19c0b7c9fda47121b3bc4cadfaf1fcc"
   },
   "source": [
    "# Gensim Word2Vec"
   ]
  },
  {
   "cell_type": "code",
   "execution_count": 1,
   "metadata": {
    "_uuid": "cc7b3e6ca62670ff13626705402f626778487204"
   },
   "outputs": [],
   "source": [
    "import re  # For preprocessing\n",
    "import pandas as pd  # For data handling\n",
    "from time import time  # To time our operations\n",
    "from collections import defaultdict  # For word frequency\n",
    "\n",
    "import spacy  # For preprocessing"
   ]
  },
  {
   "cell_type": "code",
   "execution_count": 2,
   "metadata": {},
   "outputs": [
    {
     "data": {
      "text/plain": [
       "'/Users/Salla/Dropbox (Aalto)/korp files/nlp-project/notebooks'"
      ]
     },
     "execution_count": 2,
     "metadata": {},
     "output_type": "execute_result"
    }
   ],
   "source": [
    "import os\n",
    "cwd = os.getcwd()\n",
    "cwd"
   ]
  },
  {
   "cell_type": "code",
   "execution_count": 3,
   "metadata": {
    "_uuid": "6453b9c3f797e51923e030090ead659253f4e459"
   },
   "outputs": [
    {
     "data": {
      "text/plain": [
       "(50000, 4)"
      ]
     },
     "execution_count": 3,
     "metadata": {},
     "output_type": "execute_result"
    }
   ],
   "source": [
    "df = pd.read_csv(\"../output/speeches-1.csv\", delimiter=\"|\", lineterminator=\"\\n\")\n",
    "df.shape"
   ]
  },
  {
   "cell_type": "code",
   "execution_count": 4,
   "metadata": {
    "_uuid": "c6c6bf4462fb4bc00c2abdbf65eced888219f364"
   },
   "outputs": [
    {
     "data": {
      "text/html": [
       "<div>\n",
       "<style scoped>\n",
       "    .dataframe tbody tr th:only-of-type {\n",
       "        vertical-align: middle;\n",
       "    }\n",
       "\n",
       "    .dataframe tbody tr th {\n",
       "        vertical-align: top;\n",
       "    }\n",
       "\n",
       "    .dataframe thead th {\n",
       "        text-align: right;\n",
       "    }\n",
       "</style>\n",
       "<table border=\"1\" class=\"dataframe\">\n",
       "  <thead>\n",
       "    <tr style=\"text-align: right;\">\n",
       "      <th></th>\n",
       "      <th>Unnamed: 0</th>\n",
       "      <th>speaker</th>\n",
       "      <th>date</th>\n",
       "      <th>speech</th>\n",
       "    </tr>\n",
       "  </thead>\n",
       "  <tbody>\n",
       "    <tr>\n",
       "      <th>0</th>\n",
       "      <td>0</td>\n",
       "      <td>Maria Lohela</td>\n",
       "      <td>2015-11-06</td>\n",
       "      <td>Ensimmäiseen käsittelyyn esitellään päiväjärje...</td>\n",
       "    </tr>\n",
       "    <tr>\n",
       "      <th>1</th>\n",
       "      <td>1</td>\n",
       "      <td>Timo Heinonen (kok)</td>\n",
       "      <td>2015-11-06</td>\n",
       "      <td>Arvoisa rouva puhemies! Tässä hallituksen esit...</td>\n",
       "    </tr>\n",
       "    <tr>\n",
       "      <th>2</th>\n",
       "      <td>2</td>\n",
       "      <td>Mikko Kärnä (kesk)</td>\n",
       "      <td>2015-11-06</td>\n",
       "      <td>Arvoisa rouva puhemies! Edustaja Heinonen käyt...</td>\n",
       "    </tr>\n",
       "    <tr>\n",
       "      <th>3</th>\n",
       "      <td>3</td>\n",
       "      <td>Markus Mustajärvi (vas)</td>\n",
       "      <td>2015-11-06</td>\n",
       "      <td>Arvoisa puhemies! Edustaja Heinosella ja edust...</td>\n",
       "    </tr>\n",
       "    <tr>\n",
       "      <th>4</th>\n",
       "      <td>4</td>\n",
       "      <td>Anne Kalmari (kesk)</td>\n",
       "      <td>2015-11-06</td>\n",
       "      <td>Arvoisa rouva puhemies! Edustajat Heinonen, Kä...</td>\n",
       "    </tr>\n",
       "  </tbody>\n",
       "</table>\n",
       "</div>"
      ],
      "text/plain": [
       "   Unnamed: 0                  speaker        date  \\\n",
       "0           0             Maria Lohela  2015-11-06   \n",
       "1           1      Timo Heinonen (kok)  2015-11-06   \n",
       "2           2       Mikko Kärnä (kesk)  2015-11-06   \n",
       "3           3  Markus Mustajärvi (vas)  2015-11-06   \n",
       "4           4      Anne Kalmari (kesk)  2015-11-06   \n",
       "\n",
       "                                              speech  \n",
       "0  Ensimmäiseen käsittelyyn esitellään päiväjärje...  \n",
       "1  Arvoisa rouva puhemies! Tässä hallituksen esit...  \n",
       "2  Arvoisa rouva puhemies! Edustaja Heinonen käyt...  \n",
       "3  Arvoisa puhemies! Edustaja Heinosella ja edust...  \n",
       "4  Arvoisa rouva puhemies! Edustajat Heinonen, Kä...  "
      ]
     },
     "execution_count": 4,
     "metadata": {},
     "output_type": "execute_result"
    }
   ],
   "source": [
    "df.head()"
   ]
  },
  {
   "cell_type": "code",
   "execution_count": 5,
   "metadata": {
    "_uuid": "82cb38f176526679f66ee31e11cfe4f5eebdab51"
   },
   "outputs": [
    {
     "data": {
      "text/plain": [
       "Unnamed: 0    0\n",
       "speaker       0\n",
       "date          0\n",
       "speech        0\n",
       "dtype: int64"
      ]
     },
     "execution_count": 5,
     "metadata": {},
     "output_type": "execute_result"
    }
   ],
   "source": [
    "df = df.dropna().reset_index(drop=True)\n",
    "df.isnull().sum()"
   ]
  },
  {
   "cell_type": "markdown",
   "metadata": {
    "_uuid": "7f07dca2a2656dcd9e0c315afa36af32a992eef7"
   },
   "source": [
    "## Cleaning:"
   ]
  },
  {
   "cell_type": "code",
   "execution_count": 6,
   "metadata": {
    "_uuid": "b26a0c01c5701630d3951cfc808a9d944eea6371"
   },
   "outputs": [
    {
     "name": "stdout",
     "output_type": "stream",
     "text": [
      "Time to clean up everything: 2.28 mins\n"
     ]
    },
    {
     "data": {
      "text/plain": [
       "(46336, 1)"
      ]
     },
     "execution_count": 6,
     "metadata": {},
     "output_type": "execute_result"
    }
   ],
   "source": [
    "# https://spacy.io/usage/models\n",
    "nlp = spacy.load('xx_ent_wiki_sm', disable=['ner', 'parser']) # disabling Named Entity Recognition for speed\n",
    "\n",
    "def cleaning(doc):\n",
    "    # Lemmatizes and removes stopwords\n",
    "    # doc needs to be a spacy Doc object\n",
    "    txt = [token.lemma_ for token in doc if not token.is_stop]\n",
    "    # Word2Vec uses context words to learn the vector representation of a target word,\n",
    "    # if a sentence is only one or two words long,\n",
    "    # the benefit for the training is very small\n",
    "    if len(txt) > 2:\n",
    "        return ' '.join(txt)\n",
    "    \n",
    "brief_cleaning = (re.sub(\"^([A-Z]|Å|Ä|Ö)[a-zåäö]+$\", ' ', str(row)).lower() for row in df['speech'])\n",
    "\n",
    "t = time()\n",
    "\n",
    "txt = [cleaning(doc) for doc in nlp.pipe(brief_cleaning, batch_size=5000, n_threads=-1)]\n",
    "\n",
    "print('Time to clean up everything: {} mins'.format(round((time() - t) / 60, 2)))\n",
    "\n",
    "df_clean = pd.DataFrame({'clean': txt})\n",
    "df_clean = df_clean.dropna().drop_duplicates()\n",
    "df_clean.shape"
   ]
  },
  {
   "cell_type": "markdown",
   "metadata": {
    "_uuid": "31b4a744059df490ddb47ab6cdec008dc929ede3"
   },
   "source": [
    "## Bigrams:"
   ]
  },
  {
   "cell_type": "code",
   "execution_count": 7,
   "metadata": {
    "_uuid": "af6d420284a0ff7a7407d4c526754ffe850d6170"
   },
   "outputs": [],
   "source": [
    "from gensim.models.phrases import Phrases, Phraser"
   ]
  },
  {
   "cell_type": "markdown",
   "metadata": {
    "_uuid": "788aec3c82788101db25d4ca6105ee133fecae7c"
   },
   "source": [
    "As `Phrases()` takes a list of list of words as input:"
   ]
  },
  {
   "cell_type": "code",
   "execution_count": 8,
   "metadata": {
    "_uuid": "f58487ff08d8812622fd7aef36139f1c850add18"
   },
   "outputs": [],
   "source": [
    "sent = [row.split() for row in df_clean['clean']]"
   ]
  },
  {
   "cell_type": "markdown",
   "metadata": {
    "_uuid": "bb7766b322cbc1d3381912b890585eb249ac5304"
   },
   "source": [
    "Creates the relevant phrases from the list of sentences:"
   ]
  },
  {
   "cell_type": "code",
   "execution_count": 9,
   "metadata": {
    "_uuid": "8befad8c76c54bd2b831b0942a2f626f7d8a6dac"
   },
   "outputs": [],
   "source": [
    "phrases = Phrases(sent, min_count=30, progress_per=10000)"
   ]
  },
  {
   "cell_type": "markdown",
   "metadata": {
    "_uuid": "45bae4a953f2ad8951e4efb234e1e357857a33b3"
   },
   "source": [
    "The goal of Phraser() is to cut down memory consumption of Phrases(), by discarding model state not strictly needed for the bigram detection task:"
   ]
  },
  {
   "cell_type": "code",
   "execution_count": 18,
   "metadata": {
    "_kg_hide-input": true,
    "_uuid": "b8ae81ba230013aefe7c584338de7376fedf6294"
   },
   "outputs": [
    {
     "name": "stderr",
     "output_type": "stream",
     "text": [
      "INFO - 21:55:32: source_vocab length 3463739\n",
      "INFO - 21:56:09: Phraser built with 5369 phrasegrams\n"
     ]
    }
   ],
   "source": [
    "bigram = Phraser(phrases)"
   ]
  },
  {
   "cell_type": "markdown",
   "metadata": {
    "_uuid": "4a58380f19d159688aeee665d1afb96289fdd4b8"
   },
   "source": [
    "Transform the corpus based on the bigrams detected:"
   ]
  },
  {
   "cell_type": "code",
   "execution_count": 20,
   "metadata": {
    "_uuid": "8051b56890c147119db3df529d3cfd3cf675fdca"
   },
   "outputs": [],
   "source": [
    "sentences = bigram[sent]"
   ]
  },
  {
   "cell_type": "markdown",
   "metadata": {
    "_uuid": "a4f81e8bb2c09a67b00cd24db28353eca8ae188c"
   },
   "source": [
    "## Most Frequent Words:\n",
    "Mainly a sanity check of the effectiveness of the lemmatization, removal of stopwords, and addition of bigrams."
   ]
  },
  {
   "cell_type": "code",
   "execution_count": 21,
   "metadata": {
    "_uuid": "eeb8afe1cfcb7ba65bd14d657455600acacf39ba"
   },
   "outputs": [
    {
     "data": {
      "text/plain": [
       "355922"
      ]
     },
     "execution_count": 21,
     "metadata": {},
     "output_type": "execute_result"
    }
   ],
   "source": [
    "word_freq = defaultdict(int)\n",
    "for sent in sentences:\n",
    "    for i in sent:\n",
    "        word_freq[i] += 1\n",
    "len(word_freq)"
   ]
  },
  {
   "cell_type": "code",
   "execution_count": 22,
   "metadata": {
    "_uuid": "5b010149150b2b2eaf332d79bcde0649b8a3c2b5"
   },
   "outputs": [
    {
     "data": {
      "text/plain": [
       "[',', '.', 'on', 'ja', 'että', 'se', 'tämä', 'myös', 'nyt', 'niin']"
      ]
     },
     "execution_count": 22,
     "metadata": {},
     "output_type": "execute_result"
    }
   ],
   "source": [
    "sorted(word_freq, key=word_freq.get, reverse=True)[:10]"
   ]
  },
  {
   "cell_type": "markdown",
   "metadata": {
    "_uuid": "500ab7b5c84dc006d7945f339c40725a82856fdf"
   },
   "source": [
    "# Training the model\n",
    "## Gensim Word2Vec Implementation:"
   ]
  },
  {
   "cell_type": "code",
   "execution_count": 23,
   "metadata": {
    "_uuid": "3269be205cadbad499aa87890893d92da6adc796"
   },
   "outputs": [],
   "source": [
    "import multiprocessing\n",
    "\n",
    "from gensim.models import Word2Vec"
   ]
  },
  {
   "cell_type": "markdown",
   "metadata": {
    "_uuid": "7c524bc49c41a6c37f9e754a38797c9501202090"
   },
   "source": [
    "## Why I seperate the training of the model in 3 steps:\n",
    "I prefer to separate the training in 3 distinctive steps for clarity and monitoring.\n",
    "1. `Word2Vec()`: \n",
    ">In this first step, I set up the parameters of the model one-by-one. <br>I do not supply the parameter `sentences`, and therefore leave the model uninitialized, purposefully.\n",
    "2. `.build_vocab()`: \n",
    ">Here it builds the vocabulary from a sequence of sentences and thus initialized the model. <br>With the loggings, I can follow the progress and even more important, the effect of `min_count` and `sample` on the word corpus. I noticed that these two parameters, and in particular `sample`, have a great influence over the performance of a model. Displaying both allows for a more accurate and an easier management of their influence.\n",
    "3. `.train()`:\n",
    ">Finally, trains the model.<br>\n",
    "The loggings here are mainly useful for monitoring, making sure that no threads are executed instantaneously."
   ]
  },
  {
   "cell_type": "code",
   "execution_count": 24,
   "metadata": {
    "_uuid": "03488d9b68963579c96094aca88a302c9f2753a7"
   },
   "outputs": [],
   "source": [
    "cores = multiprocessing.cpu_count() # Count the number of cores in a computer"
   ]
  },
  {
   "cell_type": "markdown",
   "metadata": {
    "_uuid": "89c305fcd163488441ac2ac6133678bd973b4419"
   },
   "source": [
    "## The parameters:\n",
    "\n",
    "* `min_count` <font color='purple'>=</font> <font color='green'>int</font> - Ignores all words with total absolute frequency lower than this - (2, 100)\n",
    "\n",
    "\n",
    "* `window` <font color='purple'>=</font> <font color='green'>int</font> - The maximum distance between the current and predicted word within a sentence. E.g. `window` words on the left and `window` words on the left of our target - (2, 10)\n",
    "\n",
    "\n",
    "* `size` <font color='purple'>=</font> <font color='green'>int</font> - Dimensionality of the feature vectors. - (50, 300)\n",
    "\n",
    "\n",
    "* `sample` <font color='purple'>=</font> <font color='green'>float</font> - The threshold for configuring which higher-frequency words are randomly downsampled. Highly influencial.  - (0, 1e-5)\n",
    "\n",
    "\n",
    "* `alpha` <font color='purple'>=</font> <font color='green'>float</font> - The initial learning rate - (0.01, 0.05)\n",
    "\n",
    "\n",
    "* `min_alpha` <font color='purple'>=</font> <font color='green'>float</font> - Learning rate will linearly drop to `min_alpha` as training progresses. To set it: alpha - (min_alpha * epochs) ~ 0.00\n",
    "\n",
    "\n",
    "* `negative` <font color='purple'>=</font> <font color='green'>int</font> - If > 0, negative sampling will be used, the int for negative specifies how many \"noise words\" should be drown. If set to 0, no negative sampling is used. - (5, 20)\n",
    "\n",
    "\n",
    "* `workers` <font color='purple'>=</font> <font color='green'>int</font> - Use these many worker threads to train the model (=faster training with multicore machines)"
   ]
  },
  {
   "cell_type": "code",
   "execution_count": 25,
   "metadata": {
    "_uuid": "ad619db82c219d6cb81fad516563feb0c4d474cd"
   },
   "outputs": [],
   "source": [
    "w2v_model = Word2Vec(min_count=20,\n",
    "                     window=2,\n",
    "                     size=300,\n",
    "                     sample=6e-5, \n",
    "                     alpha=0.03, \n",
    "                     min_alpha=0.0007, \n",
    "                     negative=20,\n",
    "                     workers=cores-1)"
   ]
  },
  {
   "cell_type": "markdown",
   "metadata": {
    "_uuid": "d7e9f1bd338f9e15647b5209ffd8fbb131cd7ee5"
   },
   "source": [
    "## Building the Vocabulary Table:\n",
    "Word2Vec requires us to build the vocabulary table (simply digesting all the words and filtering out the unique words, and doing some basic counts on them):"
   ]
  },
  {
   "cell_type": "code",
   "execution_count": 26,
   "metadata": {
    "_uuid": "66358ad743e05e17dfbed3899af9c41056143daa"
   },
   "outputs": [
    {
     "name": "stderr",
     "output_type": "stream",
     "text": [
      "INFO - 21:57:12: collecting all words and their counts\n",
      "INFO - 21:57:12: PROGRESS: at sentence #0, processed 0 words, keeping 0 word types\n",
      "INFO - 21:57:16: PROGRESS: at sentence #10000, processed 1648110 words, keeping 120057 word types\n",
      "INFO - 21:57:22: PROGRESS: at sentence #20000, processed 3523715 words, keeping 199176 word types\n",
      "INFO - 21:57:28: PROGRESS: at sentence #30000, processed 5709299 words, keeping 274063 word types\n",
      "INFO - 21:57:33: PROGRESS: at sentence #40000, processed 7578122 words, keeping 323301 word types\n",
      "INFO - 21:57:37: collected 355922 word types from a corpus of 8903225 raw words and 46336 sentences\n",
      "INFO - 21:57:37: Loading a fresh vocabulary\n",
      "INFO - 21:57:37: effective_min_count=20 retains 32052 unique words (9% of original 355922, drops 323870)\n",
      "INFO - 21:57:37: effective_min_count=20 leaves 8036591 word corpus (90% of original 8903225, drops 866634)\n",
      "INFO - 21:57:37: deleting the raw counts dictionary of 355922 items\n",
      "INFO - 21:57:37: sample=6e-05 downsamples 559 most-common words\n",
      "INFO - 21:57:37: downsampling leaves estimated 4337247 word corpus (54.0% of prior 8036591)\n",
      "INFO - 21:57:37: estimated required memory for 32052 words and 300 dimensions: 92950800 bytes\n",
      "INFO - 21:57:37: resetting layer weights\n"
     ]
    },
    {
     "name": "stdout",
     "output_type": "stream",
     "text": [
      "Time to build vocab: 0.43 mins\n"
     ]
    }
   ],
   "source": [
    "t = time()\n",
    "\n",
    "w2v_model.build_vocab(sentences, progress_per=10000)\n",
    "\n",
    "print('Time to build vocab: {} mins'.format(round((time() - t) / 60, 2)))"
   ]
  },
  {
   "cell_type": "markdown",
   "metadata": {
    "_uuid": "63260d82061abb47db7f2f8b23e07ec629adf5a9"
   },
   "source": [
    "## Training of the model:\n",
    "_Parameters of the training:_\n",
    "* `total_examples` <font color='purple'>=</font> <font color='green'>int</font> - Count of sentences;\n",
    "* `epochs` <font color='purple'>=</font> <font color='green'>int</font> - Number of iterations (epochs) over the corpus - [10, 20, 30]"
   ]
  },
  {
   "cell_type": "code",
   "execution_count": 27,
   "metadata": {
    "_uuid": "07a2a047e701e512fd758edff186daadaeea6461"
   },
   "outputs": [
    {
     "name": "stderr",
     "output_type": "stream",
     "text": [
      "INFO - 22:00:17: training model with 11 workers on 32052 vocabulary and 300 features, using sg=0 hs=0 sample=6e-05 negative=20 window=2\n",
      "INFO - 22:00:18: EPOCH 1 - PROGRESS: at 4.05% examples, 132517 words/s, in_qsize 0, out_qsize 0\n",
      "INFO - 22:00:19: EPOCH 1 - PROGRESS: at 7.80% examples, 135845 words/s, in_qsize 0, out_qsize 0\n",
      "INFO - 22:00:20: EPOCH 1 - PROGRESS: at 11.32% examples, 135189 words/s, in_qsize 0, out_qsize 0\n",
      "INFO - 22:00:21: EPOCH 1 - PROGRESS: at 14.49% examples, 133514 words/s, in_qsize 0, out_qsize 0\n",
      "INFO - 22:00:22: EPOCH 1 - PROGRESS: at 18.19% examples, 135057 words/s, in_qsize 0, out_qsize 0\n",
      "INFO - 22:00:23: EPOCH 1 - PROGRESS: at 21.91% examples, 135692 words/s, in_qsize 0, out_qsize 0\n",
      "INFO - 22:00:24: EPOCH 1 - PROGRESS: at 24.86% examples, 134488 words/s, in_qsize 0, out_qsize 0\n",
      "INFO - 22:00:25: EPOCH 1 - PROGRESS: at 28.13% examples, 134325 words/s, in_qsize 0, out_qsize 0\n",
      "INFO - 22:00:26: EPOCH 1 - PROGRESS: at 31.26% examples, 134261 words/s, in_qsize 0, out_qsize 0\n",
      "INFO - 22:00:27: EPOCH 1 - PROGRESS: at 34.49% examples, 134193 words/s, in_qsize 0, out_qsize 0\n",
      "INFO - 22:00:29: EPOCH 1 - PROGRESS: at 37.71% examples, 133984 words/s, in_qsize 0, out_qsize 0\n",
      "INFO - 22:00:30: EPOCH 1 - PROGRESS: at 40.85% examples, 133820 words/s, in_qsize 0, out_qsize 0\n",
      "INFO - 22:00:31: EPOCH 1 - PROGRESS: at 44.01% examples, 133779 words/s, in_qsize 0, out_qsize 0\n",
      "INFO - 22:00:32: EPOCH 1 - PROGRESS: at 46.78% examples, 133903 words/s, in_qsize 1, out_qsize 0\n",
      "INFO - 22:00:33: EPOCH 1 - PROGRESS: at 49.69% examples, 133952 words/s, in_qsize 0, out_qsize 0\n",
      "INFO - 22:00:34: EPOCH 1 - PROGRESS: at 52.49% examples, 133963 words/s, in_qsize 0, out_qsize 0\n",
      "INFO - 22:00:35: EPOCH 1 - PROGRESS: at 55.60% examples, 134283 words/s, in_qsize 0, out_qsize 0\n",
      "INFO - 22:00:36: EPOCH 1 - PROGRESS: at 58.52% examples, 134170 words/s, in_qsize 0, out_qsize 0\n",
      "INFO - 22:00:37: EPOCH 1 - PROGRESS: at 60.99% examples, 134038 words/s, in_qsize 0, out_qsize 0\n",
      "INFO - 22:00:38: EPOCH 1 - PROGRESS: at 63.63% examples, 133862 words/s, in_qsize 1, out_qsize 0\n",
      "INFO - 22:00:39: EPOCH 1 - PROGRESS: at 66.56% examples, 133925 words/s, in_qsize 0, out_qsize 0\n",
      "INFO - 22:00:40: EPOCH 1 - PROGRESS: at 69.82% examples, 133931 words/s, in_qsize 0, out_qsize 0\n",
      "INFO - 22:00:41: EPOCH 1 - PROGRESS: at 73.42% examples, 133883 words/s, in_qsize 0, out_qsize 0\n",
      "INFO - 22:00:42: EPOCH 1 - PROGRESS: at 76.68% examples, 133606 words/s, in_qsize 0, out_qsize 0\n",
      "INFO - 22:00:43: EPOCH 1 - PROGRESS: at 80.04% examples, 133556 words/s, in_qsize 0, out_qsize 0\n",
      "INFO - 22:00:44: EPOCH 1 - PROGRESS: at 83.03% examples, 133737 words/s, in_qsize 0, out_qsize 0\n",
      "INFO - 22:00:45: EPOCH 1 - PROGRESS: at 86.07% examples, 133887 words/s, in_qsize 0, out_qsize 0\n",
      "INFO - 22:00:46: EPOCH 1 - PROGRESS: at 88.93% examples, 133792 words/s, in_qsize 0, out_qsize 0\n",
      "INFO - 22:00:47: EPOCH 1 - PROGRESS: at 91.57% examples, 133961 words/s, in_qsize 0, out_qsize 0\n",
      "INFO - 22:00:48: EPOCH 1 - PROGRESS: at 94.41% examples, 134091 words/s, in_qsize 0, out_qsize 0\n",
      "INFO - 22:00:49: EPOCH 1 - PROGRESS: at 97.34% examples, 134105 words/s, in_qsize 0, out_qsize 0\n",
      "INFO - 22:00:50: worker thread finished; awaiting finish of 10 more threads\n",
      "INFO - 22:00:50: worker thread finished; awaiting finish of 9 more threads\n",
      "INFO - 22:00:50: worker thread finished; awaiting finish of 8 more threads\n",
      "INFO - 22:00:50: worker thread finished; awaiting finish of 7 more threads\n",
      "INFO - 22:00:50: worker thread finished; awaiting finish of 6 more threads\n",
      "INFO - 22:00:50: worker thread finished; awaiting finish of 5 more threads\n",
      "INFO - 22:00:50: worker thread finished; awaiting finish of 4 more threads\n",
      "INFO - 22:00:50: worker thread finished; awaiting finish of 3 more threads\n",
      "INFO - 22:00:50: worker thread finished; awaiting finish of 2 more threads\n",
      "INFO - 22:00:50: worker thread finished; awaiting finish of 1 more threads\n",
      "INFO - 22:00:50: worker thread finished; awaiting finish of 0 more threads\n",
      "INFO - 22:00:50: EPOCH - 1 : training on 8903225 raw words (4338140 effective words) took 32.3s, 134140 effective words/s\n",
      "INFO - 22:00:51: EPOCH 2 - PROGRESS: at 4.05% examples, 132786 words/s, in_qsize 0, out_qsize 0\n",
      "INFO - 22:00:52: EPOCH 2 - PROGRESS: at 7.72% examples, 131894 words/s, in_qsize 0, out_qsize 0\n",
      "INFO - 22:00:53: EPOCH 2 - PROGRESS: at 11.32% examples, 134476 words/s, in_qsize 1, out_qsize 0\n",
      "INFO - 22:00:54: EPOCH 2 - PROGRESS: at 14.73% examples, 135155 words/s, in_qsize 0, out_qsize 0\n",
      "INFO - 22:00:55: EPOCH 2 - PROGRESS: at 18.28% examples, 135774 words/s, in_qsize 0, out_qsize 0\n",
      "INFO - 22:00:56: EPOCH 2 - PROGRESS: at 22.01% examples, 136525 words/s, in_qsize 0, out_qsize 0\n",
      "INFO - 22:00:57: EPOCH 2 - PROGRESS: at 25.16% examples, 136418 words/s, in_qsize 0, out_qsize 0\n",
      "INFO - 22:00:58: EPOCH 2 - PROGRESS: at 28.72% examples, 136856 words/s, in_qsize 0, out_qsize 0\n",
      "INFO - 22:00:59: EPOCH 2 - PROGRESS: at 31.94% examples, 136747 words/s, in_qsize 0, out_qsize 0\n",
      "INFO - 22:01:00: EPOCH 2 - PROGRESS: at 35.24% examples, 136985 words/s, in_qsize 0, out_qsize 0\n",
      "INFO - 22:01:01: EPOCH 2 - PROGRESS: at 38.51% examples, 137064 words/s, in_qsize 0, out_qsize 0\n",
      "INFO - 22:01:02: EPOCH 2 - PROGRESS: at 41.78% examples, 136898 words/s, in_qsize 0, out_qsize 0\n",
      "INFO - 22:01:03: EPOCH 2 - PROGRESS: at 44.91% examples, 137014 words/s, in_qsize 0, out_qsize 0\n",
      "INFO - 22:01:04: EPOCH 2 - PROGRESS: at 47.66% examples, 137096 words/s, in_qsize 0, out_qsize 0\n",
      "INFO - 22:01:05: EPOCH 2 - PROGRESS: at 50.58% examples, 136751 words/s, in_qsize 0, out_qsize 0\n",
      "INFO - 22:01:06: EPOCH 2 - PROGRESS: at 53.22% examples, 136175 words/s, in_qsize 0, out_qsize 0\n",
      "INFO - 22:01:07: EPOCH 2 - PROGRESS: at 56.27% examples, 136294 words/s, in_qsize 1, out_qsize 0\n",
      "INFO - 22:01:08: EPOCH 2 - PROGRESS: at 59.04% examples, 136265 words/s, in_qsize 0, out_qsize 0\n",
      "INFO - 22:01:09: EPOCH 2 - PROGRESS: at 61.53% examples, 135991 words/s, in_qsize 1, out_qsize 0\n",
      "INFO - 22:01:10: EPOCH 2 - PROGRESS: at 64.45% examples, 135958 words/s, in_qsize 0, out_qsize 0\n",
      "INFO - 22:01:11: EPOCH 2 - PROGRESS: at 67.51% examples, 135860 words/s, in_qsize 0, out_qsize 0\n",
      "INFO - 22:01:12: EPOCH 2 - PROGRESS: at 71.04% examples, 135805 words/s, in_qsize 0, out_qsize 0\n",
      "INFO - 22:01:13: EPOCH 2 - PROGRESS: at 74.63% examples, 135900 words/s, in_qsize 0, out_qsize 0\n",
      "INFO - 22:01:14: EPOCH 2 - PROGRESS: at 78.01% examples, 136043 words/s, in_qsize 0, out_qsize 0\n",
      "INFO - 22:01:15: EPOCH 2 - PROGRESS: at 81.24% examples, 135935 words/s, in_qsize 0, out_qsize 0\n",
      "INFO - 22:01:16: EPOCH 2 - PROGRESS: at 84.17% examples, 135895 words/s, in_qsize 1, out_qsize 0\n",
      "INFO - 22:01:17: EPOCH 2 - PROGRESS: at 87.16% examples, 135652 words/s, in_qsize 0, out_qsize 0\n",
      "INFO - 22:01:18: EPOCH 2 - PROGRESS: at 89.99% examples, 135492 words/s, in_qsize 1, out_qsize 0\n",
      "INFO - 22:01:19: EPOCH 2 - PROGRESS: at 92.47% examples, 135353 words/s, in_qsize 0, out_qsize 0\n",
      "INFO - 22:01:20: EPOCH 2 - PROGRESS: at 95.31% examples, 135084 words/s, in_qsize 0, out_qsize 0\n",
      "INFO - 22:01:21: EPOCH 2 - PROGRESS: at 98.24% examples, 135150 words/s, in_qsize 0, out_qsize 0\n",
      "INFO - 22:01:22: worker thread finished; awaiting finish of 10 more threads\n",
      "INFO - 22:01:22: worker thread finished; awaiting finish of 9 more threads\n",
      "INFO - 22:01:22: worker thread finished; awaiting finish of 8 more threads\n",
      "INFO - 22:01:22: worker thread finished; awaiting finish of 7 more threads\n",
      "INFO - 22:01:22: worker thread finished; awaiting finish of 6 more threads\n",
      "INFO - 22:01:22: worker thread finished; awaiting finish of 5 more threads\n",
      "INFO - 22:01:22: worker thread finished; awaiting finish of 4 more threads\n",
      "INFO - 22:01:22: worker thread finished; awaiting finish of 3 more threads\n",
      "INFO - 22:01:22: worker thread finished; awaiting finish of 2 more threads\n",
      "INFO - 22:01:22: worker thread finished; awaiting finish of 1 more threads\n",
      "INFO - 22:01:22: worker thread finished; awaiting finish of 0 more threads\n",
      "INFO - 22:01:22: EPOCH - 2 : training on 8903225 raw words (4336636 effective words) took 32.1s, 135139 effective words/s\n",
      "INFO - 22:01:23: EPOCH 3 - PROGRESS: at 4.05% examples, 133432 words/s, in_qsize 0, out_qsize 0\n",
      "INFO - 22:01:24: EPOCH 3 - PROGRESS: at 7.80% examples, 133689 words/s, in_qsize 1, out_qsize 0\n"
     ]
    },
    {
     "name": "stderr",
     "output_type": "stream",
     "text": [
      "INFO - 22:01:25: EPOCH 3 - PROGRESS: at 11.05% examples, 131955 words/s, in_qsize 0, out_qsize 0\n",
      "INFO - 22:01:26: EPOCH 3 - PROGRESS: at 14.49% examples, 132014 words/s, in_qsize 0, out_qsize 0\n",
      "INFO - 22:01:27: EPOCH 3 - PROGRESS: at 17.92% examples, 131871 words/s, in_qsize 0, out_qsize 0\n",
      "INFO - 22:01:28: EPOCH 3 - PROGRESS: at 21.65% examples, 132682 words/s, in_qsize 0, out_qsize 0\n",
      "INFO - 22:01:29: EPOCH 3 - PROGRESS: at 24.86% examples, 132847 words/s, in_qsize 0, out_qsize 0\n",
      "INFO - 22:01:30: EPOCH 3 - PROGRESS: at 28.13% examples, 132743 words/s, in_qsize 0, out_qsize 0\n",
      "INFO - 22:01:31: EPOCH 3 - PROGRESS: at 31.17% examples, 132248 words/s, in_qsize 0, out_qsize 0\n",
      "INFO - 22:01:32: EPOCH 3 - PROGRESS: at 34.38% examples, 132413 words/s, in_qsize 1, out_qsize 0\n",
      "INFO - 22:01:33: EPOCH 3 - PROGRESS: at 37.81% examples, 133183 words/s, in_qsize 0, out_qsize 0\n",
      "INFO - 22:01:34: EPOCH 3 - PROGRESS: at 41.11% examples, 133533 words/s, in_qsize 0, out_qsize 0\n",
      "INFO - 22:01:35: EPOCH 3 - PROGRESS: at 44.16% examples, 133556 words/s, in_qsize 0, out_qsize 0\n",
      "INFO - 22:01:36: EPOCH 3 - PROGRESS: at 46.88% examples, 133395 words/s, in_qsize 0, out_qsize 0\n",
      "INFO - 22:01:37: EPOCH 3 - PROGRESS: at 49.56% examples, 132891 words/s, in_qsize 0, out_qsize 0\n",
      "INFO - 22:01:38: EPOCH 3 - PROGRESS: at 52.45% examples, 132873 words/s, in_qsize 0, out_qsize 0\n",
      "INFO - 22:01:39: EPOCH 3 - PROGRESS: at 55.22% examples, 132669 words/s, in_qsize 0, out_qsize 0\n",
      "INFO - 22:01:40: EPOCH 3 - PROGRESS: at 58.11% examples, 132315 words/s, in_qsize 0, out_qsize 0\n",
      "INFO - 22:01:41: EPOCH 3 - PROGRESS: at 60.35% examples, 132032 words/s, in_qsize 0, out_qsize 0\n",
      "INFO - 22:01:42: EPOCH 3 - PROGRESS: at 62.71% examples, 131563 words/s, in_qsize 0, out_qsize 0\n",
      "INFO - 22:01:43: EPOCH 3 - PROGRESS: at 65.55% examples, 131330 words/s, in_qsize 0, out_qsize 0\n",
      "INFO - 22:01:44: EPOCH 3 - PROGRESS: at 68.66% examples, 130976 words/s, in_qsize 0, out_qsize 0\n",
      "INFO - 22:01:45: EPOCH 3 - PROGRESS: at 72.02% examples, 130713 words/s, in_qsize 0, out_qsize 0\n",
      "INFO - 22:01:46: EPOCH 3 - PROGRESS: at 75.43% examples, 130847 words/s, in_qsize 0, out_qsize 0\n",
      "INFO - 22:01:47: EPOCH 3 - PROGRESS: at 78.90% examples, 130969 words/s, in_qsize 0, out_qsize 0\n",
      "INFO - 22:01:48: EPOCH 3 - PROGRESS: at 81.94% examples, 130938 words/s, in_qsize 0, out_qsize 0\n",
      "INFO - 22:01:49: EPOCH 3 - PROGRESS: at 84.66% examples, 130856 words/s, in_qsize 0, out_qsize 0\n",
      "INFO - 22:01:50: EPOCH 3 - PROGRESS: at 87.53% examples, 130891 words/s, in_qsize 1, out_qsize 0\n",
      "INFO - 22:01:51: EPOCH 3 - PROGRESS: at 90.42% examples, 131033 words/s, in_qsize 0, out_qsize 0\n",
      "INFO - 22:01:52: EPOCH 3 - PROGRESS: at 92.72% examples, 130882 words/s, in_qsize 0, out_qsize 0\n",
      "INFO - 22:01:53: EPOCH 3 - PROGRESS: at 95.80% examples, 130928 words/s, in_qsize 0, out_qsize 0\n",
      "INFO - 22:01:55: EPOCH 3 - PROGRESS: at 98.50% examples, 130731 words/s, in_qsize 0, out_qsize 0\n",
      "INFO - 22:01:55: worker thread finished; awaiting finish of 10 more threads\n",
      "INFO - 22:01:55: worker thread finished; awaiting finish of 9 more threads\n",
      "INFO - 22:01:55: worker thread finished; awaiting finish of 8 more threads\n",
      "INFO - 22:01:55: worker thread finished; awaiting finish of 7 more threads\n",
      "INFO - 22:01:55: worker thread finished; awaiting finish of 6 more threads\n",
      "INFO - 22:01:55: worker thread finished; awaiting finish of 5 more threads\n",
      "INFO - 22:01:55: worker thread finished; awaiting finish of 4 more threads\n",
      "INFO - 22:01:55: worker thread finished; awaiting finish of 3 more threads\n",
      "INFO - 22:01:55: worker thread finished; awaiting finish of 2 more threads\n",
      "INFO - 22:01:55: worker thread finished; awaiting finish of 1 more threads\n",
      "INFO - 22:01:55: worker thread finished; awaiting finish of 0 more threads\n",
      "INFO - 22:01:55: EPOCH - 3 : training on 8903225 raw words (4335541 effective words) took 33.2s, 130698 effective words/s\n",
      "INFO - 22:01:56: EPOCH 4 - PROGRESS: at 3.57% examples, 119575 words/s, in_qsize 1, out_qsize 0\n",
      "INFO - 22:01:57: EPOCH 4 - PROGRESS: at 7.42% examples, 125258 words/s, in_qsize 0, out_qsize 0\n",
      "INFO - 22:01:58: EPOCH 4 - PROGRESS: at 10.67% examples, 126370 words/s, in_qsize 1, out_qsize 0\n",
      "INFO - 22:01:59: EPOCH 4 - PROGRESS: at 13.81% examples, 126602 words/s, in_qsize 0, out_qsize 0\n",
      "INFO - 22:02:00: EPOCH 4 - PROGRESS: at 17.10% examples, 127028 words/s, in_qsize 1, out_qsize 0\n",
      "INFO - 22:02:01: EPOCH 4 - PROGRESS: at 20.85% examples, 128333 words/s, in_qsize 0, out_qsize 0\n",
      "INFO - 22:02:02: EPOCH 4 - PROGRESS: at 24.13% examples, 129840 words/s, in_qsize 0, out_qsize 0\n",
      "INFO - 22:02:03: EPOCH 4 - PROGRESS: at 27.20% examples, 129515 words/s, in_qsize 0, out_qsize 0\n",
      "INFO - 22:02:04: EPOCH 4 - PROGRESS: at 30.29% examples, 129394 words/s, in_qsize 0, out_qsize 0\n",
      "INFO - 22:02:05: EPOCH 4 - PROGRESS: at 33.52% examples, 128890 words/s, in_qsize 0, out_qsize 0\n",
      "INFO - 22:02:06: EPOCH 4 - PROGRESS: at 36.38% examples, 128436 words/s, in_qsize 0, out_qsize 0\n",
      "INFO - 22:02:07: EPOCH 4 - PROGRESS: at 39.36% examples, 128163 words/s, in_qsize 0, out_qsize 0\n",
      "INFO - 22:02:08: EPOCH 4 - PROGRESS: at 42.82% examples, 128372 words/s, in_qsize 0, out_qsize 0\n",
      "INFO - 22:02:09: EPOCH 4 - PROGRESS: at 45.51% examples, 128787 words/s, in_qsize 0, out_qsize 0\n",
      "INFO - 22:02:10: EPOCH 4 - PROGRESS: at 48.23% examples, 128912 words/s, in_qsize 0, out_qsize 0\n",
      "INFO - 22:02:11: EPOCH 4 - PROGRESS: at 51.10% examples, 129034 words/s, in_qsize 0, out_qsize 0\n",
      "INFO - 22:02:12: EPOCH 4 - PROGRESS: at 53.80% examples, 128915 words/s, in_qsize 0, out_qsize 0\n",
      "INFO - 22:02:13: EPOCH 4 - PROGRESS: at 56.50% examples, 128872 words/s, in_qsize 0, out_qsize 0\n",
      "INFO - 22:02:14: EPOCH 4 - PROGRESS: at 59.16% examples, 128762 words/s, in_qsize 0, out_qsize 0\n",
      "INFO - 22:02:15: EPOCH 4 - PROGRESS: at 61.47% examples, 128440 words/s, in_qsize 0, out_qsize 0\n",
      "INFO - 22:02:16: EPOCH 4 - PROGRESS: at 64.24% examples, 128482 words/s, in_qsize 0, out_qsize 0\n",
      "INFO - 22:02:17: EPOCH 4 - PROGRESS: at 67.21% examples, 128654 words/s, in_qsize 0, out_qsize 0\n",
      "INFO - 22:02:18: EPOCH 4 - PROGRESS: at 70.92% examples, 129004 words/s, in_qsize 0, out_qsize 0\n",
      "INFO - 22:02:20: EPOCH 4 - PROGRESS: at 74.40% examples, 129144 words/s, in_qsize 0, out_qsize 0\n",
      "INFO - 22:02:21: EPOCH 4 - PROGRESS: at 77.74% examples, 129338 words/s, in_qsize 0, out_qsize 0\n",
      "INFO - 22:02:22: EPOCH 4 - PROGRESS: at 80.95% examples, 129393 words/s, in_qsize 0, out_qsize 0\n",
      "INFO - 22:02:23: EPOCH 4 - PROGRESS: at 83.85% examples, 129649 words/s, in_qsize 0, out_qsize 0\n",
      "INFO - 22:02:24: EPOCH 4 - PROGRESS: at 86.82% examples, 129797 words/s, in_qsize 0, out_qsize 0\n",
      "INFO - 22:02:25: EPOCH 4 - PROGRESS: at 89.49% examples, 129803 words/s, in_qsize 0, out_qsize 0\n",
      "INFO - 22:02:26: EPOCH 4 - PROGRESS: at 91.92% examples, 129744 words/s, in_qsize 0, out_qsize 0\n",
      "INFO - 22:02:27: EPOCH 4 - PROGRESS: at 94.80% examples, 129877 words/s, in_qsize 0, out_qsize 0\n",
      "INFO - 22:02:28: EPOCH 4 - PROGRESS: at 97.68% examples, 130012 words/s, in_qsize 0, out_qsize 0\n",
      "INFO - 22:02:28: worker thread finished; awaiting finish of 10 more threads\n",
      "INFO - 22:02:28: worker thread finished; awaiting finish of 9 more threads\n",
      "INFO - 22:02:28: worker thread finished; awaiting finish of 8 more threads\n",
      "INFO - 22:02:28: worker thread finished; awaiting finish of 7 more threads\n",
      "INFO - 22:02:28: worker thread finished; awaiting finish of 6 more threads\n",
      "INFO - 22:02:28: worker thread finished; awaiting finish of 5 more threads\n",
      "INFO - 22:02:28: worker thread finished; awaiting finish of 4 more threads\n",
      "INFO - 22:02:28: worker thread finished; awaiting finish of 3 more threads\n",
      "INFO - 22:02:28: worker thread finished; awaiting finish of 2 more threads\n",
      "INFO - 22:02:28: worker thread finished; awaiting finish of 1 more threads\n",
      "INFO - 22:02:28: worker thread finished; awaiting finish of 0 more threads\n",
      "INFO - 22:02:28: EPOCH - 4 : training on 8903225 raw words (4338042 effective words) took 33.3s, 130121 effective words/s\n",
      "INFO - 22:02:29: EPOCH 5 - PROGRESS: at 3.90% examples, 128614 words/s, in_qsize 0, out_qsize 0\n",
      "INFO - 22:02:30: EPOCH 5 - PROGRESS: at 7.80% examples, 134184 words/s, in_qsize 0, out_qsize 0\n",
      "INFO - 22:02:31: EPOCH 5 - PROGRESS: at 11.47% examples, 135759 words/s, in_qsize 0, out_qsize 0\n"
     ]
    },
    {
     "name": "stderr",
     "output_type": "stream",
     "text": [
      "INFO - 22:02:32: EPOCH 5 - PROGRESS: at 14.87% examples, 135516 words/s, in_qsize 0, out_qsize 0\n",
      "INFO - 22:02:33: EPOCH 5 - PROGRESS: at 18.41% examples, 135451 words/s, in_qsize 0, out_qsize 0\n",
      "INFO - 22:02:34: EPOCH 5 - PROGRESS: at 22.14% examples, 136229 words/s, in_qsize 0, out_qsize 0\n",
      "INFO - 22:02:35: EPOCH 5 - PROGRESS: at 25.28% examples, 135839 words/s, in_qsize 0, out_qsize 0\n",
      "INFO - 22:02:37: EPOCH 5 - PROGRESS: at 28.72% examples, 135595 words/s, in_qsize 0, out_qsize 0\n",
      "INFO - 22:02:38: EPOCH 5 - PROGRESS: at 31.82% examples, 135034 words/s, in_qsize 0, out_qsize 0\n",
      "INFO - 22:02:39: EPOCH 5 - PROGRESS: at 35.01% examples, 134529 words/s, in_qsize 0, out_qsize 0\n",
      "INFO - 22:02:40: EPOCH 5 - PROGRESS: at 38.27% examples, 134436 words/s, in_qsize 0, out_qsize 0\n",
      "INFO - 22:02:41: EPOCH 5 - PROGRESS: at 41.54% examples, 134297 words/s, in_qsize 0, out_qsize 0\n",
      "INFO - 22:02:42: EPOCH 5 - PROGRESS: at 44.56% examples, 134764 words/s, in_qsize 0, out_qsize 0\n",
      "INFO - 22:02:43: EPOCH 5 - PROGRESS: at 47.49% examples, 134967 words/s, in_qsize 0, out_qsize 0\n",
      "INFO - 22:02:44: EPOCH 5 - PROGRESS: at 50.37% examples, 134906 words/s, in_qsize 0, out_qsize 0\n",
      "INFO - 22:02:45: EPOCH 5 - PROGRESS: at 53.13% examples, 134923 words/s, in_qsize 0, out_qsize 0\n",
      "INFO - 22:02:46: EPOCH 5 - PROGRESS: at 56.13% examples, 134902 words/s, in_qsize 0, out_qsize 0\n",
      "INFO - 22:02:47: EPOCH 5 - PROGRESS: at 58.97% examples, 135083 words/s, in_qsize 0, out_qsize 0\n",
      "INFO - 22:02:48: EPOCH 5 - PROGRESS: at 61.47% examples, 135100 words/s, in_qsize 0, out_qsize 0\n",
      "INFO - 22:02:49: EPOCH 5 - PROGRESS: at 64.24% examples, 134911 words/s, in_qsize 0, out_qsize 0\n",
      "INFO - 22:02:50: EPOCH 5 - PROGRESS: at 67.21% examples, 134837 words/s, in_qsize 0, out_qsize 0\n",
      "INFO - 22:02:51: EPOCH 5 - PROGRESS: at 70.92% examples, 134976 words/s, in_qsize 0, out_qsize 0\n",
      "INFO - 22:02:52: EPOCH 5 - PROGRESS: at 74.40% examples, 134814 words/s, in_qsize 0, out_qsize 0\n",
      "INFO - 22:02:53: EPOCH 5 - PROGRESS: at 77.74% examples, 134815 words/s, in_qsize 0, out_qsize 0\n",
      "INFO - 22:02:54: EPOCH 5 - PROGRESS: at 80.99% examples, 134875 words/s, in_qsize 0, out_qsize 0\n",
      "INFO - 22:02:55: EPOCH 5 - PROGRESS: at 83.94% examples, 135040 words/s, in_qsize 0, out_qsize 0\n",
      "INFO - 22:02:56: EPOCH 5 - PROGRESS: at 87.16% examples, 135313 words/s, in_qsize 0, out_qsize 0\n",
      "INFO - 22:02:57: EPOCH 5 - PROGRESS: at 89.83% examples, 135144 words/s, in_qsize 1, out_qsize 0\n",
      "INFO - 22:02:58: EPOCH 5 - PROGRESS: at 92.47% examples, 135257 words/s, in_qsize 0, out_qsize 0\n",
      "INFO - 22:02:59: EPOCH 5 - PROGRESS: at 95.68% examples, 135446 words/s, in_qsize 0, out_qsize 0\n",
      "INFO - 22:03:00: EPOCH 5 - PROGRESS: at 98.59% examples, 135474 words/s, in_qsize 0, out_qsize 0\n",
      "INFO - 22:03:00: worker thread finished; awaiting finish of 10 more threads\n",
      "INFO - 22:03:00: worker thread finished; awaiting finish of 9 more threads\n",
      "INFO - 22:03:00: worker thread finished; awaiting finish of 8 more threads\n",
      "INFO - 22:03:00: worker thread finished; awaiting finish of 7 more threads\n",
      "INFO - 22:03:00: worker thread finished; awaiting finish of 6 more threads\n",
      "INFO - 22:03:00: worker thread finished; awaiting finish of 5 more threads\n",
      "INFO - 22:03:00: worker thread finished; awaiting finish of 4 more threads\n",
      "INFO - 22:03:00: worker thread finished; awaiting finish of 3 more threads\n",
      "INFO - 22:03:00: worker thread finished; awaiting finish of 2 more threads\n",
      "INFO - 22:03:00: worker thread finished; awaiting finish of 1 more threads\n",
      "INFO - 22:03:00: worker thread finished; awaiting finish of 0 more threads\n",
      "INFO - 22:03:00: EPOCH - 5 : training on 8903225 raw words (4338147 effective words) took 32.0s, 135397 effective words/s\n",
      "INFO - 22:03:01: EPOCH 6 - PROGRESS: at 4.24% examples, 136912 words/s, in_qsize 0, out_qsize 0\n",
      "INFO - 22:03:02: EPOCH 6 - PROGRESS: at 7.72% examples, 132544 words/s, in_qsize 0, out_qsize 0\n",
      "INFO - 22:03:03: EPOCH 6 - PROGRESS: at 11.32% examples, 133694 words/s, in_qsize 0, out_qsize 0\n",
      "INFO - 22:03:04: EPOCH 6 - PROGRESS: at 14.73% examples, 133679 words/s, in_qsize 0, out_qsize 0\n",
      "INFO - 22:03:06: EPOCH 6 - PROGRESS: at 18.41% examples, 134792 words/s, in_qsize 0, out_qsize 0\n",
      "INFO - 22:03:07: EPOCH 6 - PROGRESS: at 21.91% examples, 134307 words/s, in_qsize 0, out_qsize 0\n",
      "INFO - 22:03:08: EPOCH 6 - PROGRESS: at 24.96% examples, 133820 words/s, in_qsize 0, out_qsize 0\n",
      "INFO - 22:03:09: EPOCH 6 - PROGRESS: at 28.37% examples, 133985 words/s, in_qsize 0, out_qsize 0\n",
      "INFO - 22:03:10: EPOCH 6 - PROGRESS: at 31.26% examples, 133354 words/s, in_qsize 0, out_qsize 0\n",
      "INFO - 22:03:11: EPOCH 6 - PROGRESS: at 34.49% examples, 133024 words/s, in_qsize 0, out_qsize 0\n",
      "INFO - 22:03:12: EPOCH 6 - PROGRESS: at 37.71% examples, 132792 words/s, in_qsize 0, out_qsize 0\n",
      "INFO - 22:03:13: EPOCH 6 - PROGRESS: at 40.57% examples, 132036 words/s, in_qsize 0, out_qsize 0\n",
      "INFO - 22:03:14: EPOCH 6 - PROGRESS: at 43.67% examples, 131790 words/s, in_qsize 0, out_qsize 0\n",
      "INFO - 22:03:15: EPOCH 6 - PROGRESS: at 46.34% examples, 132145 words/s, in_qsize 0, out_qsize 0\n",
      "INFO - 22:03:16: EPOCH 6 - PROGRESS: at 49.28% examples, 132322 words/s, in_qsize 0, out_qsize 0\n",
      "INFO - 22:03:17: EPOCH 6 - PROGRESS: at 52.18% examples, 132372 words/s, in_qsize 1, out_qsize 0\n",
      "INFO - 22:03:18: EPOCH 6 - PROGRESS: at 55.01% examples, 132609 words/s, in_qsize 0, out_qsize 0\n",
      "INFO - 22:03:19: EPOCH 6 - PROGRESS: at 58.02% examples, 132526 words/s, in_qsize 0, out_qsize 0\n",
      "INFO - 22:03:20: EPOCH 6 - PROGRESS: at 60.35% examples, 132536 words/s, in_qsize 0, out_qsize 0\n",
      "INFO - 22:03:21: EPOCH 6 - PROGRESS: at 62.84% examples, 132618 words/s, in_qsize 0, out_qsize 0\n",
      "INFO - 22:03:22: EPOCH 6 - PROGRESS: at 65.75% examples, 132282 words/s, in_qsize 0, out_qsize 0\n",
      "INFO - 22:03:23: EPOCH 6 - PROGRESS: at 68.89% examples, 132044 words/s, in_qsize 0, out_qsize 0\n",
      "INFO - 22:03:24: EPOCH 6 - PROGRESS: at 72.20% examples, 131842 words/s, in_qsize 0, out_qsize 0\n",
      "INFO - 22:03:25: EPOCH 6 - PROGRESS: at 75.43% examples, 131735 words/s, in_qsize 0, out_qsize 0\n",
      "INFO - 22:03:26: EPOCH 6 - PROGRESS: at 78.80% examples, 131623 words/s, in_qsize 0, out_qsize 0\n",
      "INFO - 22:03:27: EPOCH 6 - PROGRESS: at 81.78% examples, 131648 words/s, in_qsize 1, out_qsize 0\n",
      "INFO - 22:03:28: EPOCH 6 - PROGRESS: at 84.66% examples, 131817 words/s, in_qsize 0, out_qsize 0\n",
      "INFO - 22:03:29: EPOCH 6 - PROGRESS: at 87.61% examples, 131979 words/s, in_qsize 0, out_qsize 0\n",
      "INFO - 22:03:30: EPOCH 6 - PROGRESS: at 90.52% examples, 132079 words/s, in_qsize 0, out_qsize 0\n",
      "INFO - 22:03:31: EPOCH 6 - PROGRESS: at 93.02% examples, 132175 words/s, in_qsize 0, out_qsize 0\n",
      "INFO - 22:03:32: EPOCH 6 - PROGRESS: at 96.10% examples, 132239 words/s, in_qsize 0, out_qsize 0\n",
      "INFO - 22:03:33: EPOCH 6 - PROGRESS: at 99.08% examples, 132405 words/s, in_qsize 0, out_qsize 0\n",
      "INFO - 22:03:33: worker thread finished; awaiting finish of 10 more threads\n",
      "INFO - 22:03:33: worker thread finished; awaiting finish of 9 more threads\n",
      "INFO - 22:03:33: worker thread finished; awaiting finish of 8 more threads\n",
      "INFO - 22:03:33: worker thread finished; awaiting finish of 7 more threads\n",
      "INFO - 22:03:33: worker thread finished; awaiting finish of 6 more threads\n",
      "INFO - 22:03:33: worker thread finished; awaiting finish of 5 more threads\n",
      "INFO - 22:03:33: worker thread finished; awaiting finish of 4 more threads\n",
      "INFO - 22:03:33: worker thread finished; awaiting finish of 3 more threads\n",
      "INFO - 22:03:33: worker thread finished; awaiting finish of 2 more threads\n",
      "INFO - 22:03:33: worker thread finished; awaiting finish of 1 more threads\n",
      "INFO - 22:03:33: worker thread finished; awaiting finish of 0 more threads\n",
      "INFO - 22:03:33: EPOCH - 6 : training on 8903225 raw words (4337515 effective words) took 32.8s, 132423 effective words/s\n",
      "INFO - 22:03:34: EPOCH 7 - PROGRESS: at 3.73% examples, 123845 words/s, in_qsize 1, out_qsize 0\n",
      "INFO - 22:03:35: EPOCH 7 - PROGRESS: at 7.51% examples, 128123 words/s, in_qsize 0, out_qsize 0\n",
      "INFO - 22:03:36: EPOCH 7 - PROGRESS: at 10.92% examples, 130922 words/s, in_qsize 0, out_qsize 0\n",
      "INFO - 22:03:37: EPOCH 7 - PROGRESS: at 14.36% examples, 130504 words/s, in_qsize 0, out_qsize 0\n",
      "INFO - 22:03:38: EPOCH 7 - PROGRESS: at 17.92% examples, 132062 words/s, in_qsize 0, out_qsize 0\n"
     ]
    },
    {
     "name": "stderr",
     "output_type": "stream",
     "text": [
      "INFO - 22:03:39: EPOCH 7 - PROGRESS: at 21.65% examples, 133136 words/s, in_qsize 0, out_qsize 0\n",
      "INFO - 22:03:40: EPOCH 7 - PROGRESS: at 24.86% examples, 133815 words/s, in_qsize 0, out_qsize 0\n",
      "INFO - 22:03:41: EPOCH 7 - PROGRESS: at 28.13% examples, 133643 words/s, in_qsize 0, out_qsize 0\n",
      "INFO - 22:03:42: EPOCH 7 - PROGRESS: at 31.17% examples, 133302 words/s, in_qsize 0, out_qsize 0\n",
      "INFO - 22:03:43: EPOCH 7 - PROGRESS: at 34.30% examples, 132838 words/s, in_qsize 0, out_qsize 0\n",
      "INFO - 22:03:44: EPOCH 7 - PROGRESS: at 37.14% examples, 131655 words/s, in_qsize 0, out_qsize 0\n",
      "INFO - 22:03:45: EPOCH 7 - PROGRESS: at 40.13% examples, 131334 words/s, in_qsize 0, out_qsize 0\n",
      "INFO - 22:03:46: EPOCH 7 - PROGRESS: at 43.44% examples, 131273 words/s, in_qsize 0, out_qsize 0\n",
      "INFO - 22:03:47: EPOCH 7 - PROGRESS: at 46.14% examples, 131358 words/s, in_qsize 0, out_qsize 0\n",
      "INFO - 22:03:48: EPOCH 7 - PROGRESS: at 49.05% examples, 131515 words/s, in_qsize 0, out_qsize 0\n",
      "INFO - 22:03:49: EPOCH 7 - PROGRESS: at 51.88% examples, 131333 words/s, in_qsize 0, out_qsize 0\n",
      "INFO - 22:03:50: EPOCH 7 - PROGRESS: at 54.46% examples, 131071 words/s, in_qsize 0, out_qsize 0\n",
      "INFO - 22:03:52: EPOCH 7 - PROGRESS: at 57.60% examples, 131280 words/s, in_qsize 0, out_qsize 0\n",
      "INFO - 22:03:53: EPOCH 7 - PROGRESS: at 60.16% examples, 131416 words/s, in_qsize 0, out_qsize 0\n",
      "INFO - 22:03:54: EPOCH 7 - PROGRESS: at 62.63% examples, 131405 words/s, in_qsize 0, out_qsize 0\n",
      "INFO - 22:03:55: EPOCH 7 - PROGRESS: at 65.55% examples, 131369 words/s, in_qsize 1, out_qsize 0\n",
      "INFO - 22:03:56: EPOCH 7 - PROGRESS: at 68.89% examples, 131529 words/s, in_qsize 0, out_qsize 0\n",
      "INFO - 22:03:57: EPOCH 7 - PROGRESS: at 72.37% examples, 131475 words/s, in_qsize 0, out_qsize 0\n",
      "INFO - 22:03:58: EPOCH 7 - PROGRESS: at 75.51% examples, 131388 words/s, in_qsize 0, out_qsize 0\n",
      "INFO - 22:03:59: EPOCH 7 - PROGRESS: at 78.90% examples, 131223 words/s, in_qsize 0, out_qsize 0\n",
      "INFO - 22:04:00: EPOCH 7 - PROGRESS: at 81.94% examples, 131270 words/s, in_qsize 0, out_qsize 0\n",
      "INFO - 22:04:01: EPOCH 7 - PROGRESS: at 84.73% examples, 131462 words/s, in_qsize 0, out_qsize 0\n",
      "INFO - 22:04:02: EPOCH 7 - PROGRESS: at 87.61% examples, 131363 words/s, in_qsize 0, out_qsize 0\n",
      "INFO - 22:04:03: EPOCH 7 - PROGRESS: at 90.52% examples, 131452 words/s, in_qsize 0, out_qsize 0\n",
      "INFO - 22:04:04: EPOCH 7 - PROGRESS: at 93.19% examples, 131694 words/s, in_qsize 0, out_qsize 0\n",
      "INFO - 22:04:05: EPOCH 7 - PROGRESS: at 96.21% examples, 131914 words/s, in_qsize 0, out_qsize 0\n",
      "INFO - 22:04:06: EPOCH 7 - PROGRESS: at 99.20% examples, 131865 words/s, in_qsize 1, out_qsize 0\n",
      "INFO - 22:04:06: worker thread finished; awaiting finish of 10 more threads\n",
      "INFO - 22:04:06: worker thread finished; awaiting finish of 9 more threads\n",
      "INFO - 22:04:06: worker thread finished; awaiting finish of 8 more threads\n",
      "INFO - 22:04:06: worker thread finished; awaiting finish of 7 more threads\n",
      "INFO - 22:04:06: worker thread finished; awaiting finish of 6 more threads\n",
      "INFO - 22:04:06: worker thread finished; awaiting finish of 5 more threads\n",
      "INFO - 22:04:06: worker thread finished; awaiting finish of 4 more threads\n",
      "INFO - 22:04:06: worker thread finished; awaiting finish of 3 more threads\n",
      "INFO - 22:04:06: worker thread finished; awaiting finish of 2 more threads\n",
      "INFO - 22:04:06: worker thread finished; awaiting finish of 1 more threads\n",
      "INFO - 22:04:06: worker thread finished; awaiting finish of 0 more threads\n",
      "INFO - 22:04:06: EPOCH - 7 : training on 8903225 raw words (4337575 effective words) took 32.9s, 131936 effective words/s\n",
      "INFO - 22:04:07: EPOCH 8 - PROGRESS: at 4.05% examples, 135251 words/s, in_qsize 0, out_qsize 0\n",
      "INFO - 22:04:08: EPOCH 8 - PROGRESS: at 7.80% examples, 136204 words/s, in_qsize 0, out_qsize 0\n",
      "INFO - 22:04:09: EPOCH 8 - PROGRESS: at 11.47% examples, 136627 words/s, in_qsize 0, out_qsize 0\n",
      "INFO - 22:04:10: EPOCH 8 - PROGRESS: at 14.87% examples, 135979 words/s, in_qsize 0, out_qsize 0\n",
      "INFO - 22:04:11: EPOCH 8 - PROGRESS: at 18.53% examples, 136536 words/s, in_qsize 0, out_qsize 0\n",
      "INFO - 22:04:12: EPOCH 8 - PROGRESS: at 22.14% examples, 136045 words/s, in_qsize 0, out_qsize 0\n",
      "INFO - 22:04:13: EPOCH 8 - PROGRESS: at 25.28% examples, 136122 words/s, in_qsize 0, out_qsize 0\n",
      "INFO - 22:04:14: EPOCH 8 - PROGRESS: at 28.72% examples, 136424 words/s, in_qsize 0, out_qsize 0\n",
      "INFO - 22:04:15: EPOCH 8 - PROGRESS: at 31.94% examples, 136332 words/s, in_qsize 0, out_qsize 0\n",
      "INFO - 22:04:16: EPOCH 8 - PROGRESS: at 35.24% examples, 136204 words/s, in_qsize 0, out_qsize 0\n",
      "INFO - 22:04:17: EPOCH 8 - PROGRESS: at 38.56% examples, 136577 words/s, in_qsize 0, out_qsize 0\n",
      "INFO - 22:04:18: EPOCH 8 - PROGRESS: at 41.78% examples, 136266 words/s, in_qsize 0, out_qsize 0\n",
      "INFO - 22:04:19: EPOCH 8 - PROGRESS: at 44.79% examples, 136291 words/s, in_qsize 0, out_qsize 0\n",
      "INFO - 22:04:20: EPOCH 8 - PROGRESS: at 47.62% examples, 136269 words/s, in_qsize 0, out_qsize 0\n",
      "INFO - 22:04:21: EPOCH 8 - PROGRESS: at 50.64% examples, 136288 words/s, in_qsize 0, out_qsize 0\n",
      "INFO - 22:04:22: EPOCH 8 - PROGRESS: at 53.54% examples, 136388 words/s, in_qsize 0, out_qsize 0\n",
      "INFO - 22:04:23: EPOCH 8 - PROGRESS: at 56.46% examples, 136338 words/s, in_qsize 0, out_qsize 0\n",
      "INFO - 22:04:24: EPOCH 8 - PROGRESS: at 59.26% examples, 136247 words/s, in_qsize 1, out_qsize 0\n",
      "INFO - 22:04:25: EPOCH 8 - PROGRESS: at 61.74% examples, 136318 words/s, in_qsize 0, out_qsize 0\n",
      "INFO - 22:04:26: EPOCH 8 - PROGRESS: at 64.63% examples, 136230 words/s, in_qsize 0, out_qsize 0\n",
      "INFO - 22:04:27: EPOCH 8 - PROGRESS: at 67.68% examples, 136143 words/s, in_qsize 0, out_qsize 0\n",
      "INFO - 22:04:28: EPOCH 8 - PROGRESS: at 71.37% examples, 135954 words/s, in_qsize 0, out_qsize 0\n",
      "INFO - 22:04:29: EPOCH 8 - PROGRESS: at 74.71% examples, 135909 words/s, in_qsize 0, out_qsize 0\n",
      "INFO - 22:04:30: EPOCH 8 - PROGRESS: at 78.01% examples, 135693 words/s, in_qsize 0, out_qsize 0\n",
      "INFO - 22:04:32: EPOCH 8 - PROGRESS: at 81.14% examples, 135497 words/s, in_qsize 0, out_qsize 0\n",
      "INFO - 22:04:33: EPOCH 8 - PROGRESS: at 84.17% examples, 135640 words/s, in_qsize 0, out_qsize 0\n",
      "INFO - 22:04:34: EPOCH 8 - PROGRESS: at 87.22% examples, 135613 words/s, in_qsize 0, out_qsize 0\n",
      "INFO - 22:04:35: EPOCH 8 - PROGRESS: at 90.05% examples, 135605 words/s, in_qsize 0, out_qsize 0\n",
      "INFO - 22:04:36: EPOCH 8 - PROGRESS: at 92.47% examples, 135396 words/s, in_qsize 0, out_qsize 0\n",
      "INFO - 22:04:37: EPOCH 8 - PROGRESS: at 95.56% examples, 135458 words/s, in_qsize 0, out_qsize 0\n",
      "INFO - 22:04:38: EPOCH 8 - PROGRESS: at 98.40% examples, 135377 words/s, in_qsize 0, out_qsize 0\n",
      "INFO - 22:04:38: worker thread finished; awaiting finish of 10 more threads\n",
      "INFO - 22:04:38: worker thread finished; awaiting finish of 9 more threads\n",
      "INFO - 22:04:38: worker thread finished; awaiting finish of 8 more threads\n",
      "INFO - 22:04:38: worker thread finished; awaiting finish of 7 more threads\n",
      "INFO - 22:04:38: worker thread finished; awaiting finish of 6 more threads\n",
      "INFO - 22:04:38: worker thread finished; awaiting finish of 5 more threads\n",
      "INFO - 22:04:38: worker thread finished; awaiting finish of 4 more threads\n",
      "INFO - 22:04:38: worker thread finished; awaiting finish of 3 more threads\n",
      "INFO - 22:04:38: worker thread finished; awaiting finish of 2 more threads\n",
      "INFO - 22:04:38: worker thread finished; awaiting finish of 1 more threads\n",
      "INFO - 22:04:38: worker thread finished; awaiting finish of 0 more threads\n",
      "INFO - 22:04:38: EPOCH - 8 : training on 8903225 raw words (4336547 effective words) took 32.0s, 135415 effective words/s\n",
      "INFO - 22:04:39: EPOCH 9 - PROGRESS: at 4.05% examples, 134650 words/s, in_qsize 0, out_qsize 0\n",
      "INFO - 22:04:40: EPOCH 9 - PROGRESS: at 7.80% examples, 135653 words/s, in_qsize 0, out_qsize 0\n",
      "INFO - 22:04:41: EPOCH 9 - PROGRESS: at 11.47% examples, 135767 words/s, in_qsize 0, out_qsize 0\n",
      "INFO - 22:04:42: EPOCH 9 - PROGRESS: at 14.87% examples, 136381 words/s, in_qsize 0, out_qsize 0\n",
      "INFO - 22:04:43: EPOCH 9 - PROGRESS: at 18.28% examples, 135351 words/s, in_qsize 0, out_qsize 0\n",
      "INFO - 22:04:44: EPOCH 9 - PROGRESS: at 22.14% examples, 136876 words/s, in_qsize 0, out_qsize 0\n",
      "INFO - 22:04:45: EPOCH 9 - PROGRESS: at 25.33% examples, 137494 words/s, in_qsize 0, out_qsize 0\n"
     ]
    },
    {
     "name": "stderr",
     "output_type": "stream",
     "text": [
      "INFO - 22:04:46: EPOCH 9 - PROGRESS: at 28.87% examples, 137236 words/s, in_qsize 0, out_qsize 0\n",
      "INFO - 22:04:47: EPOCH 9 - PROGRESS: at 32.03% examples, 137117 words/s, in_qsize 0, out_qsize 0\n",
      "INFO - 22:04:48: EPOCH 9 - PROGRESS: at 35.35% examples, 137049 words/s, in_qsize 0, out_qsize 0\n",
      "INFO - 22:04:49: EPOCH 9 - PROGRESS: at 38.56% examples, 136934 words/s, in_qsize 0, out_qsize 0\n",
      "INFO - 22:04:50: EPOCH 9 - PROGRESS: at 41.78% examples, 136510 words/s, in_qsize 0, out_qsize 0\n",
      "INFO - 22:04:51: EPOCH 9 - PROGRESS: at 44.91% examples, 136560 words/s, in_qsize 0, out_qsize 0\n",
      "INFO - 22:04:52: EPOCH 9 - PROGRESS: at 47.71% examples, 136896 words/s, in_qsize 0, out_qsize 0\n",
      "INFO - 22:04:53: EPOCH 9 - PROGRESS: at 50.74% examples, 136586 words/s, in_qsize 0, out_qsize 0\n",
      "INFO - 22:04:54: EPOCH 9 - PROGRESS: at 53.69% examples, 136660 words/s, in_qsize 0, out_qsize 0\n",
      "INFO - 22:04:55: EPOCH 9 - PROGRESS: at 56.50% examples, 136461 words/s, in_qsize 0, out_qsize 0\n",
      "INFO - 22:04:56: EPOCH 9 - PROGRESS: at 59.34% examples, 136339 words/s, in_qsize 0, out_qsize 0\n",
      "INFO - 22:04:57: EPOCH 9 - PROGRESS: at 61.80% examples, 136312 words/s, in_qsize 0, out_qsize 0\n",
      "INFO - 22:04:58: EPOCH 9 - PROGRESS: at 64.77% examples, 136215 words/s, in_qsize 0, out_qsize 0\n",
      "INFO - 22:04:59: EPOCH 9 - PROGRESS: at 67.68% examples, 135922 words/s, in_qsize 0, out_qsize 0\n",
      "INFO - 22:05:01: EPOCH 9 - PROGRESS: at 71.50% examples, 135875 words/s, in_qsize 0, out_qsize 0\n",
      "INFO - 22:05:02: EPOCH 9 - PROGRESS: at 74.93% examples, 135828 words/s, in_qsize 0, out_qsize 0\n",
      "INFO - 22:05:03: EPOCH 9 - PROGRESS: at 78.34% examples, 135867 words/s, in_qsize 0, out_qsize 0\n",
      "INFO - 22:05:04: EPOCH 9 - PROGRESS: at 81.55% examples, 135868 words/s, in_qsize 0, out_qsize 0\n",
      "INFO - 22:05:05: EPOCH 9 - PROGRESS: at 84.51% examples, 135972 words/s, in_qsize 0, out_qsize 0\n",
      "INFO - 22:05:06: EPOCH 9 - PROGRESS: at 87.49% examples, 135838 words/s, in_qsize 0, out_qsize 0\n",
      "INFO - 22:05:07: EPOCH 9 - PROGRESS: at 90.33% examples, 135821 words/s, in_qsize 0, out_qsize 0\n",
      "INFO - 22:05:08: EPOCH 9 - PROGRESS: at 92.88% examples, 135868 words/s, in_qsize 0, out_qsize 0\n",
      "INFO - 22:05:09: EPOCH 9 - PROGRESS: at 95.90% examples, 135801 words/s, in_qsize 0, out_qsize 0\n",
      "INFO - 22:05:10: EPOCH 9 - PROGRESS: at 98.80% examples, 135778 words/s, in_qsize 1, out_qsize 0\n",
      "INFO - 22:05:10: worker thread finished; awaiting finish of 10 more threads\n",
      "INFO - 22:05:10: worker thread finished; awaiting finish of 9 more threads\n",
      "INFO - 22:05:10: worker thread finished; awaiting finish of 8 more threads\n",
      "INFO - 22:05:10: worker thread finished; awaiting finish of 7 more threads\n",
      "INFO - 22:05:10: worker thread finished; awaiting finish of 6 more threads\n",
      "INFO - 22:05:10: worker thread finished; awaiting finish of 5 more threads\n",
      "INFO - 22:05:10: worker thread finished; awaiting finish of 4 more threads\n",
      "INFO - 22:05:10: worker thread finished; awaiting finish of 3 more threads\n",
      "INFO - 22:05:10: worker thread finished; awaiting finish of 2 more threads\n",
      "INFO - 22:05:10: worker thread finished; awaiting finish of 1 more threads\n",
      "INFO - 22:05:10: worker thread finished; awaiting finish of 0 more threads\n",
      "INFO - 22:05:10: EPOCH - 9 : training on 8903225 raw words (4337849 effective words) took 31.9s, 135821 effective words/s\n",
      "INFO - 22:05:11: EPOCH 10 - PROGRESS: at 4.24% examples, 137265 words/s, in_qsize 0, out_qsize 0\n",
      "INFO - 22:05:12: EPOCH 10 - PROGRESS: at 7.96% examples, 136615 words/s, in_qsize 0, out_qsize 0\n",
      "INFO - 22:05:13: EPOCH 10 - PROGRESS: at 11.64% examples, 135553 words/s, in_qsize 0, out_qsize 0\n",
      "INFO - 22:05:14: EPOCH 10 - PROGRESS: at 14.93% examples, 135693 words/s, in_qsize 0, out_qsize 0\n",
      "INFO - 22:05:15: EPOCH 10 - PROGRESS: at 18.53% examples, 136115 words/s, in_qsize 0, out_qsize 0\n",
      "INFO - 22:05:16: EPOCH 10 - PROGRESS: at 22.22% examples, 136590 words/s, in_qsize 0, out_qsize 0\n",
      "INFO - 22:05:17: EPOCH 10 - PROGRESS: at 25.28% examples, 135676 words/s, in_qsize 0, out_qsize 0\n",
      "INFO - 22:05:18: EPOCH 10 - PROGRESS: at 28.63% examples, 135187 words/s, in_qsize 0, out_qsize 0\n",
      "INFO - 22:05:19: EPOCH 10 - PROGRESS: at 31.82% examples, 135440 words/s, in_qsize 0, out_qsize 0\n",
      "INFO - 22:05:20: EPOCH 10 - PROGRESS: at 35.07% examples, 135565 words/s, in_qsize 0, out_qsize 0\n",
      "INFO - 22:05:21: EPOCH 10 - PROGRESS: at 38.43% examples, 135560 words/s, in_qsize 0, out_qsize 0\n",
      "INFO - 22:05:22: EPOCH 10 - PROGRESS: at 41.78% examples, 136057 words/s, in_qsize 0, out_qsize 0\n",
      "INFO - 22:05:23: EPOCH 10 - PROGRESS: at 44.91% examples, 136290 words/s, in_qsize 0, out_qsize 0\n",
      "INFO - 22:05:24: EPOCH 10 - PROGRESS: at 47.66% examples, 136357 words/s, in_qsize 0, out_qsize 0\n",
      "INFO - 22:05:25: EPOCH 10 - PROGRESS: at 50.74% examples, 136666 words/s, in_qsize 0, out_qsize 0\n",
      "INFO - 22:05:26: EPOCH 10 - PROGRESS: at 53.69% examples, 136750 words/s, in_qsize 0, out_qsize 0\n",
      "INFO - 22:05:27: EPOCH 10 - PROGRESS: at 56.50% examples, 136669 words/s, in_qsize 0, out_qsize 0\n",
      "INFO - 22:05:28: EPOCH 10 - PROGRESS: at 59.34% examples, 136531 words/s, in_qsize 1, out_qsize 0\n",
      "INFO - 22:05:29: EPOCH 10 - PROGRESS: at 61.80% examples, 136451 words/s, in_qsize 0, out_qsize 0\n",
      "INFO - 22:05:30: EPOCH 10 - PROGRESS: at 64.63% examples, 136130 words/s, in_qsize 0, out_qsize 0\n",
      "INFO - 22:05:31: EPOCH 10 - PROGRESS: at 67.82% examples, 136044 words/s, in_qsize 0, out_qsize 0\n",
      "INFO - 22:05:32: EPOCH 10 - PROGRESS: at 71.59% examples, 136002 words/s, in_qsize 0, out_qsize 0\n",
      "INFO - 22:05:33: EPOCH 10 - PROGRESS: at 75.03% examples, 136093 words/s, in_qsize 0, out_qsize 0\n",
      "INFO - 22:05:35: EPOCH 10 - PROGRESS: at 78.19% examples, 135873 words/s, in_qsize 0, out_qsize 0\n",
      "INFO - 22:05:36: EPOCH 10 - PROGRESS: at 81.45% examples, 135811 words/s, in_qsize 0, out_qsize 0\n",
      "INFO - 22:05:37: EPOCH 10 - PROGRESS: at 84.41% examples, 135832 words/s, in_qsize 0, out_qsize 1\n",
      "INFO - 22:05:38: EPOCH 10 - PROGRESS: at 87.61% examples, 136099 words/s, in_qsize 0, out_qsize 0\n",
      "INFO - 22:05:39: EPOCH 10 - PROGRESS: at 90.52% examples, 136037 words/s, in_qsize 0, out_qsize 0\n",
      "INFO - 22:05:40: EPOCH 10 - PROGRESS: at 92.98% examples, 135957 words/s, in_qsize 1, out_qsize 0\n",
      "INFO - 22:05:41: EPOCH 10 - PROGRESS: at 96.15% examples, 136114 words/s, in_qsize 0, out_qsize 0\n",
      "INFO - 22:05:42: EPOCH 10 - PROGRESS: at 99.35% examples, 136256 words/s, in_qsize 0, out_qsize 0\n",
      "INFO - 22:05:42: worker thread finished; awaiting finish of 10 more threads\n",
      "INFO - 22:05:42: worker thread finished; awaiting finish of 9 more threads\n",
      "INFO - 22:05:42: worker thread finished; awaiting finish of 8 more threads\n",
      "INFO - 22:05:42: worker thread finished; awaiting finish of 7 more threads\n",
      "INFO - 22:05:42: worker thread finished; awaiting finish of 6 more threads\n",
      "INFO - 22:05:42: worker thread finished; awaiting finish of 5 more threads\n",
      "INFO - 22:05:42: worker thread finished; awaiting finish of 4 more threads\n",
      "INFO - 22:05:42: worker thread finished; awaiting finish of 3 more threads\n",
      "INFO - 22:05:42: worker thread finished; awaiting finish of 2 more threads\n",
      "INFO - 22:05:42: worker thread finished; awaiting finish of 1 more threads\n",
      "INFO - 22:05:42: worker thread finished; awaiting finish of 0 more threads\n",
      "INFO - 22:05:42: EPOCH - 10 : training on 8903225 raw words (4337265 effective words) took 31.8s, 136279 effective words/s\n",
      "INFO - 22:05:43: EPOCH 11 - PROGRESS: at 4.24% examples, 137671 words/s, in_qsize 0, out_qsize 0\n",
      "INFO - 22:05:44: EPOCH 11 - PROGRESS: at 8.02% examples, 138324 words/s, in_qsize 0, out_qsize 0\n",
      "INFO - 22:05:45: EPOCH 11 - PROGRESS: at 11.88% examples, 138999 words/s, in_qsize 0, out_qsize 0\n",
      "INFO - 22:05:46: EPOCH 11 - PROGRESS: at 15.08% examples, 137867 words/s, in_qsize 1, out_qsize 0\n",
      "INFO - 22:05:47: EPOCH 11 - PROGRESS: at 18.72% examples, 138061 words/s, in_qsize 1, out_qsize 0\n",
      "INFO - 22:05:48: EPOCH 11 - PROGRESS: at 22.41% examples, 137642 words/s, in_qsize 0, out_qsize 0\n",
      "INFO - 22:05:49: EPOCH 11 - PROGRESS: at 25.41% examples, 137495 words/s, in_qsize 1, out_qsize 0\n",
      "INFO - 22:05:50: EPOCH 11 - PROGRESS: at 28.96% examples, 137457 words/s, in_qsize 0, out_qsize 0\n",
      "INFO - 22:05:51: EPOCH 11 - PROGRESS: at 32.03% examples, 136999 words/s, in_qsize 0, out_qsize 0\n",
      "INFO - 22:05:52: EPOCH 11 - PROGRESS: at 35.48% examples, 137284 words/s, in_qsize 0, out_qsize 0\n"
     ]
    },
    {
     "name": "stderr",
     "output_type": "stream",
     "text": [
      "INFO - 22:05:53: EPOCH 11 - PROGRESS: at 38.70% examples, 137314 words/s, in_qsize 1, out_qsize 0\n",
      "INFO - 22:05:54: EPOCH 11 - PROGRESS: at 42.00% examples, 137255 words/s, in_qsize 0, out_qsize 0\n",
      "INFO - 22:05:55: EPOCH 11 - PROGRESS: at 44.96% examples, 137182 words/s, in_qsize 1, out_qsize 0\n",
      "INFO - 22:05:56: EPOCH 11 - PROGRESS: at 47.83% examples, 137320 words/s, in_qsize 0, out_qsize 0\n",
      "INFO - 22:05:57: EPOCH 11 - PROGRESS: at 50.84% examples, 137156 words/s, in_qsize 0, out_qsize 0\n",
      "INFO - 22:05:58: EPOCH 11 - PROGRESS: at 53.69% examples, 137060 words/s, in_qsize 0, out_qsize 0\n",
      "INFO - 22:05:59: EPOCH 11 - PROGRESS: at 56.50% examples, 136709 words/s, in_qsize 0, out_qsize 0\n",
      "INFO - 22:06:00: EPOCH 11 - PROGRESS: at 59.34% examples, 136563 words/s, in_qsize 0, out_qsize 0\n",
      "INFO - 22:06:01: EPOCH 11 - PROGRESS: at 61.80% examples, 136439 words/s, in_qsize 0, out_qsize 0\n",
      "INFO - 22:06:02: EPOCH 11 - PROGRESS: at 64.81% examples, 136438 words/s, in_qsize 0, out_qsize 0\n",
      "INFO - 22:06:03: EPOCH 11 - PROGRESS: at 67.98% examples, 136397 words/s, in_qsize 0, out_qsize 0\n",
      "INFO - 22:06:04: EPOCH 11 - PROGRESS: at 71.59% examples, 136220 words/s, in_qsize 0, out_qsize 0\n",
      "INFO - 22:06:05: EPOCH 11 - PROGRESS: at 75.03% examples, 136171 words/s, in_qsize 0, out_qsize 0\n",
      "INFO - 22:06:06: EPOCH 11 - PROGRESS: at 78.34% examples, 136152 words/s, in_qsize 0, out_qsize 0\n",
      "INFO - 22:06:07: EPOCH 11 - PROGRESS: at 81.55% examples, 136065 words/s, in_qsize 0, out_qsize 0\n",
      "INFO - 22:06:08: EPOCH 11 - PROGRESS: at 84.51% examples, 136142 words/s, in_qsize 0, out_qsize 0\n",
      "INFO - 22:06:09: EPOCH 11 - PROGRESS: at 87.53% examples, 136083 words/s, in_qsize 0, out_qsize 0\n",
      "INFO - 22:06:10: EPOCH 11 - PROGRESS: at 90.42% examples, 135953 words/s, in_qsize 0, out_qsize 0\n",
      "INFO - 22:06:11: EPOCH 11 - PROGRESS: at 92.98% examples, 135863 words/s, in_qsize 0, out_qsize 0\n",
      "INFO - 22:06:12: EPOCH 11 - PROGRESS: at 96.10% examples, 135894 words/s, in_qsize 0, out_qsize 0\n",
      "INFO - 22:06:14: EPOCH 11 - PROGRESS: at 99.08% examples, 135919 words/s, in_qsize 1, out_qsize 0\n",
      "INFO - 22:06:14: worker thread finished; awaiting finish of 10 more threads\n",
      "INFO - 22:06:14: worker thread finished; awaiting finish of 9 more threads\n",
      "INFO - 22:06:14: worker thread finished; awaiting finish of 8 more threads\n",
      "INFO - 22:06:14: worker thread finished; awaiting finish of 7 more threads\n",
      "INFO - 22:06:14: worker thread finished; awaiting finish of 6 more threads\n",
      "INFO - 22:06:14: worker thread finished; awaiting finish of 5 more threads\n",
      "INFO - 22:06:14: worker thread finished; awaiting finish of 4 more threads\n",
      "INFO - 22:06:14: worker thread finished; awaiting finish of 3 more threads\n",
      "INFO - 22:06:14: worker thread finished; awaiting finish of 2 more threads\n",
      "INFO - 22:06:14: worker thread finished; awaiting finish of 1 more threads\n",
      "INFO - 22:06:14: worker thread finished; awaiting finish of 0 more threads\n",
      "INFO - 22:06:14: EPOCH - 11 : training on 8903225 raw words (4337173 effective words) took 31.9s, 135989 effective words/s\n",
      "INFO - 22:06:15: EPOCH 12 - PROGRESS: at 4.05% examples, 135053 words/s, in_qsize 0, out_qsize 0\n",
      "INFO - 22:06:16: EPOCH 12 - PROGRESS: at 7.80% examples, 135995 words/s, in_qsize 0, out_qsize 0\n",
      "INFO - 22:06:17: EPOCH 12 - PROGRESS: at 11.32% examples, 134677 words/s, in_qsize 1, out_qsize 0\n",
      "INFO - 22:06:18: EPOCH 12 - PROGRESS: at 14.60% examples, 133776 words/s, in_qsize 0, out_qsize 0\n",
      "INFO - 22:06:19: EPOCH 12 - PROGRESS: at 18.04% examples, 132654 words/s, in_qsize 0, out_qsize 0\n",
      "INFO - 22:06:20: EPOCH 12 - PROGRESS: at 21.61% examples, 132536 words/s, in_qsize 0, out_qsize 0\n",
      "INFO - 22:06:21: EPOCH 12 - PROGRESS: at 24.42% examples, 131582 words/s, in_qsize 0, out_qsize 0\n",
      "INFO - 22:06:22: EPOCH 12 - PROGRESS: at 27.74% examples, 131656 words/s, in_qsize 0, out_qsize 0\n",
      "INFO - 22:06:23: EPOCH 12 - PROGRESS: at 30.46% examples, 129797 words/s, in_qsize 1, out_qsize 0\n",
      "INFO - 22:06:24: EPOCH 12 - PROGRESS: at 33.63% examples, 129623 words/s, in_qsize 1, out_qsize 0\n",
      "INFO - 22:06:25: EPOCH 12 - PROGRESS: at 36.78% examples, 130402 words/s, in_qsize 0, out_qsize 0\n",
      "INFO - 22:06:26: EPOCH 12 - PROGRESS: at 39.92% examples, 130547 words/s, in_qsize 0, out_qsize 0\n",
      "INFO - 22:06:27: EPOCH 12 - PROGRESS: at 43.30% examples, 130779 words/s, in_qsize 0, out_qsize 0\n",
      "INFO - 22:06:28: EPOCH 12 - PROGRESS: at 46.07% examples, 131173 words/s, in_qsize 0, out_qsize 0\n",
      "INFO - 22:06:29: EPOCH 12 - PROGRESS: at 48.85% examples, 130926 words/s, in_qsize 0, out_qsize 0\n",
      "INFO - 22:06:30: EPOCH 12 - PROGRESS: at 51.22% examples, 129648 words/s, in_qsize 0, out_qsize 0\n",
      "INFO - 22:06:31: EPOCH 12 - PROGRESS: at 53.85% examples, 129368 words/s, in_qsize 0, out_qsize 0\n",
      "INFO - 22:06:32: EPOCH 12 - PROGRESS: at 56.73% examples, 129584 words/s, in_qsize 0, out_qsize 0\n",
      "INFO - 22:06:33: EPOCH 12 - PROGRESS: at 59.47% examples, 129628 words/s, in_qsize 0, out_qsize 0\n",
      "INFO - 22:06:34: EPOCH 12 - PROGRESS: at 61.74% examples, 129623 words/s, in_qsize 0, out_qsize 0\n",
      "INFO - 22:06:35: EPOCH 12 - PROGRESS: at 64.45% examples, 129346 words/s, in_qsize 0, out_qsize 0\n",
      "INFO - 22:06:36: EPOCH 12 - PROGRESS: at 67.02% examples, 128729 words/s, in_qsize 0, out_qsize 0\n",
      "INFO - 22:06:37: EPOCH 12 - PROGRESS: at 69.90% examples, 128388 words/s, in_qsize 1, out_qsize 0\n",
      "INFO - 22:06:38: EPOCH 12 - PROGRESS: at 73.42% examples, 128336 words/s, in_qsize 0, out_qsize 0\n",
      "INFO - 22:06:39: EPOCH 12 - PROGRESS: at 76.37% examples, 127794 words/s, in_qsize 0, out_qsize 0\n",
      "INFO - 22:06:40: EPOCH 12 - PROGRESS: at 79.17% examples, 126832 words/s, in_qsize 0, out_qsize 0\n",
      "INFO - 22:06:41: EPOCH 12 - PROGRESS: at 81.55% examples, 126088 words/s, in_qsize 1, out_qsize 0\n",
      "INFO - 22:06:42: EPOCH 12 - PROGRESS: at 84.17% examples, 125830 words/s, in_qsize 0, out_qsize 0\n",
      "INFO - 22:06:43: EPOCH 12 - PROGRESS: at 86.82% examples, 125503 words/s, in_qsize 0, out_qsize 0\n",
      "INFO - 22:06:44: EPOCH 12 - PROGRESS: at 89.25% examples, 125153 words/s, in_qsize 0, out_qsize 0\n",
      "INFO - 22:06:45: EPOCH 12 - PROGRESS: at 91.57% examples, 125013 words/s, in_qsize 0, out_qsize 0\n",
      "INFO - 22:06:46: EPOCH 12 - PROGRESS: at 94.00% examples, 124957 words/s, in_qsize 0, out_qsize 0\n",
      "INFO - 22:06:47: EPOCH 12 - PROGRESS: at 96.81% examples, 124907 words/s, in_qsize 0, out_qsize 0\n",
      "INFO - 22:06:48: worker thread finished; awaiting finish of 10 more threads\n",
      "INFO - 22:06:48: worker thread finished; awaiting finish of 9 more threads\n",
      "INFO - 22:06:48: worker thread finished; awaiting finish of 8 more threads\n",
      "INFO - 22:06:48: worker thread finished; awaiting finish of 7 more threads\n",
      "INFO - 22:06:48: worker thread finished; awaiting finish of 6 more threads\n",
      "INFO - 22:06:48: worker thread finished; awaiting finish of 5 more threads\n",
      "INFO - 22:06:48: worker thread finished; awaiting finish of 4 more threads\n",
      "INFO - 22:06:48: worker thread finished; awaiting finish of 3 more threads\n",
      "INFO - 22:06:48: EPOCH 12 - PROGRESS: at 99.75% examples, 124809 words/s, in_qsize 2, out_qsize 1\n",
      "INFO - 22:06:48: worker thread finished; awaiting finish of 2 more threads\n",
      "INFO - 22:06:48: worker thread finished; awaiting finish of 1 more threads\n",
      "INFO - 22:06:48: worker thread finished; awaiting finish of 0 more threads\n",
      "INFO - 22:06:48: EPOCH - 12 : training on 8903225 raw words (4337874 effective words) took 34.7s, 124968 effective words/s\n",
      "INFO - 22:06:49: EPOCH 13 - PROGRESS: at 3.57% examples, 120412 words/s, in_qsize 0, out_qsize 0\n",
      "INFO - 22:06:50: EPOCH 13 - PROGRESS: at 7.29% examples, 124245 words/s, in_qsize 0, out_qsize 0\n",
      "INFO - 22:06:52: EPOCH 13 - PROGRESS: at 10.45% examples, 123001 words/s, in_qsize 0, out_qsize 0\n",
      "INFO - 22:06:53: EPOCH 13 - PROGRESS: at 13.60% examples, 123995 words/s, in_qsize 1, out_qsize 0\n",
      "INFO - 22:06:54: EPOCH 13 - PROGRESS: at 17.04% examples, 125386 words/s, in_qsize 0, out_qsize 0\n",
      "INFO - 22:06:55: EPOCH 13 - PROGRESS: at 20.61% examples, 126489 words/s, in_qsize 0, out_qsize 0\n",
      "INFO - 22:06:56: EPOCH 13 - PROGRESS: at 23.79% examples, 126684 words/s, in_qsize 0, out_qsize 0\n",
      "INFO - 22:06:57: EPOCH 13 - PROGRESS: at 26.61% examples, 127377 words/s, in_qsize 0, out_qsize 0\n",
      "INFO - 22:06:58: EPOCH 13 - PROGRESS: at 29.85% examples, 127866 words/s, in_qsize 0, out_qsize 0\n",
      "INFO - 22:06:59: EPOCH 13 - PROGRESS: at 32.96% examples, 127527 words/s, in_qsize 0, out_qsize 0\n"
     ]
    },
    {
     "name": "stderr",
     "output_type": "stream",
     "text": [
      "INFO - 22:07:00: EPOCH 13 - PROGRESS: at 36.05% examples, 127503 words/s, in_qsize 0, out_qsize 0\n",
      "INFO - 22:07:01: EPOCH 13 - PROGRESS: at 38.98% examples, 127602 words/s, in_qsize 0, out_qsize 0\n",
      "INFO - 22:07:02: EPOCH 13 - PROGRESS: at 42.23% examples, 127724 words/s, in_qsize 0, out_qsize 0\n",
      "INFO - 22:07:03: EPOCH 13 - PROGRESS: at 44.96% examples, 127496 words/s, in_qsize 0, out_qsize 0\n",
      "INFO - 22:07:04: EPOCH 13 - PROGRESS: at 47.62% examples, 127479 words/s, in_qsize 0, out_qsize 0\n",
      "INFO - 22:07:05: EPOCH 13 - PROGRESS: at 50.58% examples, 127939 words/s, in_qsize 0, out_qsize 0\n",
      "INFO - 22:07:06: EPOCH 13 - PROGRESS: at 53.13% examples, 127894 words/s, in_qsize 0, out_qsize 0\n",
      "INFO - 22:07:07: EPOCH 13 - PROGRESS: at 55.91% examples, 127831 words/s, in_qsize 0, out_qsize 0\n",
      "INFO - 22:07:08: EPOCH 13 - PROGRESS: at 58.52% examples, 127560 words/s, in_qsize 0, out_qsize 0\n",
      "INFO - 22:07:09: EPOCH 13 - PROGRESS: at 60.91% examples, 127352 words/s, in_qsize 0, out_qsize 0\n",
      "INFO - 22:07:10: EPOCH 13 - PROGRESS: at 63.19% examples, 127293 words/s, in_qsize 0, out_qsize 0\n",
      "INFO - 22:07:11: EPOCH 13 - PROGRESS: at 66.04% examples, 127166 words/s, in_qsize 0, out_qsize 0\n",
      "INFO - 22:07:12: EPOCH 13 - PROGRESS: at 69.04% examples, 127113 words/s, in_qsize 0, out_qsize 0\n",
      "INFO - 22:07:13: EPOCH 13 - PROGRESS: at 72.64% examples, 126970 words/s, in_qsize 0, out_qsize 0\n",
      "INFO - 22:07:14: EPOCH 13 - PROGRESS: at 75.74% examples, 126875 words/s, in_qsize 0, out_qsize 0\n",
      "INFO - 22:07:15: EPOCH 13 - PROGRESS: at 78.90% examples, 126625 words/s, in_qsize 0, out_qsize 0\n",
      "INFO - 22:07:16: EPOCH 13 - PROGRESS: at 81.65% examples, 126403 words/s, in_qsize 0, out_qsize 0\n",
      "INFO - 22:07:17: EPOCH 13 - PROGRESS: at 84.27% examples, 126428 words/s, in_qsize 0, out_qsize 0\n",
      "INFO - 22:07:18: EPOCH 13 - PROGRESS: at 87.01% examples, 126161 words/s, in_qsize 0, out_qsize 0\n",
      "INFO - 22:07:19: EPOCH 13 - PROGRESS: at 89.49% examples, 125923 words/s, in_qsize 0, out_qsize 0\n",
      "INFO - 22:07:20: EPOCH 13 - PROGRESS: at 91.92% examples, 125807 words/s, in_qsize 1, out_qsize 0\n",
      "INFO - 22:07:21: EPOCH 13 - PROGRESS: at 94.28% examples, 125350 words/s, in_qsize 0, out_qsize 0\n",
      "INFO - 22:07:22: EPOCH 13 - PROGRESS: at 96.81% examples, 124999 words/s, in_qsize 0, out_qsize 0\n",
      "INFO - 22:07:23: worker thread finished; awaiting finish of 10 more threads\n",
      "INFO - 22:07:23: worker thread finished; awaiting finish of 9 more threads\n",
      "INFO - 22:07:23: worker thread finished; awaiting finish of 8 more threads\n",
      "INFO - 22:07:23: worker thread finished; awaiting finish of 7 more threads\n",
      "INFO - 22:07:23: worker thread finished; awaiting finish of 6 more threads\n",
      "INFO - 22:07:23: worker thread finished; awaiting finish of 5 more threads\n",
      "INFO - 22:07:23: worker thread finished; awaiting finish of 4 more threads\n",
      "INFO - 22:07:23: worker thread finished; awaiting finish of 3 more threads\n",
      "INFO - 22:07:23: EPOCH 13 - PROGRESS: at 99.82% examples, 125081 words/s, in_qsize 2, out_qsize 1\n",
      "INFO - 22:07:23: worker thread finished; awaiting finish of 2 more threads\n",
      "INFO - 22:07:23: worker thread finished; awaiting finish of 1 more threads\n",
      "INFO - 22:07:23: worker thread finished; awaiting finish of 0 more threads\n",
      "INFO - 22:07:23: EPOCH - 13 : training on 8903225 raw words (4338170 effective words) took 34.7s, 125107 effective words/s\n",
      "INFO - 22:07:24: EPOCH 14 - PROGRESS: at 3.73% examples, 122781 words/s, in_qsize 0, out_qsize 0\n",
      "INFO - 22:07:25: EPOCH 14 - PROGRESS: at 7.42% examples, 125613 words/s, in_qsize 1, out_qsize 0\n",
      "INFO - 22:07:26: EPOCH 14 - PROGRESS: at 10.74% examples, 127867 words/s, in_qsize 0, out_qsize 0\n",
      "INFO - 22:07:27: EPOCH 14 - PROGRESS: at 13.95% examples, 127874 words/s, in_qsize 0, out_qsize 0\n",
      "INFO - 22:07:28: EPOCH 14 - PROGRESS: at 17.04% examples, 125920 words/s, in_qsize 0, out_qsize 0\n",
      "INFO - 22:07:29: EPOCH 14 - PROGRESS: at 20.32% examples, 124735 words/s, in_qsize 0, out_qsize 0\n",
      "INFO - 22:07:30: EPOCH 14 - PROGRESS: at 23.56% examples, 124837 words/s, in_qsize 0, out_qsize 0\n",
      "INFO - 22:07:31: EPOCH 14 - PROGRESS: at 26.25% examples, 125365 words/s, in_qsize 0, out_qsize 0\n",
      "INFO - 22:07:32: EPOCH 14 - PROGRESS: at 29.53% examples, 125539 words/s, in_qsize 0, out_qsize 0\n",
      "INFO - 22:07:33: EPOCH 14 - PROGRESS: at 32.73% examples, 125694 words/s, in_qsize 0, out_qsize 0\n",
      "INFO - 22:07:34: EPOCH 14 - PROGRESS: at 35.78% examples, 125784 words/s, in_qsize 1, out_qsize 0\n",
      "INFO - 22:07:35: EPOCH 14 - PROGRESS: at 38.70% examples, 125873 words/s, in_qsize 0, out_qsize 0\n",
      "INFO - 22:07:36: EPOCH 14 - PROGRESS: at 41.70% examples, 125470 words/s, in_qsize 1, out_qsize 0\n",
      "INFO - 22:07:37: EPOCH 14 - PROGRESS: at 44.47% examples, 125494 words/s, in_qsize 0, out_qsize 0\n",
      "INFO - 22:07:38: EPOCH 14 - PROGRESS: at 47.15% examples, 125648 words/s, in_qsize 1, out_qsize 0\n",
      "INFO - 22:07:39: EPOCH 14 - PROGRESS: at 49.73% examples, 125779 words/s, in_qsize 0, out_qsize 0\n",
      "INFO - 22:07:40: EPOCH 14 - PROGRESS: at 52.45% examples, 125705 words/s, in_qsize 1, out_qsize 0\n",
      "INFO - 22:07:41: EPOCH 14 - PROGRESS: at 55.01% examples, 125474 words/s, in_qsize 1, out_qsize 0\n",
      "INFO - 22:07:43: EPOCH 14 - PROGRESS: at 57.97% examples, 125255 words/s, in_qsize 0, out_qsize 0\n",
      "INFO - 22:07:44: EPOCH 14 - PROGRESS: at 60.22% examples, 125303 words/s, in_qsize 0, out_qsize 0\n",
      "INFO - 22:07:45: EPOCH 14 - PROGRESS: at 62.38% examples, 125148 words/s, in_qsize 0, out_qsize 0\n",
      "INFO - 22:07:46: EPOCH 14 - PROGRESS: at 65.12% examples, 125027 words/s, in_qsize 0, out_qsize 0\n",
      "INFO - 22:07:47: EPOCH 14 - PROGRESS: at 67.98% examples, 124765 words/s, in_qsize 0, out_qsize 0\n",
      "INFO - 22:07:48: EPOCH 14 - PROGRESS: at 71.37% examples, 124738 words/s, in_qsize 0, out_qsize 0\n",
      "INFO - 22:07:49: EPOCH 14 - PROGRESS: at 74.63% examples, 124748 words/s, in_qsize 0, out_qsize 0\n",
      "INFO - 22:07:50: EPOCH 14 - PROGRESS: at 77.74% examples, 124740 words/s, in_qsize 0, out_qsize 0\n",
      "INFO - 22:07:51: EPOCH 14 - PROGRESS: at 80.81% examples, 124804 words/s, in_qsize 0, out_qsize 0\n",
      "INFO - 22:07:52: EPOCH 14 - PROGRESS: at 83.53% examples, 124826 words/s, in_qsize 0, out_qsize 0\n",
      "INFO - 22:07:53: EPOCH 14 - PROGRESS: at 86.37% examples, 124864 words/s, in_qsize 0, out_qsize 0\n",
      "INFO - 22:07:54: EPOCH 14 - PROGRESS: at 88.98% examples, 124792 words/s, in_qsize 0, out_qsize 0\n",
      "INFO - 22:07:55: EPOCH 14 - PROGRESS: at 91.50% examples, 124855 words/s, in_qsize 0, out_qsize 0\n",
      "INFO - 22:07:56: EPOCH 14 - PROGRESS: at 94.00% examples, 124889 words/s, in_qsize 0, out_qsize 0\n",
      "INFO - 22:07:57: EPOCH 14 - PROGRESS: at 96.81% examples, 124815 words/s, in_qsize 0, out_qsize 0\n",
      "INFO - 22:07:58: EPOCH 14 - PROGRESS: at 99.72% examples, 124747 words/s, in_qsize 0, out_qsize 0\n",
      "INFO - 22:07:58: worker thread finished; awaiting finish of 10 more threads\n",
      "INFO - 22:07:58: worker thread finished; awaiting finish of 9 more threads\n",
      "INFO - 22:07:58: worker thread finished; awaiting finish of 8 more threads\n",
      "INFO - 22:07:58: worker thread finished; awaiting finish of 7 more threads\n",
      "INFO - 22:07:58: worker thread finished; awaiting finish of 6 more threads\n",
      "INFO - 22:07:58: worker thread finished; awaiting finish of 5 more threads\n",
      "INFO - 22:07:58: worker thread finished; awaiting finish of 4 more threads\n",
      "INFO - 22:07:58: worker thread finished; awaiting finish of 3 more threads\n",
      "INFO - 22:07:58: worker thread finished; awaiting finish of 2 more threads\n",
      "INFO - 22:07:58: worker thread finished; awaiting finish of 1 more threads\n",
      "INFO - 22:07:58: worker thread finished; awaiting finish of 0 more threads\n",
      "INFO - 22:07:58: EPOCH - 14 : training on 8903225 raw words (4337513 effective words) took 34.8s, 124772 effective words/s\n",
      "INFO - 22:07:59: EPOCH 15 - PROGRESS: at 3.57% examples, 120760 words/s, in_qsize 0, out_qsize 0\n",
      "INFO - 22:08:00: EPOCH 15 - PROGRESS: at 7.10% examples, 119954 words/s, in_qsize 1, out_qsize 0\n",
      "INFO - 22:08:01: EPOCH 15 - PROGRESS: at 10.36% examples, 122188 words/s, in_qsize 0, out_qsize 0\n",
      "INFO - 22:08:02: EPOCH 15 - PROGRESS: at 13.45% examples, 122111 words/s, in_qsize 0, out_qsize 0\n",
      "INFO - 22:08:03: EPOCH 15 - PROGRESS: at 16.61% examples, 121851 words/s, in_qsize 0, out_qsize 0\n",
      "INFO - 22:08:04: EPOCH 15 - PROGRESS: at 20.14% examples, 124232 words/s, in_qsize 0, out_qsize 0\n",
      "INFO - 22:08:05: EPOCH 15 - PROGRESS: at 23.32% examples, 124118 words/s, in_qsize 0, out_qsize 0\n"
     ]
    },
    {
     "name": "stderr",
     "output_type": "stream",
     "text": [
      "INFO - 22:08:06: EPOCH 15 - PROGRESS: at 26.04% examples, 124207 words/s, in_qsize 0, out_qsize 0\n",
      "INFO - 22:08:07: EPOCH 15 - PROGRESS: at 29.36% examples, 124118 words/s, in_qsize 0, out_qsize 0\n",
      "INFO - 22:08:08: EPOCH 15 - PROGRESS: at 32.30% examples, 124151 words/s, in_qsize 0, out_qsize 0\n",
      "INFO - 22:08:09: EPOCH 15 - PROGRESS: at 35.35% examples, 124486 words/s, in_qsize 1, out_qsize 0\n",
      "INFO - 22:08:10: EPOCH 15 - PROGRESS: at 38.43% examples, 124824 words/s, in_qsize 0, out_qsize 0\n",
      "INFO - 22:08:11: EPOCH 15 - PROGRESS: at 41.42% examples, 124610 words/s, in_qsize 0, out_qsize 0\n",
      "INFO - 22:08:12: EPOCH 15 - PROGRESS: at 44.16% examples, 124522 words/s, in_qsize 0, out_qsize 0\n",
      "INFO - 22:08:13: EPOCH 15 - PROGRESS: at 46.78% examples, 124584 words/s, in_qsize 0, out_qsize 0\n",
      "INFO - 22:08:14: EPOCH 15 - PROGRESS: at 49.49% examples, 124703 words/s, in_qsize 0, out_qsize 0\n",
      "INFO - 22:08:15: EPOCH 15 - PROGRESS: at 52.18% examples, 124628 words/s, in_qsize 0, out_qsize 0\n",
      "INFO - 22:08:16: EPOCH 15 - PROGRESS: at 54.81% examples, 124818 words/s, in_qsize 0, out_qsize 0\n",
      "INFO - 22:08:17: EPOCH 15 - PROGRESS: at 57.60% examples, 124623 words/s, in_qsize 0, out_qsize 0\n",
      "INFO - 22:08:18: EPOCH 15 - PROGRESS: at 60.04% examples, 124689 words/s, in_qsize 0, out_qsize 0\n",
      "INFO - 22:08:19: EPOCH 15 - PROGRESS: at 62.28% examples, 124864 words/s, in_qsize 0, out_qsize 0\n",
      "INFO - 22:08:20: EPOCH 15 - PROGRESS: at 64.90% examples, 124657 words/s, in_qsize 0, out_qsize 0\n",
      "INFO - 22:08:21: EPOCH 15 - PROGRESS: at 67.82% examples, 124600 words/s, in_qsize 0, out_qsize 0\n",
      "INFO - 22:08:22: EPOCH 15 - PROGRESS: at 71.37% examples, 124765 words/s, in_qsize 0, out_qsize 0\n",
      "INFO - 22:08:23: EPOCH 15 - PROGRESS: at 74.54% examples, 124695 words/s, in_qsize 0, out_qsize 0\n",
      "INFO - 22:08:24: EPOCH 15 - PROGRESS: at 77.74% examples, 124922 words/s, in_qsize 0, out_qsize 0\n",
      "INFO - 22:08:25: EPOCH 15 - PROGRESS: at 80.65% examples, 124814 words/s, in_qsize 0, out_qsize 0\n",
      "INFO - 22:08:26: EPOCH 15 - PROGRESS: at 83.41% examples, 124939 words/s, in_qsize 0, out_qsize 0\n",
      "INFO - 22:08:27: EPOCH 15 - PROGRESS: at 86.30% examples, 125082 words/s, in_qsize 0, out_qsize 0\n",
      "INFO - 22:08:28: EPOCH 15 - PROGRESS: at 88.98% examples, 125163 words/s, in_qsize 0, out_qsize 0\n",
      "INFO - 22:08:29: EPOCH 15 - PROGRESS: at 91.50% examples, 125250 words/s, in_qsize 0, out_qsize 0\n",
      "INFO - 22:08:30: EPOCH 15 - PROGRESS: at 94.00% examples, 125338 words/s, in_qsize 0, out_qsize 0\n",
      "INFO - 22:08:31: EPOCH 15 - PROGRESS: at 96.81% examples, 125301 words/s, in_qsize 0, out_qsize 0\n",
      "INFO - 22:08:32: EPOCH 15 - PROGRESS: at 99.72% examples, 125224 words/s, in_qsize 0, out_qsize 0\n",
      "INFO - 22:08:33: worker thread finished; awaiting finish of 10 more threads\n",
      "INFO - 22:08:33: worker thread finished; awaiting finish of 9 more threads\n",
      "INFO - 22:08:33: worker thread finished; awaiting finish of 8 more threads\n",
      "INFO - 22:08:33: worker thread finished; awaiting finish of 7 more threads\n",
      "INFO - 22:08:33: worker thread finished; awaiting finish of 6 more threads\n",
      "INFO - 22:08:33: worker thread finished; awaiting finish of 5 more threads\n",
      "INFO - 22:08:33: worker thread finished; awaiting finish of 4 more threads\n",
      "INFO - 22:08:33: worker thread finished; awaiting finish of 3 more threads\n",
      "INFO - 22:08:33: worker thread finished; awaiting finish of 2 more threads\n",
      "INFO - 22:08:33: worker thread finished; awaiting finish of 1 more threads\n",
      "INFO - 22:08:33: worker thread finished; awaiting finish of 0 more threads\n",
      "INFO - 22:08:33: EPOCH - 15 : training on 8903225 raw words (4338756 effective words) took 34.6s, 125314 effective words/s\n",
      "INFO - 22:08:34: EPOCH 16 - PROGRESS: at 3.57% examples, 121624 words/s, in_qsize 0, out_qsize 0\n",
      "INFO - 22:08:35: EPOCH 16 - PROGRESS: at 7.42% examples, 125397 words/s, in_qsize 0, out_qsize 0\n",
      "INFO - 22:08:36: EPOCH 16 - PROGRESS: at 10.67% examples, 126641 words/s, in_qsize 1, out_qsize 0\n",
      "INFO - 22:08:37: EPOCH 16 - PROGRESS: at 13.95% examples, 127778 words/s, in_qsize 0, out_qsize 0\n",
      "INFO - 22:08:38: EPOCH 16 - PROGRESS: at 17.10% examples, 127140 words/s, in_qsize 0, out_qsize 0\n",
      "INFO - 22:08:39: EPOCH 16 - PROGRESS: at 20.46% examples, 125771 words/s, in_qsize 0, out_qsize 0\n",
      "INFO - 22:08:40: EPOCH 16 - PROGRESS: at 23.64% examples, 125988 words/s, in_qsize 0, out_qsize 0\n",
      "INFO - 22:08:41: EPOCH 16 - PROGRESS: at 26.32% examples, 126162 words/s, in_qsize 0, out_qsize 0\n",
      "INFO - 22:08:42: EPOCH 16 - PROGRESS: at 29.53% examples, 125450 words/s, in_qsize 0, out_qsize 0\n",
      "INFO - 22:08:43: EPOCH 16 - PROGRESS: at 32.61% examples, 125358 words/s, in_qsize 0, out_qsize 0\n",
      "INFO - 22:08:44: EPOCH 16 - PROGRESS: at 35.78% examples, 125798 words/s, in_qsize 1, out_qsize 0\n",
      "INFO - 22:08:45: EPOCH 16 - PROGRESS: at 38.70% examples, 126114 words/s, in_qsize 0, out_qsize 0\n",
      "INFO - 22:08:46: EPOCH 16 - PROGRESS: at 41.70% examples, 125820 words/s, in_qsize 0, out_qsize 0\n",
      "INFO - 22:08:47: EPOCH 16 - PROGRESS: at 44.47% examples, 125720 words/s, in_qsize 0, out_qsize 0\n",
      "INFO - 22:08:48: EPOCH 16 - PROGRESS: at 47.15% examples, 125939 words/s, in_qsize 0, out_qsize 0\n",
      "INFO - 22:08:49: EPOCH 16 - PROGRESS: at 49.73% examples, 125970 words/s, in_qsize 0, out_qsize 0\n",
      "INFO - 22:08:50: EPOCH 16 - PROGRESS: at 52.49% examples, 126353 words/s, in_qsize 0, out_qsize 0\n",
      "INFO - 22:08:51: EPOCH 16 - PROGRESS: at 55.22% examples, 126338 words/s, in_qsize 0, out_qsize 0\n",
      "INFO - 22:08:52: EPOCH 16 - PROGRESS: at 58.02% examples, 126038 words/s, in_qsize 1, out_qsize 0\n",
      "INFO - 22:08:53: EPOCH 16 - PROGRESS: at 60.35% examples, 126229 words/s, in_qsize 0, out_qsize 0\n",
      "INFO - 22:08:54: EPOCH 16 - PROGRESS: at 62.79% examples, 126267 words/s, in_qsize 0, out_qsize 0\n",
      "INFO - 22:08:55: EPOCH 16 - PROGRESS: at 65.55% examples, 126130 words/s, in_qsize 0, out_qsize 0\n",
      "INFO - 22:08:56: EPOCH 16 - PROGRESS: at 68.66% examples, 126127 words/s, in_qsize 0, out_qsize 0\n",
      "INFO - 22:08:57: EPOCH 16 - PROGRESS: at 72.02% examples, 126117 words/s, in_qsize 0, out_qsize 0\n",
      "INFO - 22:08:58: EPOCH 16 - PROGRESS: at 75.36% examples, 126278 words/s, in_qsize 1, out_qsize 0\n",
      "INFO - 22:08:59: EPOCH 16 - PROGRESS: at 78.46% examples, 126333 words/s, in_qsize 1, out_qsize 0\n",
      "INFO - 22:09:00: EPOCH 16 - PROGRESS: at 81.35% examples, 126197 words/s, in_qsize 0, out_qsize 0\n",
      "INFO - 22:09:01: EPOCH 16 - PROGRESS: at 84.12% examples, 126122 words/s, in_qsize 0, out_qsize 0\n",
      "INFO - 22:09:02: EPOCH 16 - PROGRESS: at 87.01% examples, 126278 words/s, in_qsize 0, out_qsize 0\n",
      "INFO - 22:09:03: EPOCH 16 - PROGRESS: at 89.64% examples, 126275 words/s, in_qsize 0, out_qsize 0\n",
      "INFO - 22:09:04: EPOCH 16 - PROGRESS: at 92.05% examples, 126403 words/s, in_qsize 1, out_qsize 0\n",
      "INFO - 22:09:05: EPOCH 16 - PROGRESS: at 94.96% examples, 126524 words/s, in_qsize 0, out_qsize 0\n",
      "INFO - 22:09:06: EPOCH 16 - PROGRESS: at 97.64% examples, 126389 words/s, in_qsize 0, out_qsize 0\n",
      "INFO - 22:09:07: worker thread finished; awaiting finish of 10 more threads\n",
      "INFO - 22:09:07: worker thread finished; awaiting finish of 9 more threads\n",
      "INFO - 22:09:07: worker thread finished; awaiting finish of 8 more threads\n",
      "INFO - 22:09:07: worker thread finished; awaiting finish of 7 more threads\n",
      "INFO - 22:09:07: worker thread finished; awaiting finish of 6 more threads\n",
      "INFO - 22:09:07: worker thread finished; awaiting finish of 5 more threads\n",
      "INFO - 22:09:07: worker thread finished; awaiting finish of 4 more threads\n",
      "INFO - 22:09:07: worker thread finished; awaiting finish of 3 more threads\n",
      "INFO - 22:09:07: worker thread finished; awaiting finish of 2 more threads\n",
      "INFO - 22:09:07: worker thread finished; awaiting finish of 1 more threads\n",
      "INFO - 22:09:07: worker thread finished; awaiting finish of 0 more threads\n",
      "INFO - 22:09:07: EPOCH - 16 : training on 8903225 raw words (4337641 effective words) took 34.3s, 126337 effective words/s\n",
      "INFO - 22:09:08: EPOCH 17 - PROGRESS: at 3.73% examples, 122013 words/s, in_qsize 1, out_qsize 0\n",
      "INFO - 22:09:09: EPOCH 17 - PROGRESS: at 7.42% examples, 124252 words/s, in_qsize 0, out_qsize 0\n",
      "INFO - 22:09:10: EPOCH 17 - PROGRESS: at 10.67% examples, 124629 words/s, in_qsize 0, out_qsize 0\n",
      "INFO - 22:09:11: EPOCH 17 - PROGRESS: at 13.71% examples, 124835 words/s, in_qsize 0, out_qsize 0\n",
      "INFO - 22:09:12: EPOCH 17 - PROGRESS: at 17.04% examples, 124990 words/s, in_qsize 0, out_qsize 0\n"
     ]
    },
    {
     "name": "stderr",
     "output_type": "stream",
     "text": [
      "INFO - 22:09:13: EPOCH 17 - PROGRESS: at 20.61% examples, 125674 words/s, in_qsize 0, out_qsize 0\n",
      "INFO - 22:09:14: EPOCH 17 - PROGRESS: at 23.83% examples, 126242 words/s, in_qsize 0, out_qsize 0\n",
      "INFO - 22:09:15: EPOCH 17 - PROGRESS: at 26.61% examples, 126112 words/s, in_qsize 0, out_qsize 0\n",
      "INFO - 22:09:16: EPOCH 17 - PROGRESS: at 29.85% examples, 126152 words/s, in_qsize 0, out_qsize 0\n",
      "INFO - 22:09:17: EPOCH 17 - PROGRESS: at 32.96% examples, 125879 words/s, in_qsize 1, out_qsize 0\n",
      "INFO - 22:09:18: EPOCH 17 - PROGRESS: at 36.05% examples, 126175 words/s, in_qsize 0, out_qsize 0\n",
      "INFO - 22:09:19: EPOCH 17 - PROGRESS: at 38.89% examples, 125871 words/s, in_qsize 1, out_qsize 0\n",
      "INFO - 22:09:20: EPOCH 17 - PROGRESS: at 42.00% examples, 126061 words/s, in_qsize 0, out_qsize 0\n",
      "INFO - 22:09:21: EPOCH 17 - PROGRESS: at 44.79% examples, 125968 words/s, in_qsize 0, out_qsize 0\n",
      "INFO - 22:09:22: EPOCH 17 - PROGRESS: at 47.49% examples, 125880 words/s, in_qsize 1, out_qsize 0\n",
      "INFO - 22:09:23: EPOCH 17 - PROGRESS: at 50.14% examples, 125933 words/s, in_qsize 0, out_qsize 0\n",
      "INFO - 22:09:24: EPOCH 17 - PROGRESS: at 52.64% examples, 125939 words/s, in_qsize 0, out_qsize 0\n",
      "INFO - 22:09:25: EPOCH 17 - PROGRESS: at 55.60% examples, 126060 words/s, in_qsize 0, out_qsize 0\n",
      "INFO - 22:09:26: EPOCH 17 - PROGRESS: at 58.25% examples, 125879 words/s, in_qsize 0, out_qsize 0\n",
      "INFO - 22:09:27: EPOCH 17 - PROGRESS: at 60.74% examples, 125994 words/s, in_qsize 0, out_qsize 0\n",
      "INFO - 22:09:28: EPOCH 17 - PROGRESS: at 62.97% examples, 125806 words/s, in_qsize 0, out_qsize 0\n",
      "INFO - 22:09:29: EPOCH 17 - PROGRESS: at 65.55% examples, 125229 words/s, in_qsize 0, out_qsize 0\n",
      "INFO - 22:09:30: EPOCH 17 - PROGRESS: at 68.54% examples, 124983 words/s, in_qsize 0, out_qsize 0\n",
      "INFO - 22:09:31: EPOCH 17 - PROGRESS: at 71.77% examples, 124707 words/s, in_qsize 0, out_qsize 0\n",
      "INFO - 22:09:33: EPOCH 17 - PROGRESS: at 75.03% examples, 124831 words/s, in_qsize 0, out_qsize 0\n",
      "INFO - 22:09:34: EPOCH 17 - PROGRESS: at 78.01% examples, 124623 words/s, in_qsize 0, out_qsize 0\n",
      "INFO - 22:09:35: EPOCH 17 - PROGRESS: at 81.04% examples, 124739 words/s, in_qsize 0, out_qsize 0\n",
      "INFO - 22:09:36: EPOCH 17 - PROGRESS: at 83.85% examples, 124855 words/s, in_qsize 0, out_qsize 0\n",
      "INFO - 22:09:37: EPOCH 17 - PROGRESS: at 86.66% examples, 124897 words/s, in_qsize 0, out_qsize 0\n",
      "INFO - 22:09:38: EPOCH 17 - PROGRESS: at 89.25% examples, 124732 words/s, in_qsize 0, out_qsize 0\n",
      "INFO - 22:09:39: EPOCH 17 - PROGRESS: at 91.66% examples, 124783 words/s, in_qsize 0, out_qsize 0\n",
      "INFO - 22:09:40: EPOCH 17 - PROGRESS: at 94.28% examples, 124849 words/s, in_qsize 0, out_qsize 0\n",
      "INFO - 22:09:41: EPOCH 17 - PROGRESS: at 97.28% examples, 125047 words/s, in_qsize 1, out_qsize 0\n",
      "INFO - 22:09:42: worker thread finished; awaiting finish of 10 more threads\n",
      "INFO - 22:09:42: worker thread finished; awaiting finish of 9 more threads\n",
      "INFO - 22:09:42: worker thread finished; awaiting finish of 8 more threads\n",
      "INFO - 22:09:42: worker thread finished; awaiting finish of 7 more threads\n",
      "INFO - 22:09:42: worker thread finished; awaiting finish of 6 more threads\n",
      "INFO - 22:09:42: worker thread finished; awaiting finish of 5 more threads\n",
      "INFO - 22:09:42: worker thread finished; awaiting finish of 4 more threads\n",
      "INFO - 22:09:42: worker thread finished; awaiting finish of 3 more threads\n",
      "INFO - 22:09:42: worker thread finished; awaiting finish of 2 more threads\n",
      "INFO - 22:09:42: worker thread finished; awaiting finish of 1 more threads\n",
      "INFO - 22:09:42: worker thread finished; awaiting finish of 0 more threads\n",
      "INFO - 22:09:42: EPOCH - 17 : training on 8903225 raw words (4337360 effective words) took 34.6s, 125180 effective words/s\n",
      "INFO - 22:09:43: EPOCH 18 - PROGRESS: at 3.24% examples, 109170 words/s, in_qsize 0, out_qsize 0\n",
      "INFO - 22:09:44: EPOCH 18 - PROGRESS: at 7.10% examples, 117271 words/s, in_qsize 0, out_qsize 0\n",
      "INFO - 22:09:45: EPOCH 18 - PROGRESS: at 10.36% examples, 120387 words/s, in_qsize 0, out_qsize 0\n",
      "INFO - 22:09:46: EPOCH 18 - PROGRESS: at 13.51% examples, 122611 words/s, in_qsize 0, out_qsize 0\n",
      "INFO - 22:09:47: EPOCH 18 - PROGRESS: at 16.91% examples, 124249 words/s, in_qsize 0, out_qsize 0\n",
      "INFO - 22:09:48: EPOCH 18 - PROGRESS: at 20.61% examples, 126236 words/s, in_qsize 0, out_qsize 0\n",
      "INFO - 22:09:49: EPOCH 18 - PROGRESS: at 23.97% examples, 128302 words/s, in_qsize 0, out_qsize 0\n",
      "INFO - 22:09:50: EPOCH 18 - PROGRESS: at 27.08% examples, 128879 words/s, in_qsize 1, out_qsize 0\n",
      "INFO - 22:09:51: EPOCH 18 - PROGRESS: at 30.29% examples, 129418 words/s, in_qsize 0, out_qsize 0\n",
      "INFO - 22:09:52: EPOCH 18 - PROGRESS: at 33.63% examples, 129675 words/s, in_qsize 0, out_qsize 0\n",
      "INFO - 22:09:53: EPOCH 18 - PROGRESS: at 36.78% examples, 130624 words/s, in_qsize 0, out_qsize 0\n",
      "INFO - 22:09:54: EPOCH 18 - PROGRESS: at 39.92% examples, 130793 words/s, in_qsize 1, out_qsize 0\n",
      "INFO - 22:09:55: EPOCH 18 - PROGRESS: at 43.16% examples, 130310 words/s, in_qsize 0, out_qsize 0\n",
      "INFO - 22:09:56: EPOCH 18 - PROGRESS: at 45.51% examples, 129369 words/s, in_qsize 0, out_qsize 0\n",
      "INFO - 22:09:57: EPOCH 18 - PROGRESS: at 48.23% examples, 129691 words/s, in_qsize 0, out_qsize 0\n",
      "INFO - 22:09:58: EPOCH 18 - PROGRESS: at 51.22% examples, 129970 words/s, in_qsize 0, out_qsize 0\n",
      "INFO - 22:09:59: EPOCH 18 - PROGRESS: at 53.96% examples, 130217 words/s, in_qsize 0, out_qsize 0\n",
      "INFO - 22:10:00: EPOCH 18 - PROGRESS: at 56.83% examples, 130338 words/s, in_qsize 0, out_qsize 0\n",
      "INFO - 22:10:01: EPOCH 18 - PROGRESS: at 59.77% examples, 130813 words/s, in_qsize 0, out_qsize 0\n",
      "INFO - 22:10:02: EPOCH 18 - PROGRESS: at 62.12% examples, 131133 words/s, in_qsize 0, out_qsize 0\n",
      "INFO - 22:10:03: EPOCH 18 - PROGRESS: at 65.02% examples, 131000 words/s, in_qsize 0, out_qsize 0\n",
      "INFO - 22:10:04: EPOCH 18 - PROGRESS: at 68.26% examples, 131115 words/s, in_qsize 0, out_qsize 0\n",
      "INFO - 22:10:05: EPOCH 18 - PROGRESS: at 71.95% examples, 131256 words/s, in_qsize 0, out_qsize 0\n",
      "INFO - 22:10:06: EPOCH 18 - PROGRESS: at 75.20% examples, 131183 words/s, in_qsize 0, out_qsize 0\n",
      "INFO - 22:10:07: EPOCH 18 - PROGRESS: at 78.08% examples, 130578 words/s, in_qsize 0, out_qsize 0\n",
      "INFO - 22:10:08: EPOCH 18 - PROGRESS: at 81.24% examples, 130635 words/s, in_qsize 0, out_qsize 0\n",
      "INFO - 22:10:09: EPOCH 18 - PROGRESS: at 84.17% examples, 130817 words/s, in_qsize 0, out_qsize 0\n",
      "INFO - 22:10:10: EPOCH 18 - PROGRESS: at 87.22% examples, 130916 words/s, in_qsize 0, out_qsize 0\n",
      "INFO - 22:10:11: EPOCH 18 - PROGRESS: at 90.05% examples, 130914 words/s, in_qsize 1, out_qsize 0\n",
      "INFO - 22:10:12: EPOCH 18 - PROGRESS: at 92.59% examples, 131124 words/s, in_qsize 0, out_qsize 0\n",
      "INFO - 22:10:13: EPOCH 18 - PROGRESS: at 95.80% examples, 131413 words/s, in_qsize 0, out_qsize 0\n",
      "INFO - 22:10:14: EPOCH 18 - PROGRESS: at 98.65% examples, 131541 words/s, in_qsize 1, out_qsize 0\n",
      "INFO - 22:10:14: worker thread finished; awaiting finish of 10 more threads\n",
      "INFO - 22:10:14: worker thread finished; awaiting finish of 9 more threads\n",
      "INFO - 22:10:14: worker thread finished; awaiting finish of 8 more threads\n",
      "INFO - 22:10:14: worker thread finished; awaiting finish of 7 more threads\n",
      "INFO - 22:10:14: worker thread finished; awaiting finish of 6 more threads\n",
      "INFO - 22:10:14: worker thread finished; awaiting finish of 5 more threads\n",
      "INFO - 22:10:14: worker thread finished; awaiting finish of 4 more threads\n",
      "INFO - 22:10:14: worker thread finished; awaiting finish of 3 more threads\n",
      "INFO - 22:10:14: worker thread finished; awaiting finish of 2 more threads\n",
      "INFO - 22:10:14: worker thread finished; awaiting finish of 1 more threads\n",
      "INFO - 22:10:15: worker thread finished; awaiting finish of 0 more threads\n",
      "INFO - 22:10:15: EPOCH - 18 : training on 8903225 raw words (4337307 effective words) took 33.0s, 131622 effective words/s\n",
      "INFO - 22:10:16: EPOCH 19 - PROGRESS: at 4.05% examples, 133922 words/s, in_qsize 0, out_qsize 0\n",
      "INFO - 22:10:17: EPOCH 19 - PROGRESS: at 7.72% examples, 133518 words/s, in_qsize 0, out_qsize 0\n",
      "INFO - 22:10:18: EPOCH 19 - PROGRESS: at 10.92% examples, 132347 words/s, in_qsize 0, out_qsize 0\n",
      "INFO - 22:10:19: EPOCH 19 - PROGRESS: at 14.27% examples, 130128 words/s, in_qsize 0, out_qsize 0\n",
      "INFO - 22:10:20: EPOCH 19 - PROGRESS: at 17.56% examples, 129998 words/s, in_qsize 0, out_qsize 0\n"
     ]
    },
    {
     "name": "stderr",
     "output_type": "stream",
     "text": [
      "INFO - 22:10:21: EPOCH 19 - PROGRESS: at 21.24% examples, 130901 words/s, in_qsize 0, out_qsize 0\n",
      "INFO - 22:10:22: EPOCH 19 - PROGRESS: at 24.20% examples, 131013 words/s, in_qsize 0, out_qsize 0\n",
      "INFO - 22:10:23: EPOCH 19 - PROGRESS: at 27.60% examples, 131803 words/s, in_qsize 0, out_qsize 0\n",
      "INFO - 22:10:24: EPOCH 19 - PROGRESS: at 30.77% examples, 131572 words/s, in_qsize 0, out_qsize 0\n",
      "INFO - 22:10:25: EPOCH 19 - PROGRESS: at 33.96% examples, 131685 words/s, in_qsize 0, out_qsize 0\n",
      "INFO - 22:10:26: EPOCH 19 - PROGRESS: at 37.14% examples, 132206 words/s, in_qsize 0, out_qsize 0\n",
      "INFO - 22:10:27: EPOCH 19 - PROGRESS: at 40.42% examples, 132328 words/s, in_qsize 0, out_qsize 0\n",
      "INFO - 22:10:28: EPOCH 19 - PROGRESS: at 43.67% examples, 132345 words/s, in_qsize 0, out_qsize 0\n",
      "INFO - 22:10:29: EPOCH 19 - PROGRESS: at 46.34% examples, 132426 words/s, in_qsize 0, out_qsize 0\n",
      "INFO - 22:10:30: EPOCH 19 - PROGRESS: at 49.23% examples, 132420 words/s, in_qsize 0, out_qsize 0\n",
      "INFO - 22:10:31: EPOCH 19 - PROGRESS: at 51.97% examples, 132115 words/s, in_qsize 0, out_qsize 0\n",
      "INFO - 22:10:32: EPOCH 19 - PROGRESS: at 54.74% examples, 131908 words/s, in_qsize 0, out_qsize 0\n",
      "INFO - 22:10:33: EPOCH 19 - PROGRESS: at 57.29% examples, 131145 words/s, in_qsize 0, out_qsize 0\n",
      "INFO - 22:10:34: EPOCH 19 - PROGRESS: at 59.87% examples, 130899 words/s, in_qsize 0, out_qsize 0\n",
      "INFO - 22:10:35: EPOCH 19 - PROGRESS: at 62.28% examples, 131258 words/s, in_qsize 0, out_qsize 0\n",
      "INFO - 22:10:36: EPOCH 19 - PROGRESS: at 65.21% examples, 131261 words/s, in_qsize 0, out_qsize 0\n",
      "INFO - 22:10:37: EPOCH 19 - PROGRESS: at 68.54% examples, 131263 words/s, in_qsize 0, out_qsize 0\n",
      "INFO - 22:10:38: EPOCH 19 - PROGRESS: at 72.02% examples, 131329 words/s, in_qsize 0, out_qsize 0\n",
      "INFO - 22:10:39: EPOCH 19 - PROGRESS: at 75.36% examples, 131296 words/s, in_qsize 0, out_qsize 0\n",
      "INFO - 22:10:40: EPOCH 19 - PROGRESS: at 78.80% examples, 131312 words/s, in_qsize 0, out_qsize 0\n",
      "INFO - 22:10:41: EPOCH 19 - PROGRESS: at 81.78% examples, 131234 words/s, in_qsize 0, out_qsize 0\n",
      "INFO - 22:10:42: EPOCH 19 - PROGRESS: at 84.66% examples, 131289 words/s, in_qsize 1, out_qsize 0\n",
      "INFO - 22:10:43: EPOCH 19 - PROGRESS: at 87.53% examples, 131174 words/s, in_qsize 1, out_qsize 0\n",
      "INFO - 22:10:44: EPOCH 19 - PROGRESS: at 90.18% examples, 130808 words/s, in_qsize 0, out_qsize 0\n",
      "INFO - 22:10:45: EPOCH 19 - PROGRESS: at 92.47% examples, 130629 words/s, in_qsize 0, out_qsize 0\n",
      "INFO - 22:10:46: EPOCH 19 - PROGRESS: at 95.16% examples, 130470 words/s, in_qsize 0, out_qsize 0\n",
      "INFO - 22:10:47: EPOCH 19 - PROGRESS: at 97.78% examples, 130195 words/s, in_qsize 0, out_qsize 0\n",
      "INFO - 22:10:48: worker thread finished; awaiting finish of 10 more threads\n",
      "INFO - 22:10:48: worker thread finished; awaiting finish of 9 more threads\n",
      "INFO - 22:10:48: worker thread finished; awaiting finish of 8 more threads\n",
      "INFO - 22:10:48: worker thread finished; awaiting finish of 7 more threads\n",
      "INFO - 22:10:48: worker thread finished; awaiting finish of 6 more threads\n",
      "INFO - 22:10:48: worker thread finished; awaiting finish of 5 more threads\n",
      "INFO - 22:10:48: worker thread finished; awaiting finish of 4 more threads\n",
      "INFO - 22:10:48: worker thread finished; awaiting finish of 3 more threads\n",
      "INFO - 22:10:48: worker thread finished; awaiting finish of 2 more threads\n",
      "INFO - 22:10:48: worker thread finished; awaiting finish of 1 more threads\n",
      "INFO - 22:10:48: worker thread finished; awaiting finish of 0 more threads\n",
      "INFO - 22:10:48: EPOCH - 19 : training on 8903225 raw words (4335940 effective words) took 33.3s, 130162 effective words/s\n",
      "INFO - 22:10:49: EPOCH 20 - PROGRESS: at 3.73% examples, 126023 words/s, in_qsize 0, out_qsize 0\n",
      "INFO - 22:10:50: EPOCH 20 - PROGRESS: at 7.42% examples, 126502 words/s, in_qsize 0, out_qsize 0\n",
      "INFO - 22:10:51: EPOCH 20 - PROGRESS: at 10.67% examples, 127570 words/s, in_qsize 0, out_qsize 0\n",
      "INFO - 22:10:52: EPOCH 20 - PROGRESS: at 13.95% examples, 129323 words/s, in_qsize 0, out_qsize 0\n",
      "INFO - 22:10:53: EPOCH 20 - PROGRESS: at 17.37% examples, 130187 words/s, in_qsize 0, out_qsize 0\n",
      "INFO - 22:10:54: EPOCH 20 - PROGRESS: at 21.24% examples, 131851 words/s, in_qsize 0, out_qsize 0\n",
      "INFO - 22:10:55: EPOCH 20 - PROGRESS: at 24.42% examples, 133151 words/s, in_qsize 0, out_qsize 0\n",
      "INFO - 22:10:56: EPOCH 20 - PROGRESS: at 28.13% examples, 134502 words/s, in_qsize 0, out_qsize 0\n",
      "INFO - 22:10:57: EPOCH 20 - PROGRESS: at 31.37% examples, 134986 words/s, in_qsize 0, out_qsize 0\n",
      "INFO - 22:10:58: EPOCH 20 - PROGRESS: at 34.73% examples, 135237 words/s, in_qsize 0, out_qsize 0\n",
      "INFO - 22:10:59: EPOCH 20 - PROGRESS: at 38.04% examples, 135521 words/s, in_qsize 0, out_qsize 0\n",
      "INFO - 22:11:00: EPOCH 20 - PROGRESS: at 41.42% examples, 135684 words/s, in_qsize 0, out_qsize 0\n",
      "INFO - 22:11:01: EPOCH 20 - PROGRESS: at 44.47% examples, 136000 words/s, in_qsize 0, out_qsize 0\n",
      "INFO - 22:11:02: EPOCH 20 - PROGRESS: at 47.49% examples, 136418 words/s, in_qsize 0, out_qsize 0\n",
      "INFO - 22:11:03: EPOCH 20 - PROGRESS: at 50.25% examples, 136107 words/s, in_qsize 0, out_qsize 0\n",
      "INFO - 22:11:04: EPOCH 20 - PROGRESS: at 53.13% examples, 136382 words/s, in_qsize 0, out_qsize 0\n",
      "INFO - 22:11:05: EPOCH 20 - PROGRESS: at 56.13% examples, 136354 words/s, in_qsize 0, out_qsize 0\n",
      "INFO - 22:11:06: EPOCH 20 - PROGRESS: at 58.92% examples, 136408 words/s, in_qsize 0, out_qsize 0\n",
      "INFO - 22:11:07: EPOCH 20 - PROGRESS: at 61.35% examples, 136326 words/s, in_qsize 0, out_qsize 0\n",
      "INFO - 22:11:08: EPOCH 20 - PROGRESS: at 64.14% examples, 136065 words/s, in_qsize 0, out_qsize 0\n",
      "INFO - 22:11:09: EPOCH 20 - PROGRESS: at 67.13% examples, 135989 words/s, in_qsize 0, out_qsize 0\n",
      "INFO - 22:11:10: EPOCH 20 - PROGRESS: at 70.59% examples, 135862 words/s, in_qsize 0, out_qsize 0\n",
      "INFO - 22:11:11: EPOCH 20 - PROGRESS: at 73.97% examples, 135456 words/s, in_qsize 0, out_qsize 0\n",
      "INFO - 22:11:12: EPOCH 20 - PROGRESS: at 77.25% examples, 135224 words/s, in_qsize 0, out_qsize 0\n",
      "INFO - 22:11:13: EPOCH 20 - PROGRESS: at 80.38% examples, 134915 words/s, in_qsize 0, out_qsize 0\n",
      "INFO - 22:11:14: EPOCH 20 - PROGRESS: at 83.15% examples, 134673 words/s, in_qsize 0, out_qsize 0\n",
      "INFO - 22:11:15: EPOCH 20 - PROGRESS: at 86.15% examples, 134844 words/s, in_qsize 0, out_qsize 0\n",
      "INFO - 22:11:16: EPOCH 20 - PROGRESS: at 89.07% examples, 134798 words/s, in_qsize 0, out_qsize 0\n",
      "INFO - 22:11:17: EPOCH 20 - PROGRESS: at 91.57% examples, 134654 words/s, in_qsize 0, out_qsize 0\n",
      "INFO - 22:11:18: EPOCH 20 - PROGRESS: at 94.28% examples, 134561 words/s, in_qsize 0, out_qsize 0\n",
      "INFO - 22:11:19: EPOCH 20 - PROGRESS: at 97.34% examples, 134583 words/s, in_qsize 0, out_qsize 0\n",
      "INFO - 22:11:20: worker thread finished; awaiting finish of 10 more threads\n",
      "INFO - 22:11:20: worker thread finished; awaiting finish of 9 more threads\n",
      "INFO - 22:11:20: worker thread finished; awaiting finish of 8 more threads\n",
      "INFO - 22:11:20: worker thread finished; awaiting finish of 7 more threads\n",
      "INFO - 22:11:20: worker thread finished; awaiting finish of 6 more threads\n",
      "INFO - 22:11:20: worker thread finished; awaiting finish of 5 more threads\n",
      "INFO - 22:11:20: worker thread finished; awaiting finish of 4 more threads\n",
      "INFO - 22:11:20: worker thread finished; awaiting finish of 3 more threads\n",
      "INFO - 22:11:20: worker thread finished; awaiting finish of 2 more threads\n",
      "INFO - 22:11:20: worker thread finished; awaiting finish of 1 more threads\n",
      "INFO - 22:11:20: worker thread finished; awaiting finish of 0 more threads\n",
      "INFO - 22:11:20: EPOCH - 20 : training on 8903225 raw words (4336554 effective words) took 32.2s, 134619 effective words/s\n",
      "INFO - 22:11:21: EPOCH 21 - PROGRESS: at 4.05% examples, 131186 words/s, in_qsize 0, out_qsize 0\n",
      "INFO - 22:11:22: EPOCH 21 - PROGRESS: at 7.80% examples, 134130 words/s, in_qsize 0, out_qsize 0\n",
      "INFO - 22:11:23: EPOCH 21 - PROGRESS: at 11.47% examples, 135332 words/s, in_qsize 0, out_qsize 0\n",
      "INFO - 22:11:24: EPOCH 21 - PROGRESS: at 14.87% examples, 134869 words/s, in_qsize 0, out_qsize 1\n",
      "INFO - 22:11:25: EPOCH 21 - PROGRESS: at 18.61% examples, 136922 words/s, in_qsize 0, out_qsize 0\n",
      "INFO - 22:11:26: EPOCH 21 - PROGRESS: at 22.22% examples, 136554 words/s, in_qsize 0, out_qsize 0\n",
      "INFO - 22:11:27: EPOCH 21 - PROGRESS: at 25.28% examples, 135921 words/s, in_qsize 0, out_qsize 0\n"
     ]
    },
    {
     "name": "stderr",
     "output_type": "stream",
     "text": [
      "INFO - 22:11:28: EPOCH 21 - PROGRESS: at 28.72% examples, 135771 words/s, in_qsize 0, out_qsize 0\n",
      "INFO - 22:11:29: EPOCH 21 - PROGRESS: at 31.94% examples, 135885 words/s, in_qsize 0, out_qsize 0\n",
      "INFO - 22:11:30: EPOCH 21 - PROGRESS: at 35.24% examples, 135767 words/s, in_qsize 0, out_qsize 0\n",
      "INFO - 22:11:31: EPOCH 21 - PROGRESS: at 38.56% examples, 136211 words/s, in_qsize 0, out_qsize 0\n",
      "INFO - 22:11:32: EPOCH 21 - PROGRESS: at 42.00% examples, 136401 words/s, in_qsize 0, out_qsize 0\n",
      "INFO - 22:11:33: EPOCH 21 - PROGRESS: at 44.96% examples, 136279 words/s, in_qsize 0, out_qsize 0\n",
      "INFO - 22:11:34: EPOCH 21 - PROGRESS: at 47.83% examples, 136615 words/s, in_qsize 0, out_qsize 0\n",
      "INFO - 22:11:35: EPOCH 21 - PROGRESS: at 50.84% examples, 136438 words/s, in_qsize 0, out_qsize 0\n",
      "INFO - 22:11:36: EPOCH 21 - PROGRESS: at 53.69% examples, 136428 words/s, in_qsize 0, out_qsize 0\n",
      "INFO - 22:11:37: EPOCH 21 - PROGRESS: at 56.50% examples, 136304 words/s, in_qsize 0, out_qsize 0\n",
      "INFO - 22:11:38: EPOCH 21 - PROGRESS: at 59.34% examples, 136228 words/s, in_qsize 0, out_qsize 0\n",
      "INFO - 22:11:39: EPOCH 21 - PROGRESS: at 61.74% examples, 136095 words/s, in_qsize 0, out_qsize 0\n",
      "INFO - 22:11:41: EPOCH 21 - PROGRESS: at 64.63% examples, 135904 words/s, in_qsize 0, out_qsize 0\n",
      "INFO - 22:11:42: EPOCH 21 - PROGRESS: at 67.68% examples, 135674 words/s, in_qsize 0, out_qsize 0\n",
      "INFO - 22:11:43: EPOCH 21 - PROGRESS: at 71.50% examples, 135793 words/s, in_qsize 0, out_qsize 0\n",
      "INFO - 22:11:44: EPOCH 21 - PROGRESS: at 74.93% examples, 135960 words/s, in_qsize 0, out_qsize 0\n",
      "INFO - 22:11:45: EPOCH 21 - PROGRESS: at 78.19% examples, 135934 words/s, in_qsize 0, out_qsize 0\n",
      "INFO - 22:11:46: EPOCH 21 - PROGRESS: at 81.24% examples, 135514 words/s, in_qsize 0, out_qsize 0\n",
      "INFO - 22:11:47: EPOCH 21 - PROGRESS: at 84.17% examples, 135478 words/s, in_qsize 0, out_qsize 0\n",
      "INFO - 22:11:48: EPOCH 21 - PROGRESS: at 87.22% examples, 135432 words/s, in_qsize 0, out_qsize 0\n",
      "INFO - 22:11:49: EPOCH 21 - PROGRESS: at 90.05% examples, 135384 words/s, in_qsize 0, out_qsize 0\n",
      "INFO - 22:11:50: EPOCH 21 - PROGRESS: at 92.47% examples, 135263 words/s, in_qsize 0, out_qsize 0\n",
      "INFO - 22:11:51: EPOCH 21 - PROGRESS: at 95.56% examples, 135300 words/s, in_qsize 0, out_qsize 0\n",
      "INFO - 22:11:52: EPOCH 21 - PROGRESS: at 98.50% examples, 135351 words/s, in_qsize 0, out_qsize 0\n",
      "INFO - 22:11:52: worker thread finished; awaiting finish of 10 more threads\n",
      "INFO - 22:11:52: worker thread finished; awaiting finish of 9 more threads\n",
      "INFO - 22:11:52: worker thread finished; awaiting finish of 8 more threads\n",
      "INFO - 22:11:52: worker thread finished; awaiting finish of 7 more threads\n",
      "INFO - 22:11:52: worker thread finished; awaiting finish of 6 more threads\n",
      "INFO - 22:11:52: worker thread finished; awaiting finish of 5 more threads\n",
      "INFO - 22:11:52: worker thread finished; awaiting finish of 4 more threads\n",
      "INFO - 22:11:52: worker thread finished; awaiting finish of 3 more threads\n",
      "INFO - 22:11:52: worker thread finished; awaiting finish of 2 more threads\n",
      "INFO - 22:11:52: worker thread finished; awaiting finish of 1 more threads\n",
      "INFO - 22:11:52: worker thread finished; awaiting finish of 0 more threads\n",
      "INFO - 22:11:52: EPOCH - 21 : training on 8903225 raw words (4337491 effective words) took 32.0s, 135368 effective words/s\n",
      "INFO - 22:11:53: EPOCH 22 - PROGRESS: at 4.05% examples, 134514 words/s, in_qsize 0, out_qsize 0\n",
      "INFO - 22:11:54: EPOCH 22 - PROGRESS: at 7.80% examples, 136289 words/s, in_qsize 0, out_qsize 0\n",
      "INFO - 22:11:55: EPOCH 22 - PROGRESS: at 11.47% examples, 136463 words/s, in_qsize 0, out_qsize 0\n",
      "INFO - 22:11:56: EPOCH 22 - PROGRESS: at 14.87% examples, 135914 words/s, in_qsize 0, out_qsize 0\n",
      "INFO - 22:11:57: EPOCH 22 - PROGRESS: at 18.41% examples, 136313 words/s, in_qsize 0, out_qsize 0\n",
      "INFO - 22:11:58: EPOCH 22 - PROGRESS: at 22.14% examples, 136806 words/s, in_qsize 0, out_qsize 0\n",
      "INFO - 22:11:59: EPOCH 22 - PROGRESS: at 25.16% examples, 135960 words/s, in_qsize 0, out_qsize 0\n",
      "INFO - 22:12:00: EPOCH 22 - PROGRESS: at 28.63% examples, 135805 words/s, in_qsize 0, out_qsize 0\n",
      "INFO - 22:12:01: EPOCH 22 - PROGRESS: at 31.82% examples, 136014 words/s, in_qsize 0, out_qsize 0\n",
      "INFO - 22:12:02: EPOCH 22 - PROGRESS: at 35.24% examples, 136486 words/s, in_qsize 0, out_qsize 0\n",
      "INFO - 22:12:03: EPOCH 22 - PROGRESS: at 38.51% examples, 136684 words/s, in_qsize 1, out_qsize 0\n",
      "INFO - 22:12:04: EPOCH 22 - PROGRESS: at 41.78% examples, 136738 words/s, in_qsize 0, out_qsize 0\n",
      "INFO - 22:12:05: EPOCH 22 - PROGRESS: at 44.91% examples, 136957 words/s, in_qsize 0, out_qsize 0\n",
      "INFO - 22:12:06: EPOCH 22 - PROGRESS: at 47.62% examples, 136791 words/s, in_qsize 1, out_qsize 0\n",
      "INFO - 22:12:07: EPOCH 22 - PROGRESS: at 50.64% examples, 136882 words/s, in_qsize 0, out_qsize 0\n",
      "INFO - 22:12:08: EPOCH 22 - PROGRESS: at 53.54% examples, 137119 words/s, in_qsize 0, out_qsize 0\n",
      "INFO - 22:12:09: EPOCH 22 - PROGRESS: at 56.50% examples, 137172 words/s, in_qsize 0, out_qsize 0\n",
      "INFO - 22:12:10: EPOCH 22 - PROGRESS: at 59.34% examples, 137009 words/s, in_qsize 0, out_qsize 0\n",
      "INFO - 22:12:11: EPOCH 22 - PROGRESS: at 61.74% examples, 136823 words/s, in_qsize 0, out_qsize 0\n",
      "INFO - 22:12:12: EPOCH 22 - PROGRESS: at 64.63% examples, 136643 words/s, in_qsize 0, out_qsize 0\n",
      "INFO - 22:12:13: EPOCH 22 - PROGRESS: at 67.68% examples, 136554 words/s, in_qsize 0, out_qsize 0\n",
      "INFO - 22:12:14: EPOCH 22 - PROGRESS: at 71.50% examples, 136517 words/s, in_qsize 0, out_qsize 0\n",
      "INFO - 22:12:16: EPOCH 22 - PROGRESS: at 74.93% examples, 136617 words/s, in_qsize 0, out_qsize 0\n",
      "INFO - 22:12:17: EPOCH 22 - PROGRESS: at 78.34% examples, 136576 words/s, in_qsize 0, out_qsize 0\n",
      "INFO - 22:12:18: EPOCH 22 - PROGRESS: at 81.55% examples, 136603 words/s, in_qsize 0, out_qsize 0\n",
      "INFO - 22:12:19: EPOCH 22 - PROGRESS: at 84.51% examples, 136732 words/s, in_qsize 0, out_qsize 0\n",
      "INFO - 22:12:20: EPOCH 22 - PROGRESS: at 87.49% examples, 136560 words/s, in_qsize 0, out_qsize 0\n",
      "INFO - 22:12:21: EPOCH 22 - PROGRESS: at 90.42% examples, 136644 words/s, in_qsize 0, out_qsize 0\n",
      "INFO - 22:12:22: EPOCH 22 - PROGRESS: at 93.02% examples, 136726 words/s, in_qsize 0, out_qsize 0\n",
      "INFO - 22:12:23: EPOCH 22 - PROGRESS: at 96.21% examples, 136869 words/s, in_qsize 0, out_qsize 0\n",
      "INFO - 22:12:24: EPOCH 22 - PROGRESS: at 99.35% examples, 136814 words/s, in_qsize 0, out_qsize 0\n",
      "INFO - 22:12:24: worker thread finished; awaiting finish of 10 more threads\n",
      "INFO - 22:12:24: worker thread finished; awaiting finish of 9 more threads\n",
      "INFO - 22:12:24: worker thread finished; awaiting finish of 8 more threads\n",
      "INFO - 22:12:24: worker thread finished; awaiting finish of 7 more threads\n",
      "INFO - 22:12:24: worker thread finished; awaiting finish of 6 more threads\n",
      "INFO - 22:12:24: worker thread finished; awaiting finish of 5 more threads\n",
      "INFO - 22:12:24: worker thread finished; awaiting finish of 4 more threads\n",
      "INFO - 22:12:24: worker thread finished; awaiting finish of 3 more threads\n",
      "INFO - 22:12:24: worker thread finished; awaiting finish of 2 more threads\n",
      "INFO - 22:12:24: worker thread finished; awaiting finish of 1 more threads\n",
      "INFO - 22:12:24: worker thread finished; awaiting finish of 0 more threads\n",
      "INFO - 22:12:24: EPOCH - 22 : training on 8903225 raw words (4338965 effective words) took 31.7s, 136860 effective words/s\n",
      "INFO - 22:12:25: EPOCH 23 - PROGRESS: at 4.24% examples, 137482 words/s, in_qsize 0, out_qsize 0\n",
      "INFO - 22:12:26: EPOCH 23 - PROGRESS: at 7.96% examples, 137454 words/s, in_qsize 0, out_qsize 0\n",
      "INFO - 22:12:27: EPOCH 23 - PROGRESS: at 11.73% examples, 138443 words/s, in_qsize 0, out_qsize 0\n",
      "INFO - 22:12:28: EPOCH 23 - PROGRESS: at 15.27% examples, 138982 words/s, in_qsize 0, out_qsize 0\n",
      "INFO - 22:12:29: EPOCH 23 - PROGRESS: at 18.72% examples, 138747 words/s, in_qsize 0, out_qsize 0\n",
      "INFO - 22:12:30: EPOCH 23 - PROGRESS: at 22.48% examples, 138612 words/s, in_qsize 0, out_qsize 0\n",
      "INFO - 22:12:31: EPOCH 23 - PROGRESS: at 25.72% examples, 138828 words/s, in_qsize 0, out_qsize 0\n",
      "INFO - 22:12:32: EPOCH 23 - PROGRESS: at 29.24% examples, 138740 words/s, in_qsize 0, out_qsize 0\n",
      "INFO - 22:12:33: EPOCH 23 - PROGRESS: at 32.61% examples, 138653 words/s, in_qsize 0, out_qsize 0\n",
      "INFO - 22:12:34: EPOCH 23 - PROGRESS: at 35.93% examples, 138527 words/s, in_qsize 0, out_qsize 0\n"
     ]
    },
    {
     "name": "stderr",
     "output_type": "stream",
     "text": [
      "INFO - 22:12:35: EPOCH 23 - PROGRESS: at 38.98% examples, 138526 words/s, in_qsize 1, out_qsize 0\n",
      "INFO - 22:12:36: EPOCH 23 - PROGRESS: at 42.41% examples, 138240 words/s, in_qsize 0, out_qsize 0\n",
      "INFO - 22:12:37: EPOCH 23 - PROGRESS: at 45.19% examples, 138179 words/s, in_qsize 0, out_qsize 0\n",
      "INFO - 22:12:38: EPOCH 23 - PROGRESS: at 48.16% examples, 138409 words/s, in_qsize 0, out_qsize 0\n",
      "INFO - 22:12:39: EPOCH 23 - PROGRESS: at 51.22% examples, 138338 words/s, in_qsize 0, out_qsize 0\n",
      "INFO - 22:12:40: EPOCH 23 - PROGRESS: at 53.96% examples, 138128 words/s, in_qsize 0, out_qsize 0\n",
      "INFO - 22:12:41: EPOCH 23 - PROGRESS: at 56.97% examples, 138034 words/s, in_qsize 0, out_qsize 0\n",
      "INFO - 22:12:42: EPOCH 23 - PROGRESS: at 59.87% examples, 137971 words/s, in_qsize 1, out_qsize 0\n",
      "INFO - 22:12:43: EPOCH 23 - PROGRESS: at 62.28% examples, 137992 words/s, in_qsize 0, out_qsize 0\n",
      "INFO - 22:12:44: EPOCH 23 - PROGRESS: at 65.25% examples, 138006 words/s, in_qsize 0, out_qsize 0\n",
      "INFO - 22:12:45: EPOCH 23 - PROGRESS: at 68.66% examples, 137869 words/s, in_qsize 0, out_qsize 0\n",
      "INFO - 22:12:46: EPOCH 23 - PROGRESS: at 72.20% examples, 137914 words/s, in_qsize 0, out_qsize 0\n",
      "INFO - 22:12:47: EPOCH 23 - PROGRESS: at 75.66% examples, 137857 words/s, in_qsize 0, out_qsize 0\n",
      "INFO - 22:12:48: EPOCH 23 - PROGRESS: at 79.17% examples, 137765 words/s, in_qsize 0, out_qsize 0\n",
      "INFO - 22:12:49: EPOCH 23 - PROGRESS: at 82.33% examples, 137841 words/s, in_qsize 0, out_qsize 0\n",
      "INFO - 22:12:50: EPOCH 23 - PROGRESS: at 85.18% examples, 137946 words/s, in_qsize 0, out_qsize 0\n",
      "INFO - 22:12:51: EPOCH 23 - PROGRESS: at 88.33% examples, 137880 words/s, in_qsize 0, out_qsize 0\n",
      "INFO - 22:12:52: EPOCH 23 - PROGRESS: at 91.07% examples, 137891 words/s, in_qsize 1, out_qsize 0\n",
      "INFO - 22:12:53: EPOCH 23 - PROGRESS: at 93.64% examples, 137665 words/s, in_qsize 0, out_qsize 0\n",
      "INFO - 22:12:54: EPOCH 23 - PROGRESS: at 96.68% examples, 137641 words/s, in_qsize 0, out_qsize 0\n",
      "INFO - 22:12:55: worker thread finished; awaiting finish of 10 more threads\n",
      "INFO - 22:12:55: worker thread finished; awaiting finish of 9 more threads\n",
      "INFO - 22:12:55: worker thread finished; awaiting finish of 8 more threads\n",
      "INFO - 22:12:55: worker thread finished; awaiting finish of 7 more threads\n",
      "INFO - 22:12:55: worker thread finished; awaiting finish of 6 more threads\n",
      "INFO - 22:12:55: worker thread finished; awaiting finish of 5 more threads\n",
      "INFO - 22:12:55: worker thread finished; awaiting finish of 4 more threads\n",
      "INFO - 22:12:55: worker thread finished; awaiting finish of 3 more threads\n",
      "INFO - 22:12:55: worker thread finished; awaiting finish of 2 more threads\n",
      "INFO - 22:12:55: worker thread finished; awaiting finish of 1 more threads\n",
      "INFO - 22:12:55: EPOCH 23 - PROGRESS: at 100.00% examples, 137627 words/s, in_qsize 0, out_qsize 1\n",
      "INFO - 22:12:55: worker thread finished; awaiting finish of 0 more threads\n",
      "INFO - 22:12:55: EPOCH - 23 : training on 8903225 raw words (4337509 effective words) took 31.5s, 137622 effective words/s\n",
      "INFO - 22:12:56: EPOCH 24 - PROGRESS: at 4.24% examples, 137943 words/s, in_qsize 0, out_qsize 0\n",
      "INFO - 22:12:57: EPOCH 24 - PROGRESS: at 8.02% examples, 139879 words/s, in_qsize 0, out_qsize 0\n",
      "INFO - 22:12:58: EPOCH 24 - PROGRESS: at 11.73% examples, 139601 words/s, in_qsize 0, out_qsize 0\n",
      "INFO - 22:12:59: EPOCH 24 - PROGRESS: at 15.08% examples, 139547 words/s, in_qsize 1, out_qsize 0\n",
      "INFO - 22:13:00: EPOCH 24 - PROGRESS: at 19.00% examples, 141724 words/s, in_qsize 0, out_qsize 0\n",
      "INFO - 22:13:01: EPOCH 24 - PROGRESS: at 22.70% examples, 141222 words/s, in_qsize 0, out_qsize 0\n",
      "INFO - 22:13:02: EPOCH 24 - PROGRESS: at 25.76% examples, 140556 words/s, in_qsize 0, out_qsize 0\n",
      "INFO - 22:13:04: EPOCH 24 - PROGRESS: at 29.36% examples, 140210 words/s, in_qsize 0, out_qsize 0\n",
      "INFO - 22:13:05: EPOCH 24 - PROGRESS: at 32.83% examples, 139583 words/s, in_qsize 0, out_qsize 0\n",
      "INFO - 22:13:06: EPOCH 24 - PROGRESS: at 36.11% examples, 139698 words/s, in_qsize 0, out_qsize 0\n",
      "INFO - 22:13:07: EPOCH 24 - PROGRESS: at 39.27% examples, 139592 words/s, in_qsize 0, out_qsize 0\n",
      "INFO - 22:13:08: EPOCH 24 - PROGRESS: at 42.65% examples, 138985 words/s, in_qsize 0, out_qsize 0\n",
      "INFO - 22:13:09: EPOCH 24 - PROGRESS: at 45.30% examples, 138536 words/s, in_qsize 1, out_qsize 0\n",
      "INFO - 22:13:10: EPOCH 24 - PROGRESS: at 48.16% examples, 138582 words/s, in_qsize 1, out_qsize 0\n",
      "INFO - 22:13:11: EPOCH 24 - PROGRESS: at 51.22% examples, 138699 words/s, in_qsize 0, out_qsize 0\n",
      "INFO - 22:13:12: EPOCH 24 - PROGRESS: at 53.91% examples, 138154 words/s, in_qsize 0, out_qsize 0\n",
      "INFO - 22:13:13: EPOCH 24 - PROGRESS: at 56.83% examples, 137932 words/s, in_qsize 0, out_qsize 0\n",
      "INFO - 22:13:14: EPOCH 24 - PROGRESS: at 59.67% examples, 137749 words/s, in_qsize 0, out_qsize 0\n",
      "INFO - 22:13:15: EPOCH 24 - PROGRESS: at 61.80% examples, 136953 words/s, in_qsize 0, out_qsize 0\n",
      "INFO - 22:13:16: EPOCH 24 - PROGRESS: at 64.63% examples, 136625 words/s, in_qsize 0, out_qsize 0\n",
      "INFO - 22:13:17: EPOCH 24 - PROGRESS: at 67.68% examples, 136454 words/s, in_qsize 0, out_qsize 0\n",
      "INFO - 22:13:18: EPOCH 24 - PROGRESS: at 71.50% examples, 136445 words/s, in_qsize 0, out_qsize 0\n",
      "INFO - 22:13:19: EPOCH 24 - PROGRESS: at 75.03% examples, 136602 words/s, in_qsize 0, out_qsize 0\n",
      "INFO - 22:13:20: EPOCH 24 - PROGRESS: at 78.34% examples, 136430 words/s, in_qsize 0, out_qsize 0\n",
      "INFO - 22:13:21: EPOCH 24 - PROGRESS: at 81.55% examples, 136443 words/s, in_qsize 0, out_qsize 0\n",
      "INFO - 22:13:22: EPOCH 24 - PROGRESS: at 84.51% examples, 136566 words/s, in_qsize 0, out_qsize 0\n",
      "INFO - 22:13:23: EPOCH 24 - PROGRESS: at 87.53% examples, 136488 words/s, in_qsize 0, out_qsize 0\n",
      "INFO - 22:13:24: EPOCH 24 - PROGRESS: at 90.52% examples, 136477 words/s, in_qsize 0, out_qsize 0\n",
      "INFO - 22:13:25: EPOCH 24 - PROGRESS: at 93.02% examples, 136542 words/s, in_qsize 0, out_qsize 0\n",
      "INFO - 22:13:26: EPOCH 24 - PROGRESS: at 96.15% examples, 136598 words/s, in_qsize 0, out_qsize 0\n",
      "INFO - 22:13:27: EPOCH 24 - PROGRESS: at 99.35% examples, 136683 words/s, in_qsize 0, out_qsize 0\n",
      "INFO - 22:13:27: worker thread finished; awaiting finish of 10 more threads\n",
      "INFO - 22:13:27: worker thread finished; awaiting finish of 9 more threads\n",
      "INFO - 22:13:27: worker thread finished; awaiting finish of 8 more threads\n",
      "INFO - 22:13:27: worker thread finished; awaiting finish of 7 more threads\n",
      "INFO - 22:13:27: worker thread finished; awaiting finish of 6 more threads\n",
      "INFO - 22:13:27: worker thread finished; awaiting finish of 5 more threads\n",
      "INFO - 22:13:27: worker thread finished; awaiting finish of 4 more threads\n",
      "INFO - 22:13:27: worker thread finished; awaiting finish of 3 more threads\n",
      "INFO - 22:13:27: worker thread finished; awaiting finish of 2 more threads\n",
      "INFO - 22:13:27: worker thread finished; awaiting finish of 1 more threads\n",
      "INFO - 22:13:27: worker thread finished; awaiting finish of 0 more threads\n",
      "INFO - 22:13:27: EPOCH - 24 : training on 8903225 raw words (4337840 effective words) took 31.7s, 136667 effective words/s\n",
      "INFO - 22:13:28: EPOCH 25 - PROGRESS: at 4.05% examples, 135860 words/s, in_qsize 0, out_qsize 0\n",
      "INFO - 22:13:29: EPOCH 25 - PROGRESS: at 7.96% examples, 138165 words/s, in_qsize 0, out_qsize 0\n",
      "INFO - 22:13:30: EPOCH 25 - PROGRESS: at 11.47% examples, 136589 words/s, in_qsize 0, out_qsize 0\n",
      "INFO - 22:13:31: EPOCH 25 - PROGRESS: at 14.93% examples, 137268 words/s, in_qsize 0, out_qsize 0\n",
      "INFO - 22:13:32: EPOCH 25 - PROGRESS: at 18.53% examples, 137418 words/s, in_qsize 0, out_qsize 0\n",
      "INFO - 22:13:33: EPOCH 25 - PROGRESS: at 22.14% examples, 137121 words/s, in_qsize 0, out_qsize 0\n",
      "INFO - 22:13:34: EPOCH 25 - PROGRESS: at 25.16% examples, 136350 words/s, in_qsize 0, out_qsize 0\n",
      "INFO - 22:13:35: EPOCH 25 - PROGRESS: at 28.63% examples, 136233 words/s, in_qsize 0, out_qsize 0\n",
      "INFO - 22:13:36: EPOCH 25 - PROGRESS: at 31.94% examples, 136853 words/s, in_qsize 0, out_qsize 0\n",
      "INFO - 22:13:37: EPOCH 25 - PROGRESS: at 35.24% examples, 137134 words/s, in_qsize 0, out_qsize 0\n",
      "INFO - 22:13:38: EPOCH 25 - PROGRESS: at 38.56% examples, 137313 words/s, in_qsize 0, out_qsize 0\n",
      "INFO - 22:13:39: EPOCH 25 - PROGRESS: at 42.00% examples, 137528 words/s, in_qsize 0, out_qsize 0\n",
      "INFO - 22:13:40: EPOCH 25 - PROGRESS: at 45.12% examples, 137986 words/s, in_qsize 0, out_qsize 0\n"
     ]
    },
    {
     "name": "stderr",
     "output_type": "stream",
     "text": [
      "INFO - 22:13:41: EPOCH 25 - PROGRESS: at 47.92% examples, 137900 words/s, in_qsize 0, out_qsize 0\n",
      "INFO - 22:13:42: EPOCH 25 - PROGRESS: at 50.92% examples, 137771 words/s, in_qsize 0, out_qsize 0\n",
      "INFO - 22:13:43: EPOCH 25 - PROGRESS: at 53.85% examples, 137742 words/s, in_qsize 0, out_qsize 0\n",
      "INFO - 22:13:44: EPOCH 25 - PROGRESS: at 56.73% examples, 137580 words/s, in_qsize 0, out_qsize 0\n",
      "INFO - 22:13:45: EPOCH 25 - PROGRESS: at 59.58% examples, 137514 words/s, in_qsize 0, out_qsize 0\n",
      "INFO - 22:13:46: EPOCH 25 - PROGRESS: at 61.97% examples, 137442 words/s, in_qsize 0, out_qsize 0\n",
      "INFO - 22:13:47: EPOCH 25 - PROGRESS: at 64.90% examples, 137317 words/s, in_qsize 0, out_qsize 0\n",
      "INFO - 22:13:48: EPOCH 25 - PROGRESS: at 68.11% examples, 137122 words/s, in_qsize 0, out_qsize 0\n",
      "INFO - 22:13:49: EPOCH 25 - PROGRESS: at 71.67% examples, 136935 words/s, in_qsize 0, out_qsize 0\n",
      "INFO - 22:13:50: EPOCH 25 - PROGRESS: at 75.03% examples, 136851 words/s, in_qsize 0, out_qsize 0\n",
      "INFO - 22:13:52: EPOCH 25 - PROGRESS: at 78.34% examples, 136691 words/s, in_qsize 0, out_qsize 0\n",
      "INFO - 22:13:53: EPOCH 25 - PROGRESS: at 81.55% examples, 136534 words/s, in_qsize 1, out_qsize 0\n",
      "INFO - 22:13:54: EPOCH 25 - PROGRESS: at 84.51% examples, 136616 words/s, in_qsize 0, out_qsize 0\n",
      "INFO - 22:13:55: EPOCH 25 - PROGRESS: at 87.61% examples, 136762 words/s, in_qsize 0, out_qsize 0\n",
      "INFO - 22:13:56: EPOCH 25 - PROGRESS: at 90.56% examples, 136786 words/s, in_qsize 0, out_qsize 0\n",
      "INFO - 22:13:57: EPOCH 25 - PROGRESS: at 93.30% examples, 136938 words/s, in_qsize 0, out_qsize 0\n",
      "INFO - 22:13:58: EPOCH 25 - PROGRESS: at 96.38% examples, 137094 words/s, in_qsize 0, out_qsize 0\n",
      "INFO - 22:13:59: EPOCH 25 - PROGRESS: at 99.72% examples, 137101 words/s, in_qsize 0, out_qsize 0\n",
      "INFO - 22:13:59: worker thread finished; awaiting finish of 10 more threads\n",
      "INFO - 22:13:59: worker thread finished; awaiting finish of 9 more threads\n",
      "INFO - 22:13:59: worker thread finished; awaiting finish of 8 more threads\n",
      "INFO - 22:13:59: worker thread finished; awaiting finish of 7 more threads\n",
      "INFO - 22:13:59: worker thread finished; awaiting finish of 6 more threads\n",
      "INFO - 22:13:59: worker thread finished; awaiting finish of 5 more threads\n",
      "INFO - 22:13:59: worker thread finished; awaiting finish of 4 more threads\n",
      "INFO - 22:13:59: worker thread finished; awaiting finish of 3 more threads\n",
      "INFO - 22:13:59: worker thread finished; awaiting finish of 2 more threads\n",
      "INFO - 22:13:59: worker thread finished; awaiting finish of 1 more threads\n",
      "INFO - 22:13:59: worker thread finished; awaiting finish of 0 more threads\n",
      "INFO - 22:13:59: EPOCH - 25 : training on 8903225 raw words (4337288 effective words) took 31.6s, 137171 effective words/s\n",
      "INFO - 22:14:00: EPOCH 26 - PROGRESS: at 4.05% examples, 135374 words/s, in_qsize 0, out_qsize 0\n",
      "INFO - 22:14:01: EPOCH 26 - PROGRESS: at 7.80% examples, 137553 words/s, in_qsize 0, out_qsize 0\n",
      "INFO - 22:14:02: EPOCH 26 - PROGRESS: at 11.64% examples, 139312 words/s, in_qsize 0, out_qsize 0\n",
      "INFO - 22:14:03: EPOCH 26 - PROGRESS: at 14.93% examples, 138917 words/s, in_qsize 0, out_qsize 0\n",
      "INFO - 22:14:04: EPOCH 26 - PROGRESS: at 18.53% examples, 138866 words/s, in_qsize 0, out_qsize 0\n",
      "INFO - 22:14:05: EPOCH 26 - PROGRESS: at 22.14% examples, 138552 words/s, in_qsize 1, out_qsize 0\n",
      "INFO - 22:14:06: EPOCH 26 - PROGRESS: at 25.33% examples, 138416 words/s, in_qsize 0, out_qsize 0\n",
      "INFO - 22:14:07: EPOCH 26 - PROGRESS: at 28.87% examples, 138137 words/s, in_qsize 0, out_qsize 0\n",
      "INFO - 22:14:08: EPOCH 26 - PROGRESS: at 32.15% examples, 138355 words/s, in_qsize 0, out_qsize 0\n",
      "INFO - 22:14:09: EPOCH 26 - PROGRESS: at 35.48% examples, 138215 words/s, in_qsize 0, out_qsize 0\n",
      "INFO - 22:14:10: EPOCH 26 - PROGRESS: at 38.80% examples, 138277 words/s, in_qsize 0, out_qsize 0\n",
      "INFO - 22:14:11: EPOCH 26 - PROGRESS: at 42.11% examples, 138021 words/s, in_qsize 0, out_qsize 0\n",
      "INFO - 22:14:12: EPOCH 26 - PROGRESS: at 45.12% examples, 138127 words/s, in_qsize 0, out_qsize 0\n",
      "INFO - 22:14:13: EPOCH 26 - PROGRESS: at 47.92% examples, 138118 words/s, in_qsize 0, out_qsize 0\n",
      "INFO - 22:14:14: EPOCH 26 - PROGRESS: at 51.02% examples, 137964 words/s, in_qsize 1, out_qsize 0\n",
      "INFO - 22:14:15: EPOCH 26 - PROGRESS: at 53.85% examples, 137918 words/s, in_qsize 0, out_qsize 0\n",
      "INFO - 22:14:16: EPOCH 26 - PROGRESS: at 56.73% examples, 137822 words/s, in_qsize 0, out_qsize 0\n",
      "INFO - 22:14:17: EPOCH 26 - PROGRESS: at 59.58% examples, 137737 words/s, in_qsize 0, out_qsize 0\n",
      "INFO - 22:14:18: EPOCH 26 - PROGRESS: at 61.81% examples, 137581 words/s, in_qsize 1, out_qsize 0\n",
      "INFO - 22:14:19: EPOCH 26 - PROGRESS: at 64.81% examples, 137332 words/s, in_qsize 0, out_qsize 0\n",
      "INFO - 22:14:20: EPOCH 26 - PROGRESS: at 67.98% examples, 137075 words/s, in_qsize 0, out_qsize 0\n",
      "INFO - 22:14:21: EPOCH 26 - PROGRESS: at 71.67% examples, 136979 words/s, in_qsize 1, out_qsize 0\n",
      "INFO - 22:14:22: EPOCH 26 - PROGRESS: at 75.20% examples, 137083 words/s, in_qsize 0, out_qsize 0\n",
      "INFO - 22:14:23: EPOCH 26 - PROGRESS: at 78.46% examples, 136984 words/s, in_qsize 0, out_qsize 0\n",
      "INFO - 22:14:24: EPOCH 26 - PROGRESS: at 81.65% examples, 137006 words/s, in_qsize 0, out_qsize 0\n",
      "INFO - 22:14:25: EPOCH 26 - PROGRESS: at 84.66% examples, 137072 words/s, in_qsize 0, out_qsize 0\n",
      "INFO - 22:14:26: EPOCH 26 - PROGRESS: at 87.61% examples, 137066 words/s, in_qsize 0, out_qsize 0\n",
      "INFO - 22:14:27: EPOCH 26 - PROGRESS: at 90.56% examples, 137098 words/s, in_qsize 0, out_qsize 0\n",
      "INFO - 22:14:28: EPOCH 26 - PROGRESS: at 93.02% examples, 136962 words/s, in_qsize 0, out_qsize 0\n",
      "INFO - 22:14:29: EPOCH 26 - PROGRESS: at 96.10% examples, 136856 words/s, in_qsize 0, out_qsize 0\n",
      "INFO - 22:14:30: EPOCH 26 - PROGRESS: at 99.20% examples, 136962 words/s, in_qsize 0, out_qsize 0\n",
      "INFO - 22:14:30: worker thread finished; awaiting finish of 10 more threads\n",
      "INFO - 22:14:30: worker thread finished; awaiting finish of 9 more threads\n",
      "INFO - 22:14:30: worker thread finished; awaiting finish of 8 more threads\n",
      "INFO - 22:14:30: worker thread finished; awaiting finish of 7 more threads\n",
      "INFO - 22:14:30: worker thread finished; awaiting finish of 6 more threads\n",
      "INFO - 22:14:30: worker thread finished; awaiting finish of 5 more threads\n",
      "INFO - 22:14:30: worker thread finished; awaiting finish of 4 more threads\n",
      "INFO - 22:14:30: worker thread finished; awaiting finish of 3 more threads\n",
      "INFO - 22:14:30: worker thread finished; awaiting finish of 2 more threads\n",
      "INFO - 22:14:30: worker thread finished; awaiting finish of 1 more threads\n",
      "INFO - 22:14:30: worker thread finished; awaiting finish of 0 more threads\n",
      "INFO - 22:14:30: EPOCH - 26 : training on 8903225 raw words (4337082 effective words) took 31.7s, 137004 effective words/s\n",
      "INFO - 22:14:31: EPOCH 27 - PROGRESS: at 4.05% examples, 132710 words/s, in_qsize 0, out_qsize 0\n",
      "INFO - 22:14:32: EPOCH 27 - PROGRESS: at 7.96% examples, 136610 words/s, in_qsize 0, out_qsize 0\n",
      "INFO - 22:14:34: EPOCH 27 - PROGRESS: at 11.73% examples, 137828 words/s, in_qsize 0, out_qsize 0\n",
      "INFO - 22:14:35: EPOCH 27 - PROGRESS: at 15.08% examples, 137922 words/s, in_qsize 0, out_qsize 0\n",
      "INFO - 22:14:36: EPOCH 27 - PROGRESS: at 18.61% examples, 137223 words/s, in_qsize 0, out_qsize 0\n",
      "INFO - 22:14:37: EPOCH 27 - PROGRESS: at 22.48% examples, 137946 words/s, in_qsize 0, out_qsize 0\n",
      "INFO - 22:14:38: EPOCH 27 - PROGRESS: at 25.33% examples, 136268 words/s, in_qsize 1, out_qsize 0\n",
      "INFO - 22:14:39: EPOCH 27 - PROGRESS: at 28.72% examples, 135582 words/s, in_qsize 0, out_qsize 0\n",
      "INFO - 22:14:40: EPOCH 27 - PROGRESS: at 31.94% examples, 135709 words/s, in_qsize 0, out_qsize 0\n",
      "INFO - 22:14:41: EPOCH 27 - PROGRESS: at 35.24% examples, 135745 words/s, in_qsize 0, out_qsize 0\n",
      "INFO - 22:14:42: EPOCH 27 - PROGRESS: at 38.43% examples, 135459 words/s, in_qsize 0, out_qsize 0\n",
      "INFO - 22:14:43: EPOCH 27 - PROGRESS: at 41.70% examples, 135657 words/s, in_qsize 0, out_qsize 0\n",
      "INFO - 22:14:44: EPOCH 27 - PROGRESS: at 44.61% examples, 135527 words/s, in_qsize 0, out_qsize 0\n",
      "INFO - 22:14:45: EPOCH 27 - PROGRESS: at 47.57% examples, 135763 words/s, in_qsize 0, out_qsize 0\n",
      "INFO - 22:14:46: EPOCH 27 - PROGRESS: at 50.58% examples, 135950 words/s, in_qsize 0, out_qsize 0\n",
      "INFO - 22:14:47: EPOCH 27 - PROGRESS: at 53.30% examples, 136007 words/s, in_qsize 0, out_qsize 0\n"
     ]
    },
    {
     "name": "stderr",
     "output_type": "stream",
     "text": [
      "INFO - 22:14:48: EPOCH 27 - PROGRESS: at 56.46% examples, 136116 words/s, in_qsize 1, out_qsize 0\n",
      "INFO - 22:14:49: EPOCH 27 - PROGRESS: at 59.26% examples, 136123 words/s, in_qsize 0, out_qsize 0\n",
      "INFO - 22:14:50: EPOCH 27 - PROGRESS: at 61.74% examples, 136249 words/s, in_qsize 0, out_qsize 0\n",
      "INFO - 22:14:51: EPOCH 27 - PROGRESS: at 64.63% examples, 136176 words/s, in_qsize 0, out_qsize 0\n",
      "INFO - 22:14:52: EPOCH 27 - PROGRESS: at 67.68% examples, 136111 words/s, in_qsize 0, out_qsize 0\n",
      "INFO - 22:14:53: EPOCH 27 - PROGRESS: at 71.50% examples, 136116 words/s, in_qsize 0, out_qsize 0\n",
      "INFO - 22:14:54: EPOCH 27 - PROGRESS: at 74.93% examples, 136136 words/s, in_qsize 0, out_qsize 0\n",
      "INFO - 22:14:55: EPOCH 27 - PROGRESS: at 78.34% examples, 136184 words/s, in_qsize 0, out_qsize 0\n",
      "INFO - 22:14:56: EPOCH 27 - PROGRESS: at 81.55% examples, 136058 words/s, in_qsize 0, out_qsize 0\n",
      "INFO - 22:14:57: EPOCH 27 - PROGRESS: at 84.41% examples, 135916 words/s, in_qsize 0, out_qsize 0\n",
      "INFO - 22:14:58: EPOCH 27 - PROGRESS: at 87.49% examples, 135864 words/s, in_qsize 0, out_qsize 0\n",
      "INFO - 22:14:59: EPOCH 27 - PROGRESS: at 90.42% examples, 135940 words/s, in_qsize 0, out_qsize 0\n",
      "INFO - 22:15:00: EPOCH 27 - PROGRESS: at 92.98% examples, 135979 words/s, in_qsize 0, out_qsize 0\n",
      "INFO - 22:15:01: EPOCH 27 - PROGRESS: at 95.97% examples, 135915 words/s, in_qsize 0, out_qsize 0\n",
      "INFO - 22:15:02: EPOCH 27 - PROGRESS: at 98.93% examples, 135988 words/s, in_qsize 0, out_qsize 0\n",
      "INFO - 22:15:02: worker thread finished; awaiting finish of 10 more threads\n",
      "INFO - 22:15:02: worker thread finished; awaiting finish of 9 more threads\n",
      "INFO - 22:15:02: worker thread finished; awaiting finish of 8 more threads\n",
      "INFO - 22:15:02: worker thread finished; awaiting finish of 7 more threads\n",
      "INFO - 22:15:02: worker thread finished; awaiting finish of 6 more threads\n",
      "INFO - 22:15:02: worker thread finished; awaiting finish of 5 more threads\n",
      "INFO - 22:15:02: worker thread finished; awaiting finish of 4 more threads\n",
      "INFO - 22:15:02: worker thread finished; awaiting finish of 3 more threads\n",
      "INFO - 22:15:02: worker thread finished; awaiting finish of 2 more threads\n",
      "INFO - 22:15:02: worker thread finished; awaiting finish of 1 more threads\n",
      "INFO - 22:15:02: worker thread finished; awaiting finish of 0 more threads\n",
      "INFO - 22:15:02: EPOCH - 27 : training on 8903225 raw words (4336561 effective words) took 31.9s, 136006 effective words/s\n",
      "INFO - 22:15:03: EPOCH 28 - PROGRESS: at 4.24% examples, 137134 words/s, in_qsize 0, out_qsize 0\n",
      "INFO - 22:15:04: EPOCH 28 - PROGRESS: at 7.80% examples, 134229 words/s, in_qsize 0, out_qsize 0\n",
      "INFO - 22:15:05: EPOCH 28 - PROGRESS: at 11.47% examples, 135015 words/s, in_qsize 0, out_qsize 0\n",
      "INFO - 22:15:06: EPOCH 28 - PROGRESS: at 14.73% examples, 133019 words/s, in_qsize 0, out_qsize 0\n",
      "INFO - 22:15:07: EPOCH 28 - PROGRESS: at 18.28% examples, 133889 words/s, in_qsize 0, out_qsize 0\n",
      "INFO - 22:15:08: EPOCH 28 - PROGRESS: at 21.91% examples, 134294 words/s, in_qsize 0, out_qsize 0\n",
      "INFO - 22:15:09: EPOCH 28 - PROGRESS: at 25.09% examples, 134687 words/s, in_qsize 0, out_qsize 0\n",
      "INFO - 22:15:10: EPOCH 28 - PROGRESS: at 28.52% examples, 134913 words/s, in_qsize 0, out_qsize 0\n",
      "INFO - 22:15:12: EPOCH 28 - PROGRESS: at 31.65% examples, 135153 words/s, in_qsize 0, out_qsize 0\n",
      "INFO - 22:15:13: EPOCH 28 - PROGRESS: at 34.87% examples, 134975 words/s, in_qsize 0, out_qsize 0\n",
      "INFO - 22:15:14: EPOCH 28 - PROGRESS: at 38.04% examples, 134551 words/s, in_qsize 0, out_qsize 0\n",
      "INFO - 22:15:15: EPOCH 28 - PROGRESS: at 41.29% examples, 134400 words/s, in_qsize 0, out_qsize 0\n",
      "INFO - 22:15:16: EPOCH 28 - PROGRESS: at 44.44% examples, 134693 words/s, in_qsize 0, out_qsize 0\n",
      "INFO - 22:15:17: EPOCH 28 - PROGRESS: at 47.22% examples, 134908 words/s, in_qsize 1, out_qsize 0\n",
      "INFO - 22:15:18: EPOCH 28 - PROGRESS: at 50.14% examples, 134983 words/s, in_qsize 0, out_qsize 0\n",
      "INFO - 22:15:19: EPOCH 28 - PROGRESS: at 52.88% examples, 134902 words/s, in_qsize 0, out_qsize 0\n",
      "INFO - 22:15:20: EPOCH 28 - PROGRESS: at 56.00% examples, 135018 words/s, in_qsize 0, out_qsize 0\n",
      "INFO - 22:15:21: EPOCH 28 - PROGRESS: at 58.80% examples, 134865 words/s, in_qsize 0, out_qsize 0\n",
      "INFO - 22:15:22: EPOCH 28 - PROGRESS: at 61.27% examples, 134895 words/s, in_qsize 1, out_qsize 0\n",
      "INFO - 22:15:23: EPOCH 28 - PROGRESS: at 64.14% examples, 135213 words/s, in_qsize 0, out_qsize 0\n",
      "INFO - 22:15:24: EPOCH 28 - PROGRESS: at 67.13% examples, 135175 words/s, in_qsize 0, out_qsize 0\n",
      "INFO - 22:15:25: EPOCH 28 - PROGRESS: at 70.59% examples, 135010 words/s, in_qsize 1, out_qsize 0\n",
      "INFO - 22:15:26: EPOCH 28 - PROGRESS: at 74.24% examples, 135086 words/s, in_qsize 0, out_qsize 0\n",
      "INFO - 22:15:27: EPOCH 28 - PROGRESS: at 77.67% examples, 134983 words/s, in_qsize 0, out_qsize 0\n",
      "INFO - 22:15:28: EPOCH 28 - PROGRESS: at 80.81% examples, 134886 words/s, in_qsize 0, out_qsize 0\n",
      "INFO - 22:15:29: EPOCH 28 - PROGRESS: at 83.73% examples, 134975 words/s, in_qsize 0, out_qsize 0\n",
      "INFO - 22:15:30: EPOCH 28 - PROGRESS: at 86.82% examples, 135058 words/s, in_qsize 0, out_qsize 0\n",
      "INFO - 22:15:31: EPOCH 28 - PROGRESS: at 89.64% examples, 135020 words/s, in_qsize 0, out_qsize 0\n",
      "INFO - 22:15:32: EPOCH 28 - PROGRESS: at 92.05% examples, 134932 words/s, in_qsize 0, out_qsize 0\n",
      "INFO - 22:15:33: EPOCH 28 - PROGRESS: at 94.96% examples, 134859 words/s, in_qsize 0, out_qsize 0\n",
      "INFO - 22:15:34: EPOCH 28 - PROGRESS: at 97.78% examples, 134823 words/s, in_qsize 0, out_qsize 0\n",
      "INFO - 22:15:34: worker thread finished; awaiting finish of 10 more threads\n",
      "INFO - 22:15:34: worker thread finished; awaiting finish of 9 more threads\n",
      "INFO - 22:15:34: worker thread finished; awaiting finish of 8 more threads\n",
      "INFO - 22:15:34: worker thread finished; awaiting finish of 7 more threads\n",
      "INFO - 22:15:34: worker thread finished; awaiting finish of 6 more threads\n",
      "INFO - 22:15:34: worker thread finished; awaiting finish of 5 more threads\n",
      "INFO - 22:15:34: worker thread finished; awaiting finish of 4 more threads\n",
      "INFO - 22:15:34: worker thread finished; awaiting finish of 3 more threads\n",
      "INFO - 22:15:34: worker thread finished; awaiting finish of 2 more threads\n",
      "INFO - 22:15:34: worker thread finished; awaiting finish of 1 more threads\n",
      "INFO - 22:15:34: worker thread finished; awaiting finish of 0 more threads\n",
      "INFO - 22:15:34: EPOCH - 28 : training on 8903225 raw words (4336853 effective words) took 32.2s, 134793 effective words/s\n",
      "INFO - 22:15:36: EPOCH 29 - PROGRESS: at 4.05% examples, 134308 words/s, in_qsize 0, out_qsize 0\n",
      "INFO - 22:15:37: EPOCH 29 - PROGRESS: at 8.02% examples, 139246 words/s, in_qsize 0, out_qsize 0\n",
      "INFO - 22:15:38: EPOCH 29 - PROGRESS: at 11.73% examples, 138959 words/s, in_qsize 0, out_qsize 0\n",
      "INFO - 22:15:39: EPOCH 29 - PROGRESS: at 15.08% examples, 138459 words/s, in_qsize 0, out_qsize 0\n",
      "INFO - 22:15:40: EPOCH 29 - PROGRESS: at 18.53% examples, 137227 words/s, in_qsize 0, out_qsize 0\n",
      "INFO - 22:15:41: EPOCH 29 - PROGRESS: at 22.22% examples, 137410 words/s, in_qsize 0, out_qsize 0\n",
      "INFO - 22:15:42: EPOCH 29 - PROGRESS: at 25.41% examples, 137156 words/s, in_qsize 0, out_qsize 0\n",
      "INFO - 22:15:43: EPOCH 29 - PROGRESS: at 29.06% examples, 137408 words/s, in_qsize 0, out_qsize 0\n",
      "INFO - 22:15:44: EPOCH 29 - PROGRESS: at 32.30% examples, 136935 words/s, in_qsize 0, out_qsize 0\n",
      "INFO - 22:15:45: EPOCH 29 - PROGRESS: at 35.58% examples, 137041 words/s, in_qsize 0, out_qsize 0\n",
      "INFO - 22:15:46: EPOCH 29 - PROGRESS: at 38.80% examples, 136881 words/s, in_qsize 0, out_qsize 0\n",
      "INFO - 22:15:47: EPOCH 29 - PROGRESS: at 41.78% examples, 135671 words/s, in_qsize 0, out_qsize 0\n",
      "INFO - 22:15:48: EPOCH 29 - PROGRESS: at 44.61% examples, 135415 words/s, in_qsize 0, out_qsize 0\n",
      "INFO - 22:15:49: EPOCH 29 - PROGRESS: at 47.57% examples, 135477 words/s, in_qsize 1, out_qsize 0\n",
      "INFO - 22:15:50: EPOCH 29 - PROGRESS: at 50.37% examples, 135124 words/s, in_qsize 0, out_qsize 0\n",
      "INFO - 22:15:51: EPOCH 29 - PROGRESS: at 53.00% examples, 134934 words/s, in_qsize 0, out_qsize 0\n",
      "INFO - 22:15:52: EPOCH 29 - PROGRESS: at 56.13% examples, 135072 words/s, in_qsize 0, out_qsize 0\n",
      "INFO - 22:15:53: EPOCH 29 - PROGRESS: at 58.87% examples, 134925 words/s, in_qsize 0, out_qsize 0\n",
      "INFO - 22:15:54: EPOCH 29 - PROGRESS: at 61.35% examples, 135031 words/s, in_qsize 0, out_qsize 0\n"
     ]
    },
    {
     "name": "stderr",
     "output_type": "stream",
     "text": [
      "INFO - 22:15:55: EPOCH 29 - PROGRESS: at 64.24% examples, 135077 words/s, in_qsize 1, out_qsize 0\n",
      "INFO - 22:15:56: EPOCH 29 - PROGRESS: at 67.35% examples, 135090 words/s, in_qsize 0, out_qsize 0\n",
      "INFO - 22:15:57: EPOCH 29 - PROGRESS: at 71.04% examples, 135196 words/s, in_qsize 0, out_qsize 0\n",
      "INFO - 22:15:58: EPOCH 29 - PROGRESS: at 74.54% examples, 135167 words/s, in_qsize 0, out_qsize 0\n",
      "INFO - 22:15:59: EPOCH 29 - PROGRESS: at 77.91% examples, 135351 words/s, in_qsize 0, out_qsize 0\n",
      "INFO - 22:16:00: EPOCH 29 - PROGRESS: at 81.24% examples, 135479 words/s, in_qsize 0, out_qsize 0\n",
      "INFO - 22:16:01: EPOCH 29 - PROGRESS: at 84.22% examples, 135604 words/s, in_qsize 0, out_qsize 0\n",
      "INFO - 22:16:02: EPOCH 29 - PROGRESS: at 87.30% examples, 135660 words/s, in_qsize 0, out_qsize 0\n",
      "INFO - 22:16:03: EPOCH 29 - PROGRESS: at 90.18% examples, 135582 words/s, in_qsize 0, out_qsize 0\n",
      "INFO - 22:16:04: EPOCH 29 - PROGRESS: at 92.66% examples, 135622 words/s, in_qsize 0, out_qsize 0\n",
      "INFO - 22:16:05: EPOCH 29 - PROGRESS: at 95.80% examples, 135644 words/s, in_qsize 0, out_qsize 0\n",
      "INFO - 22:16:06: EPOCH 29 - PROGRESS: at 98.59% examples, 135574 words/s, in_qsize 0, out_qsize 0\n",
      "INFO - 22:16:06: worker thread finished; awaiting finish of 10 more threads\n",
      "INFO - 22:16:06: worker thread finished; awaiting finish of 9 more threads\n",
      "INFO - 22:16:06: worker thread finished; awaiting finish of 8 more threads\n",
      "INFO - 22:16:06: worker thread finished; awaiting finish of 7 more threads\n",
      "INFO - 22:16:06: worker thread finished; awaiting finish of 6 more threads\n",
      "INFO - 22:16:06: worker thread finished; awaiting finish of 5 more threads\n",
      "INFO - 22:16:06: worker thread finished; awaiting finish of 4 more threads\n",
      "INFO - 22:16:06: worker thread finished; awaiting finish of 3 more threads\n",
      "INFO - 22:16:06: worker thread finished; awaiting finish of 2 more threads\n",
      "INFO - 22:16:06: worker thread finished; awaiting finish of 1 more threads\n",
      "INFO - 22:16:07: worker thread finished; awaiting finish of 0 more threads\n",
      "INFO - 22:16:07: EPOCH - 29 : training on 8903225 raw words (4338370 effective words) took 32.0s, 135582 effective words/s\n",
      "INFO - 22:16:08: EPOCH 30 - PROGRESS: at 4.24% examples, 138221 words/s, in_qsize 0, out_qsize 0\n",
      "INFO - 22:16:09: EPOCH 30 - PROGRESS: at 7.96% examples, 137186 words/s, in_qsize 0, out_qsize 0\n",
      "INFO - 22:16:10: EPOCH 30 - PROGRESS: at 11.64% examples, 136808 words/s, in_qsize 0, out_qsize 0\n",
      "INFO - 22:16:11: EPOCH 30 - PROGRESS: at 14.87% examples, 136059 words/s, in_qsize 0, out_qsize 0\n",
      "INFO - 22:16:12: EPOCH 30 - PROGRESS: at 18.41% examples, 136121 words/s, in_qsize 0, out_qsize 0\n",
      "INFO - 22:16:13: EPOCH 30 - PROGRESS: at 22.14% examples, 136591 words/s, in_qsize 0, out_qsize 0\n",
      "INFO - 22:16:14: EPOCH 30 - PROGRESS: at 25.33% examples, 136856 words/s, in_qsize 0, out_qsize 0\n",
      "INFO - 22:16:15: EPOCH 30 - PROGRESS: at 28.87% examples, 136963 words/s, in_qsize 0, out_qsize 0\n",
      "INFO - 22:16:16: EPOCH 30 - PROGRESS: at 32.03% examples, 137014 words/s, in_qsize 0, out_qsize 0\n",
      "INFO - 22:16:17: EPOCH 30 - PROGRESS: at 35.35% examples, 137150 words/s, in_qsize 0, out_qsize 0\n",
      "INFO - 22:16:18: EPOCH 30 - PROGRESS: at 38.56% examples, 136923 words/s, in_qsize 0, out_qsize 0\n",
      "INFO - 22:16:19: EPOCH 30 - PROGRESS: at 42.00% examples, 137313 words/s, in_qsize 0, out_qsize 0\n",
      "INFO - 22:16:20: EPOCH 30 - PROGRESS: at 44.96% examples, 137243 words/s, in_qsize 1, out_qsize 0\n",
      "INFO - 22:16:21: EPOCH 30 - PROGRESS: at 47.83% examples, 137616 words/s, in_qsize 0, out_qsize 0\n",
      "INFO - 22:16:22: EPOCH 30 - PROGRESS: at 50.92% examples, 137547 words/s, in_qsize 1, out_qsize 0\n",
      "INFO - 22:16:23: EPOCH 30 - PROGRESS: at 53.85% examples, 137733 words/s, in_qsize 1, out_qsize 0\n",
      "INFO - 22:16:24: EPOCH 30 - PROGRESS: at 56.83% examples, 137797 words/s, in_qsize 0, out_qsize 0\n",
      "INFO - 22:16:25: EPOCH 30 - PROGRESS: at 59.77% examples, 137768 words/s, in_qsize 0, out_qsize 0\n",
      "INFO - 22:16:26: EPOCH 30 - PROGRESS: at 62.12% examples, 137903 words/s, in_qsize 0, out_qsize 0\n",
      "INFO - 22:16:27: EPOCH 30 - PROGRESS: at 65.12% examples, 137685 words/s, in_qsize 0, out_qsize 0\n",
      "INFO - 22:16:28: EPOCH 30 - PROGRESS: at 68.54% examples, 137610 words/s, in_qsize 0, out_qsize 0\n",
      "INFO - 22:16:29: EPOCH 30 - PROGRESS: at 72.02% examples, 137428 words/s, in_qsize 0, out_qsize 0\n",
      "INFO - 22:16:30: EPOCH 30 - PROGRESS: at 75.43% examples, 137411 words/s, in_qsize 0, out_qsize 0\n",
      "INFO - 22:16:31: EPOCH 30 - PROGRESS: at 78.90% examples, 137299 words/s, in_qsize 0, out_qsize 0\n",
      "INFO - 22:16:32: EPOCH 30 - PROGRESS: at 82.04% examples, 137167 words/s, in_qsize 0, out_qsize 0\n",
      "INFO - 22:16:33: EPOCH 30 - PROGRESS: at 84.89% examples, 137220 words/s, in_qsize 0, out_qsize 0\n",
      "INFO - 22:16:34: EPOCH 30 - PROGRESS: at 87.95% examples, 137209 words/s, in_qsize 0, out_qsize 0\n",
      "INFO - 22:16:35: EPOCH 30 - PROGRESS: at 90.84% examples, 137238 words/s, in_qsize 0, out_qsize 0\n",
      "INFO - 22:16:36: EPOCH 30 - PROGRESS: at 93.55% examples, 137322 words/s, in_qsize 1, out_qsize 0\n",
      "INFO - 22:16:37: EPOCH 30 - PROGRESS: at 96.54% examples, 137326 words/s, in_qsize 0, out_qsize 0\n",
      "INFO - 22:16:38: worker thread finished; awaiting finish of 10 more threads\n",
      "INFO - 22:16:38: worker thread finished; awaiting finish of 9 more threads\n",
      "INFO - 22:16:38: worker thread finished; awaiting finish of 8 more threads\n",
      "INFO - 22:16:38: worker thread finished; awaiting finish of 7 more threads\n",
      "INFO - 22:16:38: worker thread finished; awaiting finish of 6 more threads\n",
      "INFO - 22:16:38: worker thread finished; awaiting finish of 5 more threads\n",
      "INFO - 22:16:38: worker thread finished; awaiting finish of 4 more threads\n",
      "INFO - 22:16:38: worker thread finished; awaiting finish of 3 more threads\n",
      "INFO - 22:16:38: worker thread finished; awaiting finish of 2 more threads\n",
      "INFO - 22:16:38: worker thread finished; awaiting finish of 1 more threads\n",
      "INFO - 22:16:38: worker thread finished; awaiting finish of 0 more threads\n",
      "INFO - 22:16:38: EPOCH - 30 : training on 8903225 raw words (4336636 effective words) took 31.5s, 137528 effective words/s\n",
      "INFO - 22:16:38: training on a 267096750 raw words (130122140 effective words) took 980.7s, 132682 effective words/s\n"
     ]
    },
    {
     "name": "stdout",
     "output_type": "stream",
     "text": [
      "Time to train the model: 16.35 mins\n"
     ]
    }
   ],
   "source": [
    "t = time()\n",
    "\n",
    "w2v_model.train(sentences, total_examples=w2v_model.corpus_count, epochs=30, report_delay=1)\n",
    "\n",
    "print('Time to train the model: {} mins'.format(round((time() - t) / 60, 2)))"
   ]
  },
  {
   "cell_type": "code",
   "execution_count": 28,
   "metadata": {},
   "outputs": [
    {
     "name": "stderr",
     "output_type": "stream",
     "text": [
      "INFO - 22:17:02: saving Word2Vec object under w2v.model, separately None\n",
      "INFO - 22:17:02: not storing attribute vectors_norm\n",
      "INFO - 22:17:02: not storing attribute cum_table\n",
      "INFO - 22:17:03: saved w2v.model\n"
     ]
    }
   ],
   "source": [
    "w2v_model.save(\"w2v.model\")"
   ]
  },
  {
   "cell_type": "code",
   "execution_count": 29,
   "metadata": {
    "_uuid": "34dd51c7f2f39d016b982ef81e4df576f6b31bcb"
   },
   "outputs": [
    {
     "name": "stderr",
     "output_type": "stream",
     "text": [
      "INFO - 22:17:08: precomputing L2-norms of word weight vectors\n"
     ]
    }
   ],
   "source": [
    "# Make model more memory-efficient\n",
    "w2v_model.init_sims(replace=True)"
   ]
  },
  {
   "cell_type": "markdown",
   "metadata": {
    "_uuid": "a420d5a98eb860cff1f4bbac8cbe2054459b6200"
   },
   "source": [
    "# Exploring the model\n",
    "## Most similar to:\n"
   ]
  },
  {
   "cell_type": "code",
   "execution_count": 30,
   "metadata": {
    "_uuid": "339207a733a1ac42fe60e32a29f9e5d5ca0a9275"
   },
   "outputs": [
    {
     "data": {
      "text/plain": [
       "[('sdp', 0.6099261045455933),\n",
       " ('kokoomus', 0.53276127576828),\n",
       " ('oppositio', 0.49862906336784363),\n",
       " ('keskustakin', 0.4885900318622589),\n",
       " ('hallitus', 0.4811936914920807),\n",
       " ('vasemmistoliitto', 0.4717361032962799),\n",
       " ('vasemmistoliiton_eduskuntaryhmä', 0.4441106617450714),\n",
       " ('puheenjohtaja_sipilä', 0.4385491907596588),\n",
       " ('keskustan_puheenjohtaja', 0.4366309940814972),\n",
       " ('keskustapuolue', 0.4364476501941681)]"
      ]
     },
     "execution_count": 30,
     "metadata": {},
     "output_type": "execute_result"
    }
   ],
   "source": [
    "w2v_model.wv.most_similar(positive=[\"keskusta\"])"
   ]
  },
  {
   "cell_type": "markdown",
   "metadata": {
    "_uuid": "3b6686e6fa956a98450259b063b4cf51019a6d0b"
   },
   "source": [
    "_A small precision here:_<br>\n",
    "The dataset is the Simpsons' lines of dialogue; therefore, when we look at the most similar words from \"homer\" we do **not** necessary get his family members, personality traits, or even his most quotable words. No, we get what other characters (as Homer does not often refers to himself at the 3rd person) said along with \"homer\", such as how he feels or looks (\"depressed\"), where he is (\"hammock\"), or with whom (\"marge\").\n",
    "\n",
    "Let's see what the bigram \"homer_simpson\" gives us by comparison:"
   ]
  },
  {
   "cell_type": "code",
   "execution_count": 32,
   "metadata": {
    "_uuid": "22595f98c675a9697243b7e826b2840e5fc3e5f5"
   },
   "outputs": [
    {
     "data": {
      "text/plain": [
       "[('peter', 0.6300086379051208),\n",
       " ('jyrki', 0.6143772006034851),\n",
       " ('arto', 0.611545741558075),\n",
       " ('sirpa', 0.603858232498169),\n",
       " ('annika', 0.603774905204773),\n",
       " ('raija', 0.6013807058334351),\n",
       " ('paula', 0.5984580516815186),\n",
       " ('antero', 0.5895487666130066),\n",
       " ('lasse', 0.5856174230575562),\n",
       " ('liisa', 0.585490882396698)]"
      ]
     },
     "execution_count": 32,
     "metadata": {},
     "output_type": "execute_result"
    }
   ],
   "source": [
    "w2v_model.wv.most_similar(positive=[\"juha\"])"
   ]
  },
  {
   "cell_type": "code",
   "execution_count": 33,
   "metadata": {
    "_uuid": "ac9ba47738e596dce6552099e76f303f28577943"
   },
   "outputs": [
    {
     "data": {
      "text/plain": [
       "[('juha_sipilä', 0.5515426993370056),\n",
       " ('stubb', 0.54470294713974),\n",
       " ('keskustan_puheenjohtaja', 0.5379858016967773),\n",
       " ('tiilikainen', 0.49200698733329773),\n",
       " ('kääriäinen', 0.48941704630851746),\n",
       " ('puheenjohtaja_rinne', 0.4841976463794708),\n",
       " ('ministeri_soini', 0.4775661826133728),\n",
       " ('soini', 0.4685269892215729),\n",
       " ('arhinmäki', 0.46546730399131775),\n",
       " ('turunen', 0.4608604311943054)]"
      ]
     },
     "execution_count": 33,
     "metadata": {},
     "output_type": "execute_result"
    }
   ],
   "source": [
    "w2v_model.wv.most_similar(positive=[\"sipilä\"])"
   ]
  },
  {
   "cell_type": "code",
   "execution_count": 42,
   "metadata": {},
   "outputs": [
    {
     "data": {
      "text/plain": [
       "[('petteri', 0.6123883724212646),\n",
       " ('räsänen', 0.5781139135360718),\n",
       " ('päivi', 0.5679245591163635),\n",
       " ('penttilä', 0.5669533610343933),\n",
       " ('richardson', 0.5642906427383423),\n",
       " ('wallin', 0.5616503357887268),\n",
       " ('lehtomäki', 0.554293155670166),\n",
       " ('kulmala', 0.553653359413147),\n",
       " ('paula', 0.5520431399345398),\n",
       " ('haatainen', 0.5515329241752625)]"
      ]
     },
     "execution_count": 42,
     "metadata": {},
     "output_type": "execute_result"
    }
   ],
   "source": [
    "w2v_model.wv.most_similar(positive=[\"orpo\"])"
   ]
  },
  {
   "cell_type": "markdown",
   "metadata": {
    "_uuid": "d8b5937dfd7584f168a33060c435036cad5b390b"
   },
   "source": [
    "## Similarities:"
   ]
  },
  {
   "cell_type": "code",
   "execution_count": 34,
   "metadata": {
    "_uuid": "367755f5c9e00de4bc5056c978f5b50a38c1368b"
   },
   "outputs": [
    {
     "data": {
      "text/plain": [
       "0.53276134"
      ]
     },
     "execution_count": 34,
     "metadata": {},
     "output_type": "execute_result"
    }
   ],
   "source": [
    "w2v_model.wv.similarity(\"keskusta\", 'kokoomus')"
   ]
  },
  {
   "cell_type": "code",
   "execution_count": 43,
   "metadata": {
    "_uuid": "349828078b5a438d93e5494478e88095913dc58e"
   },
   "outputs": [
    {
     "data": {
      "text/plain": [
       "0.36229452"
      ]
     },
     "execution_count": 43,
     "metadata": {},
     "output_type": "execute_result"
    }
   ],
   "source": [
    "w2v_model.wv.similarity('juha_sipilä', 'orpo')"
   ]
  },
  {
   "cell_type": "markdown",
   "metadata": {
    "_uuid": "08a999d758ac687d626b631a8ce393eaa26f41e7"
   },
   "source": [
    "## Odd-One-Out:\n",
    "\n",
    "Here, we ask our model to give us the word that does not belong to the list!"
   ]
  },
  {
   "cell_type": "code",
   "execution_count": 44,
   "metadata": {
    "_uuid": "d982e44d9c212b5ee09bcaebd050a725ab5e508e"
   },
   "outputs": [
    {
     "data": {
      "text/plain": [
       "'orpo'"
      ]
     },
     "execution_count": 44,
     "metadata": {},
     "output_type": "execute_result"
    }
   ],
   "source": [
    "w2v_model.wv.doesnt_match(['keskusta', 'juha_sipilä', 'orpo'])"
   ]
  },
  {
   "cell_type": "code",
   "execution_count": 47,
   "metadata": {},
   "outputs": [
    {
     "data": {
      "text/plain": [
       "'kokoomus'"
      ]
     },
     "execution_count": 47,
     "metadata": {},
     "output_type": "execute_result"
    }
   ],
   "source": [
    "w2v_model.wv.doesnt_match(['kokoomus', 'juha_sipilä', 'orpo'])"
   ]
  },
  {
   "cell_type": "markdown",
   "metadata": {
    "_uuid": "df95cdff693e843ab4b4c174fea24029447573cd"
   },
   "source": [
    "## Analogy difference:"
   ]
  },
  {
   "cell_type": "code",
   "execution_count": 50,
   "metadata": {
    "_uuid": "812961e79dde9f2032f708755ca287c0aef838d0"
   },
   "outputs": [
    {
     "data": {
      "text/plain": [
       "[('-_ohjelmien', 0.30250149965286255),\n",
       " ('asiakirjojen', 0.26347383856773376),\n",
       " ('fyysinen', 0.26335152983665466)]"
      ]
     },
     "execution_count": 50,
     "metadata": {},
     "output_type": "execute_result"
    }
   ],
   "source": [
    "w2v_model.wv.most_similar(positive=[\"orpo\"], negative=[\"keskusta\",\"sipilä\"], topn=3)"
   ]
  },
  {
   "cell_type": "markdown",
   "metadata": {
    "_uuid": "773c0acc8750ba8e728ff261f2e9ec39694c245c"
   },
   "source": [
    "### t-SNE visualizations:\n",
    "t-SNE is a non-linear dimensionality reduction algorithm that attempts to represent high-dimensional data and the underlying relationships between vectors in a lower-dimensional space.<br>\n",
    "Here is a good tutorial on it: https://medium.com/@luckylwk/visualising-high-dimensional-datasets-using-pca-and-t-sne-in-python-8ef87e7915b"
   ]
  },
  {
   "cell_type": "code",
   "execution_count": 51,
   "metadata": {
    "_uuid": "27ec46110042fc28da900b1b344ae4e0692d5dc2"
   },
   "outputs": [],
   "source": [
    "import numpy as np\n",
    "import matplotlib.pyplot as plt\n",
    "%matplotlib inline\n",
    " \n",
    "import seaborn as sns\n",
    "sns.set_style(\"darkgrid\")\n",
    "\n",
    "from sklearn.decomposition import PCA\n",
    "from sklearn.manifold import TSNE"
   ]
  },
  {
   "cell_type": "markdown",
   "metadata": {
    "_uuid": "22693eaa25253b38cee3c5cd5db6b6fdddb575a4"
   },
   "source": [
    "Our goal in this section is to plot our 300 dimensions vectors into 2 dimensional graphs, and see if we can spot interesting patterns.<br>\n",
    "For that we are going to use t-SNE implementation from scikit-learn.\n",
    "\n",
    "To make the visualizations more relevant, we will look at the relationships between a query word (in <font color='red'>**red**</font>), its most similar words in the model (in <font color=\"blue\">**blue**</font>), and other words from the vocabulary (in <font color='green'>**green**</font>)."
   ]
  },
  {
   "cell_type": "code",
   "execution_count": 55,
   "metadata": {
    "_uuid": "489a7d160dcd92da0ce42a3b5b461368c9ffe5f1"
   },
   "outputs": [],
   "source": [
    "def tsnescatterplot(model, word, list_names):\n",
    "    \"\"\" Plot in seaborn the results from the t-SNE dimensionality reduction algorithm of the vectors of a query word,\n",
    "    its list of most similar words, and a list of words.\n",
    "    \"\"\"\n",
    "    arrays = np.empty((0, 300), dtype='f')\n",
    "    word_labels = [word]\n",
    "    color_list  = ['red']\n",
    "\n",
    "    # adds the vector of the query word\n",
    "    arrays = np.append(arrays, model.wv.__getitem__([word]), axis=0)\n",
    "    \n",
    "    # gets list of most similar words\n",
    "    close_words = model.wv.most_similar([word])\n",
    "    \n",
    "    # adds the vector for each of the closest words to the array\n",
    "    for wrd_score in close_words:\n",
    "        wrd_vector = model.wv.__getitem__([wrd_score[0]])\n",
    "        word_labels.append(wrd_score[0])\n",
    "        color_list.append('blue')\n",
    "        arrays = np.append(arrays, wrd_vector, axis=0)\n",
    "    \n",
    "    # adds the vector for each of the words from list_names to the array\n",
    "    for wrd in list_names:\n",
    "        wrd_vector = model.wv.__getitem__([wrd])\n",
    "        word_labels.append(wrd)\n",
    "        color_list.append('green')\n",
    "        arrays = np.append(arrays, wrd_vector, axis=0)\n",
    "        \n",
    "    # Reduces the dimensionality from 300 to 50 dimensions with PCA\n",
    "    reduc = PCA(n_components=21).fit_transform(arrays)\n",
    "    \n",
    "    # Finds t-SNE coordinates for 2 dimensions\n",
    "    np.set_printoptions(suppress=True)\n",
    "    \n",
    "    Y = TSNE(n_components=2, random_state=0, perplexity=15).fit_transform(reduc)\n",
    "    \n",
    "    # Sets everything up to plot\n",
    "    df = pd.DataFrame({'x': [x for x in Y[:, 0]],\n",
    "                       'y': [y for y in Y[:, 1]],\n",
    "                       'words': word_labels,\n",
    "                       'color': color_list})\n",
    "    \n",
    "    fig, _ = plt.subplots()\n",
    "    fig.set_size_inches(9, 9)\n",
    "    \n",
    "    # Basic plot\n",
    "    p1 = sns.regplot(data=df,\n",
    "                     x=\"x\",\n",
    "                     y=\"y\",\n",
    "                     fit_reg=False,\n",
    "                     marker=\"o\",\n",
    "                     scatter_kws={'s': 40,\n",
    "                                  'facecolors': df['color']\n",
    "                                 }\n",
    "                    )\n",
    "    \n",
    "    # Adds annotations one by one with a loop\n",
    "    for line in range(0, df.shape[0]):\n",
    "         p1.text(df[\"x\"][line],\n",
    "                 df['y'][line],\n",
    "                 '  ' + df[\"words\"][line].title(),\n",
    "                 horizontalalignment='left',\n",
    "                 verticalalignment='bottom', size='medium',\n",
    "                 color=df['color'][line],\n",
    "                 weight='normal'\n",
    "                ).set_size(15)\n",
    "\n",
    "    \n",
    "    plt.xlim(Y[:, 0].min()-50, Y[:, 0].max()+50)\n",
    "    plt.ylim(Y[:, 1].min()-50, Y[:, 1].max()+50)\n",
    "            \n",
    "    plt.title('t-SNE visualization for {}'.format(word.title()))\n",
    "    "
   ]
  },
  {
   "cell_type": "markdown",
   "metadata": {
    "_uuid": "c73fc2faaf0baecc84f02a97b50cb9ccefa48686"
   },
   "source": [
    "## 10 Most similar words vs. 10 Most dissimilar\n"
   ]
  },
  {
   "cell_type": "code",
   "execution_count": 56,
   "metadata": {
    "_uuid": "10c77b072f7c281f2be919341be116565c20d8a8"
   },
   "outputs": [
    {
     "data": {
      "image/png": "[encoded data removed]",
      "text/plain": [
       "<Figure size 648x648 with 1 Axes>"
      ]
     },
     "metadata": {
      "needs_background": "light"
     },
     "output_type": "display_data"
    }
   ],
   "source": [
    "tsnescatterplot(w2v_model, 'keskusta', [i[0] for i in w2v_model.wv.most_similar(negative=[\"orpo\"])])"
   ]
  },
  {
   "cell_type": "markdown",
   "metadata": {
    "_uuid": "87315bfbaceb3733bd7af035db6c59cfc4b1ba7f"
   },
   "source": [
    "## 10 Most similar words vs. 11th to 20th Most similar words:\n"
   ]
  },
  {
   "cell_type": "code",
   "execution_count": 57,
   "metadata": {
    "_uuid": "e6f0bc598922f4f2cd17d2511560242a3c35fdd9"
   },
   "outputs": [
    {
     "data": {
      "image/png": "[encoded data removed]",
      "text/plain": [
       "<Figure size 648x648 with 1 Axes>"
      ]
     },
     "metadata": {
      "needs_background": "light"
     },
     "output_type": "display_data"
    }
   ],
   "source": [
    "tsnescatterplot(w2v_model, \"sipilä\", [t[0] for t in w2v_model.wv.most_similar(positive=[\"keskusta\"], topn=20)][10:])"
   ]
  },
  {
   "cell_type": "code",
   "execution_count": null,
   "metadata": {},
   "outputs": [],
   "source": []
  }
 ],
 "metadata": {
  "kernelspec": {
   "display_name": "Python 3",
   "language": "python",
   "name": "python3"
  },
  "language_info": {
   "codemirror_mode": {
    "name": "ipython",
    "version": 3
   },
   "file_extension": ".py",
   "mimetype": "text/x-python",
   "name": "python",
   "nbconvert_exporter": "python",
   "pygments_lexer": "ipython3",
   "version": "3.6.5"
  }
 },
 "nbformat": 4,
 "nbformat_minor": 1
}
