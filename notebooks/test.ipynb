{
 "cells": [
  {
   "cell_type": "markdown",
   "metadata": {
    "_uuid": "84163f3ca19c0b7c9fda47121b3bc4cadfaf1fcc"
   },
   "source": [
    "# Models for learning word embeddings\n"
   ]
  },
  {
   "cell_type": "code",
   "execution_count": 76,
   "metadata": {
    "_uuid": "cc7b3e6ca62670ff13626705402f626778487204"
   },
   "outputs": [],
   "source": [
    "import pandas as pd\n",
    "\n",
    "load_model = 'fasttext_titles_speeches_spacy_mincount20_window2_size300_alpha0.03_minalpha0.0007_negative20_workers10.model' # model_name\n",
    "model_name = 'fasttext'\n",
    "#model_name = 'word2vec'\n"
   ]
  },
  {
   "cell_type": "code",
   "execution_count": 77,
   "metadata": {
    "_uuid": "3269be205cadbad499aa87890893d92da6adc796"
   },
   "outputs": [],
   "source": [
    "if model_name == 'fasttext':\n",
    "    from gensim.models import FastText as Model\n",
    "elif model_name == 'word2vec':\n",
    "    from gensim.models import Word2Vec as Model\n",
    "else:\n",
    "    raise Exception(\"Non allowed parameter for model.\")"
   ]
  },
  {
   "cell_type": "code",
   "execution_count": 78,
   "metadata": {
    "_uuid": "ad619db82c219d6cb81fad516563feb0c4d474cd"
   },
   "outputs": [],
   "source": [
    "model = Model.load(load_model)"
   ]
  },
  {
   "cell_type": "code",
   "execution_count": 79,
   "metadata": {
    "_uuid": "34dd51c7f2f39d016b982ef81e4df576f6b31bcb"
   },
   "outputs": [],
   "source": [
    "# Make model more memory-efficient\n",
    "model.init_sims(replace=True)"
   ]
  },
  {
   "cell_type": "markdown",
   "metadata": {},
   "source": [
    "# Evaluating the model"
   ]
  },
  {
   "cell_type": "code",
   "execution_count": 80,
   "metadata": {},
   "outputs": [
    {
     "data": {
      "text/html": [
       "<div>\n",
       "<style scoped>\n",
       "    .dataframe tbody tr th:only-of-type {\n",
       "        vertical-align: middle;\n",
       "    }\n",
       "\n",
       "    .dataframe tbody tr th {\n",
       "        vertical-align: top;\n",
       "    }\n",
       "\n",
       "    .dataframe thead th {\n",
       "        text-align: right;\n",
       "    }\n",
       "</style>\n",
       "<table border=\"1\" class=\"dataframe\">\n",
       "  <thead>\n",
       "    <tr style=\"text-align: right;\">\n",
       "      <th></th>\n",
       "      <th>pair1_1</th>\n",
       "      <th>pair1_2</th>\n",
       "      <th>pair2_1</th>\n",
       "      <th>pair2_2</th>\n",
       "    </tr>\n",
       "  </thead>\n",
       "  <tbody>\n",
       "    <tr>\n",
       "      <th>0</th>\n",
       "      <td>Matti Vanhanen</td>\n",
       "      <td>pääministeri</td>\n",
       "      <td>Jyrki Katainen</td>\n",
       "      <td>valtiovarainministeri</td>\n",
       "    </tr>\n",
       "    <tr>\n",
       "      <th>1</th>\n",
       "      <td>Matti Vanhanen</td>\n",
       "      <td>pääministeri</td>\n",
       "      <td>Tuija Brax</td>\n",
       "      <td>oikeusministeri</td>\n",
       "    </tr>\n",
       "    <tr>\n",
       "      <th>2</th>\n",
       "      <td>Matti Vanhanen</td>\n",
       "      <td>pääministeri</td>\n",
       "      <td>Anne Holmlund</td>\n",
       "      <td>sisäasiainministeri</td>\n",
       "    </tr>\n",
       "    <tr>\n",
       "      <th>3</th>\n",
       "      <td>Matti Vanhanen</td>\n",
       "      <td>pääministeri</td>\n",
       "      <td>Jyri Häkämies</td>\n",
       "      <td>puolustusministeri</td>\n",
       "    </tr>\n",
       "    <tr>\n",
       "      <th>4</th>\n",
       "      <td>Matti Vanhanen</td>\n",
       "      <td>pääministeri</td>\n",
       "      <td>Mari Kivimies</td>\n",
       "      <td>hallinto- ja kuntaministeri</td>\n",
       "    </tr>\n",
       "  </tbody>\n",
       "</table>\n",
       "</div>"
      ],
      "text/plain": [
       "          pair1_1       pair1_2         pair2_1                      pair2_2\n",
       "0  Matti Vanhanen  pääministeri  Jyrki Katainen        valtiovarainministeri\n",
       "1  Matti Vanhanen  pääministeri      Tuija Brax              oikeusministeri\n",
       "2  Matti Vanhanen  pääministeri   Anne Holmlund          sisäasiainministeri\n",
       "3  Matti Vanhanen  pääministeri   Jyri Häkämies           puolustusministeri\n",
       "4  Matti Vanhanen  pääministeri   Mari Kivimies  hallinto- ja kuntaministeri"
      ]
     },
     "execution_count": 80,
     "metadata": {},
     "output_type": "execute_result"
    }
   ],
   "source": [
    "tasks = pd.read_excel(\"../evaluation/analogical-reasoning-tasks.xlsx\")\n",
    "tasks.head()"
   ]
  },
  {
   "cell_type": "code",
   "execution_count": 81,
   "metadata": {},
   "outputs": [
    {
     "name": "stdout",
     "output_type": "stream",
     "text": [
      "Result from: Matti Vanhanen - pääministeri + Jyrki Katainen\n",
      "is: pyhä\n",
      "Right answer = valtiovarainministeri\n",
      "Result from: Matti Vanhanen - pääministeri + Tuija Brax\n",
      "is: pyhä\n",
      "Right answer = oikeusministeri\n",
      "Result from: Matti Vanhanen - pääministeri + Anne Holmlund\n",
      "is: c\n",
      "Right answer = sisäasiainministeri\n",
      "Result from: Matti Vanhanen - pääministeri + Jyri Häkämies\n",
      "is: joiden_mukaan\n",
      "Right answer = puolustusministeri\n",
      "Result from: Matti Vanhanen - pääministeri + Mari Kivimies\n",
      "is: maksuton\n",
      "Right answer = hallinto- ja kuntaministeri\n",
      "Result from: Matti Vanhanen - pääministeri + Sari Sarkomaa\n",
      "is: ulotetaan\n",
      "Right answer = opetusministeri\n",
      "Result from: Matti Vanhanen - pääministeri + Sirkka-Liisa Anttila\n",
      "is: kuljetetaan\n",
      "Right answer = maa- ja metsätalousministeri\n",
      "Result from: Matti Vanhanen - pääministeri + Anu Vehviläinen\n",
      "is: irrotetaan\n",
      "Right answer = liikenneministeri\n",
      "Result from: Matti Vanhanen - pääministeri + Suvi Lindén\n",
      "is: ulotetaan\n",
      "Right answer = viestintäministeri\n",
      "Result from: Matti Vanhanen - pääministeri + Mauri Pekkarinen\n",
      "is: ulotetaan\n",
      "Right answer = elinkeinoministeri\n",
      "Result from: Matti Vanhanen - pääministeri + Tarja Cronberg\n",
      "is: maksuton\n",
      "Right answer = työministeri\n",
      "Result from: Matti Vanhanen - pääministeri + Liisa Hyssälä\n",
      "is: joiden_mukaan\n",
      "Right answer = sosiaali- ja terveysministeri\n",
      "Result from: Matti Vanhanen - pääministeri + Kimmo Tiilikainen\n",
      "is: joka_koskee\n",
      "Right answer = ympäristöministeri\n",
      "Result from: Matti Vanhanen - pääministeri + Jan Vapaavuori\n",
      "is: joka_koskee\n",
      "Right answer = asuntoministeri\n",
      "Result from: Matti Vanhanen - pääministeri + Paula Risikko\n",
      "is: maksuton\n",
      "Right answer = peruspalveluministeri\n",
      "Result from: Matti Vanhanen - pääministeri + Stefan Wallin\n",
      "is: ehdotetaan\n",
      "Right answer = kulttuuri- ja urheiluministeri\n",
      "Result from: Matti Vanhanen - pääministeri + Astrid Thors\n",
      "is: maksuton\n",
      "Right answer = maahanmuutto- ja eurooppaministeri\n",
      "Result from: Matti Vanhanen - pääministeri + Paavo Väyrynen \n",
      "is: joka_koskee\n",
      "Right answer = ulkomaankauppa- ja kehitysministeri\n",
      "Result from: Matti Vanhanen - pääministeri + Alexander Stubb\n",
      "is: pyhä\n",
      "Right answer = ulkoasiainministeri\n",
      "Result from: Matti Vanhanen - Keskusta + Jyrki Katainen\n",
      "is: haatainen\n",
      "Right answer = Kokoomus\n",
      "Result from: Matti Vanhanen - Keskusta + Tuija Brax\n",
      "is: tuija_brax\n",
      "Right answer = Vihreät\n",
      "Result from: Matti Vanhanen - Keskusta + Anne Holmlund\n",
      "is: holmlund\n",
      "Right answer = Kokoomus\n",
      "Result from: Matti Vanhanen - Keskusta + Jyri Häkämies\n",
      "is: häkämies\n",
      "Right answer = Kokoomus\n",
      "Result from: Matti Vanhanen - Keskusta + Mari Kivimies\n",
      "is: matti_vanhanen\n",
      "Right answer = Keskusta\n",
      "Result from: Matti Vanhanen - Keskusta + Sari Sarkomaa\n",
      "is: sarkomaa\n",
      "Right answer = Kokoomus\n",
      "Result from: Matti Vanhanen - Keskusta + Sirkka-Liisa Anttila\n",
      "is: anttila\n",
      "Right answer = Keskusta\n",
      "Result from: Matti Vanhanen - Keskusta + Anu Vehviläinen\n",
      "is: vehviläinen\n",
      "Right answer = Keskusta\n",
      "Result from: Matti Vanhanen - Keskusta + Suvi Lindén\n",
      "is: määrä_lisääntyy\n",
      "Right answer = Kokoomus\n",
      "Result from: Matti Vanhanen - Keskusta + Mauri Pekkarinen\n",
      "is: pekkarinen\n",
      "Right answer = Keskusta\n",
      "Result from: Matti Vanhanen - Keskusta + Tarja Cronberg\n",
      "is: cronberg\n",
      "Right answer = Vihreät\n",
      "Result from: Matti Vanhanen - Keskusta + Liisa Hyssälä\n",
      "is: käynnistettiin\n",
      "Right answer = Keskusta\n",
      "Result from: Matti Vanhanen - Keskusta + Kimmo Tiilikainen\n",
      "is: tiilikainen\n",
      "Right answer = Keskusta\n",
      "Result from: Matti Vanhanen - Keskusta + Jan Vapaavuori\n",
      "is: ministeri_vapaavuori\n",
      "Right answer = Kokoomus\n",
      "Result from: Matti Vanhanen - Keskusta + Paula Risikko\n",
      "is: risikko\n",
      "Right answer = Kokoomus\n",
      "Result from: Matti Vanhanen - Keskusta + Stefan Wallin\n",
      "is: stefan\n",
      "Right answer = RKP\n",
      "Result from: Matti Vanhanen - Keskusta + Astrid Thors\n",
      "is: thors\n",
      "Right answer = RKP\n",
      "Result from: Matti Vanhanen - Keskusta + Paavo Väyrynen \n",
      "is: väyrynen\n",
      "Right answer = Keskusta\n",
      "Result from: Matti Vanhanen - Keskusta + Alexander Stubb\n",
      "is: alexander\n",
      "Right answer = Kokoomus\n",
      "Result from: Keskusta - hallitus + Vasemmistoliitto\n",
      "is: puhuivat\n",
      "Right answer = oppositio\n",
      "Result from: Keskusta - hallitus + Kokoomus\n",
      "is: puhuivat\n",
      "Right answer = hallitus\n",
      "Result from: Keskusta - hallitus + Vihreät\n",
      "is: puhuivat\n",
      "Right answer = hallitus\n",
      "Result from: Keskusta - hallitus + RKP\n",
      "is: ynnä_muut\n",
      "Right answer = hallitus\n",
      "Result from: Keskusta - hallitus + SDP\n",
      "is: puhuivat\n",
      "Right answer = oppositio\n",
      "Result from: Keskusta - hallitus + Perussuomalaiset\n",
      "is: puhuivat\n",
      "Right answer = oppositio\n"
     ]
    },
    {
     "data": {
      "text/plain": [
       "0.0"
      ]
     },
     "execution_count": 81,
     "metadata": {},
     "output_type": "execute_result"
    }
   ],
   "source": [
    "correct = 0\n",
    "for row in range(len(tasks)):\n",
    "    print(f\"Result from: {tasks.pair1_1.iloc[row]} - {tasks.pair1_2.iloc[row]} + {tasks.pair2_1.iloc[row]}\")\n",
    "    result = model.wv.most_similar(positive=[tasks.pair1_1.iloc[row], tasks.pair2_1.iloc[row]], negative = [tasks.pair1_2.iloc[row]], topn=1)\n",
    "    print(f\"is: {result[0][0]}\")\n",
    "    print(f\"Right answer = {tasks.pair2_2.iloc[row]}\")\n",
    "    if result[0][0] == tasks.pair2_2.iloc[row]:\n",
    "        correct += 1\n",
    "\n",
    "accuracy = correct/len(tasks)\n",
    "accuracy"
   ]
  },
  {
   "cell_type": "markdown",
   "metadata": {
    "_uuid": "a420d5a98eb860cff1f4bbac8cbe2054459b6200"
   },
   "source": [
    "# Exploring the model\n",
    "\n",
    "## Most similar to:"
   ]
  },
  {
   "cell_type": "code",
   "execution_count": 82,
   "metadata": {},
   "outputs": [],
   "source": [
    "def format_res(res_list):\n",
    "    print(\" \\\\\\\\ \\n\".join([\" & \".join([str(round(i, 5)) if type(i) == float else i for i in list(item)])for item in res_list]))"
   ]
  },
  {
   "cell_type": "code",
   "execution_count": 83,
   "metadata": {
    "_uuid": "339207a733a1ac42fe60e32a29f9e5d5ca0a9275"
   },
   "outputs": [
    {
     "data": {
      "text/plain": [
       "[('keskustakin', 0.7921044826507568),\n",
       " ('keskustasta', 0.7911267876625061),\n",
       " ('keskustaan', 0.7771062254905701),\n",
       " ('keskustapuolue', 0.7537404298782349),\n",
       " ('keskustalta', 0.7451156377792358)]"
      ]
     },
     "execution_count": 83,
     "metadata": {},
     "output_type": "execute_result"
    }
   ],
   "source": [
    "model.wv.most_similar(positive=[\"keskusta\"],topn=5)"
   ]
  },
  {
   "cell_type": "code",
   "execution_count": 84,
   "metadata": {
    "_uuid": "22595f98c675a9697243b7e826b2840e5fc3e5f5"
   },
   "outputs": [
    {
     "data": {
      "text/plain": [
       "[('kokoomusta', 0.7505878806114197),\n",
       " ('kokoomuslainen', 0.6780723333358765),\n",
       " ('kokoomuslaista', 0.6766822338104248),\n",
       " ('kokoomuslaiset', 0.6128849387168884),\n",
       " ('kokoomuslaisen', 0.6127287745475769)]"
      ]
     },
     "execution_count": 84,
     "metadata": {},
     "output_type": "execute_result"
    }
   ],
   "source": [
    "model.wv.most_similar(positive=[\"kokoomus\"],topn=5)"
   ]
  },
  {
   "cell_type": "code",
   "execution_count": 85,
   "metadata": {
    "_uuid": "ac9ba47738e596dce6552099e76f303f28577943"
   },
   "outputs": [
    {
     "data": {
      "text/plain": [
       "[('matti_vanhasen', 0.7726650238037109),\n",
       " ('vanhanen', 0.7325457334518433),\n",
       " ('matti', 0.5979841947555542),\n",
       " ('matti_saarinen', 0.588952898979187),\n",
       " ('mattila', 0.558089554309845)]"
      ]
     },
     "execution_count": 85,
     "metadata": {},
     "output_type": "execute_result"
    }
   ],
   "source": [
    "model.wv.most_similar(positive=[\"matti_vanhanen\"],topn=5)"
   ]
  },
  {
   "cell_type": "markdown",
   "metadata": {
    "_uuid": "d8b5937dfd7584f168a33060c435036cad5b390b"
   },
   "source": [
    "## Similarities:"
   ]
  },
  {
   "cell_type": "code",
   "execution_count": 86,
   "metadata": {
    "_uuid": "367755f5c9e00de4bc5056c978f5b50a38c1368b"
   },
   "outputs": [
    {
     "data": {
      "text/plain": [
       "0.43604982"
      ]
     },
     "execution_count": 86,
     "metadata": {},
     "output_type": "execute_result"
    }
   ],
   "source": [
    "model.wv.similarity(\"vanhanen\", 'katainen')"
   ]
  },
  {
   "cell_type": "code",
   "execution_count": 87,
   "metadata": {
    "_uuid": "349828078b5a438d93e5494478e88095913dc58e"
   },
   "outputs": [
    {
     "data": {
      "text/plain": [
       "0.2600231"
      ]
     },
     "execution_count": 87,
     "metadata": {},
     "output_type": "execute_result"
    }
   ],
   "source": [
    "model.wv.similarity('vanhanen', 'timo_soini')"
   ]
  },
  {
   "cell_type": "markdown",
   "metadata": {
    "_uuid": "08a999d758ac687d626b631a8ce393eaa26f41e7"
   },
   "source": [
    "## Odd-One-Out:\n",
    "\n",
    "Here, we ask our model to give us the word that does not belong to the list!"
   ]
  },
  {
   "cell_type": "code",
   "execution_count": 88,
   "metadata": {
    "_uuid": "d982e44d9c212b5ee09bcaebd050a725ab5e508e"
   },
   "outputs": [
    {
     "data": {
      "text/plain": [
       "'perus_suomalaiset'"
      ]
     },
     "execution_count": 88,
     "metadata": {},
     "output_type": "execute_result"
    }
   ],
   "source": [
    "model.wv.doesnt_match(['keskusta', 'kokoomus', 'perus_suomalaiset'])"
   ]
  },
  {
   "cell_type": "markdown",
   "metadata": {
    "_uuid": "773c0acc8750ba8e728ff261f2e9ec39694c245c"
   },
   "source": [
    "### t-SNE visualizations:"
   ]
  },
  {
   "cell_type": "code",
   "execution_count": 89,
   "metadata": {},
   "outputs": [],
   "source": [
    "from plotting import TSNE_scatterplot"
   ]
  },
  {
   "cell_type": "markdown",
   "metadata": {
    "_uuid": "c73fc2faaf0baecc84f02a97b50cb9ccefa48686"
   },
   "source": [
    "## 10 Most similar words vs. 10 Most dissimilar\n"
   ]
  },
  {
   "cell_type": "code",
   "execution_count": 90,
   "metadata": {
    "_uuid": "10c77b072f7c281f2be919341be116565c20d8a8"
   },
   "outputs": [
    {
     "data": {
      "image/png": "[encoded data removed]",
      "text/plain": [
       "<Figure size 792x288 with 1 Axes>"
      ]
     },
     "metadata": {
      "needs_background": "light"
     },
     "output_type": "display_data"
    }
   ],
   "source": [
    "TSNE_scatterplot(model, 'matti_vanhanen', \"keskusta\", save=False)"
   ]
  }
 ],
 "metadata": {
  "kernelspec": {
   "display_name": "Python 3",
   "language": "python",
   "name": "python3"
  },
  "language_info": {
   "codemirror_mode": {
    "name": "ipython",
    "version": 3
   },
   "file_extension": ".py",
   "mimetype": "text/x-python",
   "name": "python",
   "nbconvert_exporter": "python",
   "pygments_lexer": "ipython3",
   "version": "3.6.7"
  }
 },
 "nbformat": 4,
 "nbformat_minor": 1
}
