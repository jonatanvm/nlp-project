{
 "cells": [
  {
   "cell_type": "markdown",
   "metadata": {
    "_uuid": "84163f3ca19c0b7c9fda47121b3bc4cadfaf1fcc"
   },
   "source": [
    "# Models for learning word embeddings\n"
   ]
  },
  {
   "cell_type": "code",
   "execution_count": 1,
   "metadata": {
    "_uuid": "cc7b3e6ca62670ff13626705402f626778487204"
   },
   "outputs": [],
   "source": [
    "load_model = 'fasttext_speeches_nltk_mincount20_window2_size300_alpha0.03_minalpha0.0007_negative20_workers10.model' # model_name\n",
    "model_name = 'fasttext'\n",
    "#model = 'word2vec'"
   ]
  },
  {
   "cell_type": "code",
   "execution_count": 2,
   "metadata": {
    "_uuid": "3269be205cadbad499aa87890893d92da6adc796"
   },
   "outputs": [
    {
     "name": "stderr",
     "output_type": "stream",
     "text": [
      "unable to import 'smart_open.gcs', disabling that module\n"
     ]
    }
   ],
   "source": [
    "if model_name == 'fasttext':\n",
    "    from gensim.models import FastText as Model\n",
    "elif model_name == 'word2vec':\n",
    "    from gensim.models import word2vec as Model\n",
    "elif model_name == 'word2vec':\n",
    "    raise Exception(\"Non allowed parameter for model.\")"
   ]
  },
  {
   "cell_type": "code",
   "execution_count": 3,
   "metadata": {
    "_uuid": "ad619db82c219d6cb81fad516563feb0c4d474cd"
   },
   "outputs": [],
   "source": [
    "model = Model.load(load_model)"
   ]
  },
  {
   "cell_type": "code",
   "execution_count": 4,
   "metadata": {
    "_uuid": "34dd51c7f2f39d016b982ef81e4df576f6b31bcb"
   },
   "outputs": [],
   "source": [
    "# Make model more memory-efficient\n",
    "model.init_sims(replace=True)"
   ]
  },
  {
   "cell_type": "markdown",
   "metadata": {
    "_uuid": "a420d5a98eb860cff1f4bbac8cbe2054459b6200"
   },
   "source": [
    "# Exploring the model\n",
    "## Most similar to:\n"
   ]
  },
  {
   "cell_type": "code",
   "execution_count": 5,
   "metadata": {
    "_uuid": "339207a733a1ac42fe60e32a29f9e5d5ca0a9275"
   },
   "outputs": [
    {
     "data": {
      "text/plain": [
       "[('keskust', 0.7581509947776794),\n",
       " ('keskustapuolue', 0.696725606918335),\n",
       " ('keskustalais', 0.6881887316703796),\n",
       " ('keskustalain', 0.6870530843734741),\n",
       " ('keskustalaist', 0.6520498394966125),\n",
       " ('keskustajohtoin', 0.641777515411377),\n",
       " ('keskustajohtois', 0.6323479413986206),\n",
       " ('keskus', 0.6263800263404846),\n",
       " ('keskusp', 0.6055977940559387),\n",
       " ('keskustelusta', 0.6003153920173645)]"
      ]
     },
     "execution_count": 5,
     "metadata": {},
     "output_type": "execute_result"
    }
   ],
   "source": [
    "model.wv.most_similar(positive=[\"keskusta\"])"
   ]
  },
  {
   "cell_type": "code",
   "execution_count": 6,
   "metadata": {
    "_uuid": "22595f98c675a9697243b7e826b2840e5fc3e5f5"
   },
   "outputs": [
    {
     "data": {
      "text/plain": [
       "[('juho', 0.6884548664093018),\n",
       " ('juha_sipil', 0.6118826270103455),\n",
       " ('puheenjohtaj_juha', 0.5960877537727356),\n",
       " ('pääminister_juha', 0.588132381439209),\n",
       " ('juhl', 0.5337047576904297),\n",
       " ('borg', 0.5312036275863647),\n",
       " ('juk', 0.5241467356681824),\n",
       " ('timo_soini', 0.5089672803878784),\n",
       " ('pek', 0.5014104843139648),\n",
       " ('timo_soin', 0.4912891089916229)]"
      ]
     },
     "execution_count": 6,
     "metadata": {},
     "output_type": "execute_result"
    }
   ],
   "source": [
    "model.wv.most_similar(positive=[\"juha\"])"
   ]
  },
  {
   "cell_type": "code",
   "execution_count": 7,
   "metadata": {
    "_uuid": "ac9ba47738e596dce6552099e76f303f28577943"
   },
   "outputs": [
    {
     "data": {
      "text/plain": [
       "[('sipil', 0.8994264006614685),\n",
       " ('juha_sipil', 0.7171946167945862),\n",
       " ('sipil_hallitus', 0.6573438048362732),\n",
       " ('sipil_hallituks', 0.6429762840270996),\n",
       " ('pääminister_sipil', 0.5998337268829346),\n",
       " ('edustaj_sipil', 0.5756904482841492),\n",
       " ('puheenjohtaj_sipil', 0.5708429217338562),\n",
       " ('sipo', 0.530336856842041),\n",
       " ('pääminister_juha', 0.5136686563491821),\n",
       " ('pääminister_jyrk', 0.4675033390522003)]"
      ]
     },
     "execution_count": 7,
     "metadata": {},
     "output_type": "execute_result"
    }
   ],
   "source": [
    "model.wv.most_similar(positive=[\"sipilä\"])"
   ]
  },
  {
   "cell_type": "code",
   "execution_count": 8,
   "metadata": {},
   "outputs": [
    {
     "data": {
      "text/plain": [
       "[('petter_orpo', 0.6989803910255432),\n",
       " ('minister_orpo', 0.602318525314331),\n",
       " ('räsäs', 0.5278457403182983),\n",
       " ('brax', 0.5205757021903992),\n",
       " ('räsän', 0.5147995352745056),\n",
       " ('berner', 0.4995120167732239),\n",
       " ('annamaj_henrikso', 0.49827706813812256),\n",
       " ('rehul', 0.4964030683040619),\n",
       " ('holmlund', 0.4955231845378876),\n",
       " ('lepomäk', 0.4951530992984772)]"
      ]
     },
     "execution_count": 8,
     "metadata": {},
     "output_type": "execute_result"
    }
   ],
   "source": [
    "model.wv.most_similar(positive=[\"orpo\"])"
   ]
  },
  {
   "cell_type": "markdown",
   "metadata": {
    "_uuid": "d8b5937dfd7584f168a33060c435036cad5b390b"
   },
   "source": [
    "## Similarities:"
   ]
  },
  {
   "cell_type": "code",
   "execution_count": 9,
   "metadata": {
    "_uuid": "367755f5c9e00de4bc5056c978f5b50a38c1368b"
   },
   "outputs": [
    {
     "data": {
      "text/plain": [
       "0.38219404"
      ]
     },
     "execution_count": 9,
     "metadata": {},
     "output_type": "execute_result"
    }
   ],
   "source": [
    "model.wv.similarity(\"keskusta\", 'kokoomus')"
   ]
  },
  {
   "cell_type": "code",
   "execution_count": 10,
   "metadata": {
    "_uuid": "349828078b5a438d93e5494478e88095913dc58e"
   },
   "outputs": [
    {
     "data": {
      "text/plain": [
       "0.27018276"
      ]
     },
     "execution_count": 10,
     "metadata": {},
     "output_type": "execute_result"
    }
   ],
   "source": [
    "model.wv.similarity('juha_sipilä', 'orpo')"
   ]
  },
  {
   "cell_type": "markdown",
   "metadata": {
    "_uuid": "08a999d758ac687d626b631a8ce393eaa26f41e7"
   },
   "source": [
    "## Odd-One-Out:\n",
    "\n",
    "Here, we ask our model to give us the word that does not belong to the list!"
   ]
  },
  {
   "cell_type": "code",
   "execution_count": 11,
   "metadata": {
    "_uuid": "d982e44d9c212b5ee09bcaebd050a725ab5e508e"
   },
   "outputs": [
    {
     "data": {
      "text/plain": [
       "'keskusta'"
      ]
     },
     "execution_count": 11,
     "metadata": {},
     "output_type": "execute_result"
    }
   ],
   "source": [
    "model.wv.doesnt_match(['keskusta', 'juha_sipilä', 'orpo'])"
   ]
  },
  {
   "cell_type": "code",
   "execution_count": 12,
   "metadata": {
    "scrolled": true
   },
   "outputs": [
    {
     "data": {
      "text/plain": [
       "'juha_sipilä'"
      ]
     },
     "execution_count": 12,
     "metadata": {},
     "output_type": "execute_result"
    }
   ],
   "source": [
    "model.wv.doesnt_match(['kokoomus', 'juha_sipilä', 'orpo'])"
   ]
  },
  {
   "cell_type": "markdown",
   "metadata": {
    "_uuid": "df95cdff693e843ab4b4c174fea24029447573cd"
   },
   "source": [
    "## Analogy difference:"
   ]
  },
  {
   "cell_type": "code",
   "execution_count": 13,
   "metadata": {
    "_uuid": "812961e79dde9f2032f708755ca287c0aef838d0"
   },
   "outputs": [
    {
     "data": {
      "text/plain": [
       "[('petter_orpo', 0.5228233337402344),\n",
       " ('räsän', 0.3894343972206116),\n",
       " ('räsäs', 0.3879562318325043)]"
      ]
     },
     "execution_count": 13,
     "metadata": {},
     "output_type": "execute_result"
    }
   ],
   "source": [
    "model.wv.most_similar(positive=[\"orpo\"], negative=[\"keskusta\",\"sipilä\"], topn=3)"
   ]
  },
  {
   "cell_type": "markdown",
   "metadata": {
    "_uuid": "773c0acc8750ba8e728ff261f2e9ec39694c245c"
   },
   "source": [
    "### t-SNE visualizations:"
   ]
  },
  {
   "cell_type": "code",
   "execution_count": 14,
   "metadata": {},
   "outputs": [],
   "source": [
    "from plotting import TSNE_scatterplot"
   ]
  },
  {
   "cell_type": "markdown",
   "metadata": {
    "_uuid": "c73fc2faaf0baecc84f02a97b50cb9ccefa48686"
   },
   "source": [
    "## 10 Most similar words vs. 10 Most dissimilar\n"
   ]
  },
  {
   "cell_type": "code",
   "execution_count": 15,
   "metadata": {
    "_uuid": "10c77b072f7c281f2be919341be116565c20d8a8"
   },
   "outputs": [
    {
     "data": {
      "image/png": "[encoded data removed]",
      "text/plain": [
       "<Figure size 792x288 with 1 Axes>"
      ]
     },
     "metadata": {
      "needs_background": "light"
     },
     "output_type": "display_data"
    }
   ],
   "source": [
    "TSNE_scatterplot(model, 'keskusta', \"orpo\", save=True)"
   ]
  },
  {
   "cell_type": "code",
   "execution_count": null,
   "metadata": {},
   "outputs": [],
   "source": []
  }
 ],
 "metadata": {
  "kernelspec": {
   "display_name": "Python 3",
   "language": "python",
   "name": "python3"
  },
  "language_info": {
   "codemirror_mode": {
    "name": "ipython",
    "version": 3
   },
   "file_extension": ".py",
   "mimetype": "text/x-python",
   "name": "python",
   "nbconvert_exporter": "python",
   "pygments_lexer": "ipython3",
   "version": "3.6.7"
  }
 },
 "nbformat": 4,
 "nbformat_minor": 1
}
